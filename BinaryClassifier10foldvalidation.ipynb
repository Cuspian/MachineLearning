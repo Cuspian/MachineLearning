{
 "cells": [
  {
   "cell_type": "code",
   "execution_count": 1,
   "metadata": {
    "collapsed": true
   },
   "outputs": [],
   "source": [
    "from chordextractor import ChordExtractor\n",
    "import chordgraph\n",
    "\n",
    "import numpy as np\n",
    "from sklearn.model_selection import train_test_split\n",
    "from sklearn import svm\n",
    "from scipy.stats import itemfreq\n",
    "import time\n",
    "import os\n",
    "import pickle\n",
    "import math\n",
    "from sklearn.metrics import confusion_matrix\n",
    "import matplotlib.pyplot as plt\n",
    "import itertools\n",
    "from sklearn.linear_model import Lasso\n",
    "%matplotlib inline "
   ]
  },
  {
   "cell_type": "markdown",
   "metadata": {},
   "source": [
    "## Functions to get vectors from MIDI files for chords, pitches and durations"
   ]
  },
  {
   "cell_type": "code",
   "execution_count": 2,
   "metadata": {
    "collapsed": true
   },
   "outputs": [],
   "source": [
    "# Get file names of type type_ in all the subdirectories of the path\n",
    "def get_filenames(path, type_ = None):\n",
    "    if type_ == None:\n",
    "        return sum(map(lambda walks: (map(lambda name: os.path.join(walks[0], name),\n",
    "                                                                           walks[2])), os.walk(path)), [])\n",
    "    else:\n",
    "        return filter(lambda f: f.endswith(type_), sum(map(lambda walks: (map(lambda name: os.path.join(walks[0], name),\n",
    "                                                                           walks[2])), os.walk(path)), []))\n",
    "       \n",
    "# Getting set of all possible chords after normalization        \n",
    "chord_encode =  {k: i for k, i in zip(chordgraph.ChordGraph().normalized_chords,\n",
    "                                      range(len(chordgraph.ChordGraph().normalized_chords)))}        \n",
    "        \n",
    "# Enumerating chords for processing and storage optimization\n",
    "def encode_chords(chords, encoder = None, type_ = None):\n",
    "    if type_ == 'chord':\n",
    "        return map(lambda chord: encoder[chord], chords)\n",
    "    return chords\n",
    "\n",
    "# Generate all sequences of 4 consecutive notes\n",
    "def get_sequences(data):\n",
    "    #for seq in imap(lambda i: [data[i], data[i+1], data[i+2], data[i+3]], range(0, len(data)-3)):\n",
    "    #    yield seq\n",
    "    return map(lambda i: [data[i], data[i+1], data[i+2], data[i+3]], range(0, len(data)-3))\n",
    "\n",
    "# Returns index of the note quartet in the vector\n",
    "def notestoindex(numbers, num):\n",
    "    return reduce(lambda x, y: num*x+y, numbers)\n",
    "\n",
    "# Build vector of ocurrences of note quartets\n",
    "def build_vector(sequence, num):\n",
    "    vector = [0] * num**4\n",
    "    seqs_indexed = map(notestoindex, sequence, [num]*len(sequence))\n",
    "    for x in itemfreq(seqs_indexed):\n",
    "        vector[x[0]] = x[1]\n",
    "    return vector\n",
    "\n",
    "def vector_from_file(filename_):\n",
    "    extractor = ChordExtractor(filename_)\n",
    "    chord_vector = build_vector(get_sequences(encode_chords(extractor.getNormalizedChords(), chord_encode, 'chord')),14)\n",
    "    pitch_vector = build_vector(get_sequences(encode_chords(extractor.getNormalizedPitches())),12)\n",
    "    return chord_vector, pitch_vector\n",
    "\n",
    "#normalizedChords = extractor.getNormalizedChords()\n",
    "#normalizedPitches = extractor.getNormalizedPitches()\n",
    "# normalizedDurations = extractor.getChordDurations()\n",
    "\n",
    "# Build vectors from MIDI files and pickle them\n",
    "def vectors_from_files(path, class_, count):\n",
    "    files = map(lambda x: x[0], sorted(map(lambda f: [f, os.stat(f).st_size], get_filenames(path)), \n",
    "                                   key = lambda x: x[1]))[:count]\n",
    "    c = 0\n",
    "    for name in files:\n",
    "        try: \n",
    "            with open(str(class_)+str(c)+\".dat\", \"wb\") as f:\n",
    "                pickle.dump(vector_from_file(name), f)\n",
    "                print name+\" done\"\n",
    "                print str(class_)+str(c)+\".dat\"\n",
    "                c+=1\n",
    "        except:\n",
    "            print \"Couldn't process \" + name + \" because Music 21 encountered an error.\"\n",
    "    #X = map(lambda name: vector_from_file(name), files)\n",
    "    return True\n",
    "\n",
    "# Loading vectors from pickles\n",
    "def get_vectors_from_pickles(path):\n",
    "    class0 = filter(lambda x: x.split('/')[-1][0]=='0', get_filenames(path, \".dat\"))\n",
    "    class1 = filter(lambda x: x.split('/')[-1][0]=='1', get_filenames(path, \".dat\"))\n",
    "    vector0 = []\n",
    "    vector1 = []\n",
    "    for name in class0:\n",
    "        with open(name, \"rb\") as f:\n",
    "            vector0.append(pickle.load(f))\n",
    "    for name in class1:\n",
    "        with open(name, \"rb\") as f:\n",
    "            vector1.append(pickle.load(f))\n",
    "    return vector0, vector1\n",
    "\n",
    "def plot_confusion_matrix(cm, classes,\n",
    "                          normalize=False,\n",
    "                          title='Confusion matrix',\n",
    "                          cmap=plt.cm.Blues):\n",
    "    \"\"\"\n",
    "    This function prints and plots the confusion matrix.\n",
    "    Normalization can be applied by setting `normalize=True`.\n",
    "    \"\"\"\n",
    "    plt.imshow(cm, interpolation='nearest', cmap=cmap)\n",
    "    plt.title(title)\n",
    "    plt.colorbar()\n",
    "    tick_marks = np.arange(len(classes))\n",
    "    plt.xticks(tick_marks, classes, rotation=45)\n",
    "    plt.yticks(tick_marks, classes)\n",
    "\n",
    "    if normalize:\n",
    "        cm = cm.astype('float') / cm.sum(axis=1)[:, np.newaxis]\n",
    "        print(\"Normalized confusion matrix\")\n",
    "    else:\n",
    "        print('Confusion matrix, without normalization')\n",
    "\n",
    "    print(cm)\n",
    "\n",
    "    thresh = cm.max() / 2.\n",
    "    for i, j in itertools.product(range(cm.shape[0]), range(cm.shape[1])):\n",
    "        plt.text(j, i, cm[i, j],\n",
    "                 horizontalalignment=\"center\",\n",
    "                 color=\"white\" if cm[i, j] > thresh else \"black\")\n",
    "\n",
    "    plt.tight_layout()\n",
    "    plt.ylabel('True label')\n",
    "    plt.xlabel('Predicted label')"
   ]
  },
  {
   "cell_type": "markdown",
   "metadata": {},
   "source": [
    "## Rename files, get vectors"
   ]
  },
  {
   "cell_type": "code",
   "execution_count": 3,
   "metadata": {},
   "outputs": [],
   "source": [
    "# path_to_class0 = './extra/'\n",
    "# path_to_class1 = './60s/'\n",
    "# # Renaming 50s and 60s .kar to .mid\n",
    "# map1 = map(lambda name: os.rename(name, name.replace(\".kar\", \".mid\").replace(\".KAR\", \".mid\")), \n",
    "#            get_filenames(path_to_class0))\n",
    "# map2 = map(lambda name: os.rename(name, name.replace(\".kar\", \".mid\").replace(\".KAR\", \".mid\")), \n",
    "#            get_filenames(path_to_class1))\n",
    "\n",
    "# # Identifying the smallest directory in terms of number of midis\n",
    "# midi_count = min(len(get_filenames(path_to_class0)), len(get_filenames(path_to_class1)))\n",
    "# midi_count"
   ]
  },
  {
   "cell_type": "code",
   "execution_count": 4,
   "metadata": {
    "scrolled": true
   },
   "outputs": [],
   "source": [
    "# start_time = time.time()\n",
    "# vectors = vectors_from_files(path_to_class0, 3, 72)\n",
    "# print \"Class 3 is done\"\n",
    "# print(\"--- %s seconds ---\" % (time.time() - start_time))\n",
    "# vectors2 = vectors_from_files(path_to_class1, 2, 76)\n",
    "# print \"Class 2 is done\"\n",
    "# print(\"--- %s seconds ---\" % (time.time() - start_time))"
   ]
  },
  {
   "cell_type": "code",
   "execution_count": 5,
   "metadata": {
    "collapsed": true
   },
   "outputs": [],
   "source": [
    "# extractor = ChordExtractor(fileName=\"albeniz.mid\")\n",
    "# normalizedChords = extractor.getNormalizedChords()\n",
    "# normalizedPitches = extractor.getNormalizedPitches()\n",
    "# normalizedDurations = extractor.getChordDurations()\n",
    "# type(normalizedDurations)"
   ]
  },
  {
   "cell_type": "code",
   "execution_count": 6,
   "metadata": {
    "collapsed": true
   },
   "outputs": [],
   "source": [
    "# Separating chords and pitches, mixing classes so they are spread evenly in the sample set\n",
    "vector0, vector1 = get_vectors_from_pickles('vectors')\n",
    "chordvector0 = map(lambda x: x[0], vector0)\n",
    "chordvector1 = map(lambda x: x[0], vector1)\n",
    "pitchvector0 = map(lambda x: x[1], vector0)\n",
    "pitchvector1 = map(lambda x: x[1], vector1)\n",
    "X_chord = chordvector0+chordvector1\n",
    "X_pitch = pitchvector0+pitchvector1\n",
    "Y = [0]*72+[1]*72\n",
    "X_chord = sum(map(lambda x: [X_chord[x], X_chord[x+72]], range(len(X_chord)/2)), [])\n",
    "X_pitch = sum(map(lambda x: [X_pitch[x], X_pitch[x+72]], range(len(X_pitch)/2)), [])\n",
    "Y = sum(map(lambda y: [Y[y], Y[y+72]], range(len(Y)/2)), [])"
   ]
  },
  {
   "cell_type": "code",
   "execution_count": 7,
   "metadata": {
    "collapsed": true
   },
   "outputs": [],
   "source": [
    "def rotate(list_, count):\n",
    "    return sum([list_[-count:]]+[list_[:-count]], [])"
   ]
  },
  {
   "cell_type": "code",
   "execution_count": 8,
   "metadata": {
    "collapsed": true
   },
   "outputs": [],
   "source": [
    "# Fitting the parameter C for the SVM model on the training / validation\n",
    "# Function to train SVM on training set and to predict the validation set\n",
    "def trainpredict(degree, C):\n",
    "    clf = svm.SVC(kernel = 'rbf', degree = degree, C = C) \n",
    "    clf.fit(X_train, Y_train)\n",
    "    return (Y_valid == clf.predict(X_valid)).sum()*100/len(Y_valid), degree, C\n",
    "\n",
    "# Function to fit poly SVMs of degrees 1 to 4 each with Cs from the list\n",
    "def fitDegree_C():\n",
    "    return map(lambda degree: map(trainpredict, [degree]*len(np.linspace(-1, 2*degree, 70)),\n",
    "                            map(lambda c: math.exp(c), np.linspace(-1, 2*degree, 70))), range(3, 4)) "
   ]
  },
  {
   "cell_type": "markdown",
   "metadata": {},
   "source": [
    "# SVM\n",
    "\n",
    "## Chords"
   ]
  },
  {
   "cell_type": "code",
   "execution_count": 9,
   "metadata": {},
   "outputs": [
    {
     "name": "stdout",
     "output_type": "stream",
     "text": [
      "Rotation  0\n",
      "Rotation  1\n",
      "Rotation  2\n",
      "Rotation  3\n",
      "Rotation  4\n",
      "Rotation  5\n",
      "Rotation  6\n",
      "Rotation  7\n",
      "Rotation  8\n",
      "Rotation  9\n"
     ]
    }
   ],
   "source": [
    "# Chords\n",
    "X_chord_ = X_chord\n",
    "Y_ = Y\n",
    "Y_predict = []\n",
    "Y_original = []\n",
    "best_fits = []\n",
    "for i in range(10):\n",
    "    print \"Rotation \", i\n",
    "    test = int(len(X_pitch)*0.1)\n",
    "    valid = int(len(X_pitch)*0.10)+test\n",
    "    Y_test = Y_[-test:]\n",
    "    Y_valid = Y_[-valid:-test]\n",
    "    Y_train = Y_[:-valid]\n",
    "    X_test = X_chord_[-test:]\n",
    "    X_valid = X_chord_[-valid:-test]\n",
    "    X_train = X_chord_[:-valid]\n",
    "    fit_ = fitDegree_C()\n",
    "    flatten = sum(fit_, [])\n",
    "    best_fit = max(enumerate(flatten), key = lambda x: x[1])\n",
    "    best_fits.append(best_fit)\n",
    "    clf = svm.SVC(kernel = 'rbf', degree = best_fit[1][1], C=best_fit[1][-1])\n",
    "    clf.fit(X_train, Y_train)\n",
    "    Y_predict.append(clf.predict(X_test))\n",
    "    Y_original.append(Y_test)\n",
    "    \n",
    "    X_chord_ = rotate(X_chord_, int(len(X_chord_)*0.1))\n",
    "    Y_ = rotate(Y_, int(len(Y_)*0.1))"
   ]
  },
  {
   "cell_type": "code",
   "execution_count": 10,
   "metadata": {},
   "outputs": [],
   "source": [
    "Y_predict_chord = np.asarray(sum(map(lambda y: list(y), Y_predict), []))\n",
    "Y_origin_chord = np.asarray(sum(map(lambda y: list(y), Y_original), []))"
   ]
  },
  {
   "cell_type": "code",
   "execution_count": 11,
   "metadata": {},
   "outputs": [
    {
     "name": "stdout",
     "output_type": "stream",
     "text": [
      "We predict the 92 percent of test data\n"
     ]
    }
   ],
   "source": [
    "# Checkng on the test set\n",
    "print \"We predict the {} percent of test data\".format((Y_origin_chord==Y_predict_chord).sum()*100/len(Y_origin_chord))"
   ]
  },
  {
   "cell_type": "code",
   "execution_count": 12,
   "metadata": {},
   "outputs": [
    {
     "data": {
      "text/plain": [
       "[(33, (92, 3, 10.462799766856273)),\n",
       " (69, (92, 3, 403.4287934927351)),\n",
       " (25, (92, 3, 4.64704662802342)),\n",
       " (69, (92, 3, 403.4287934927351)),\n",
       " (69, (92, 3, 403.4287934927351)),\n",
       " (69, (92, 3, 403.4287934927351)),\n",
       " (69, (100, 3, 403.4287934927351)),\n",
       " (69, (92, 3, 403.4287934927351)),\n",
       " (69, (78, 3, 403.4287934927351)),\n",
       " (27, (100, 3, 5.692391364380964))]"
      ]
     },
     "execution_count": 12,
     "metadata": {},
     "output_type": "execute_result"
    }
   ],
   "source": [
    "best_fits"
   ]
  },
  {
   "cell_type": "code",
   "execution_count": 13,
   "metadata": {},
   "outputs": [
    {
     "name": "stdout",
     "output_type": "stream",
     "text": [
      "Confusion matrix, without normalization\n",
      "[[60 10]\n",
      " [ 1 69]]\n"
     ]
    },
    {
     "data": {
      "image/png": "[encoded data removed]",
      "text/plain": [
       "<matplotlib.figure.Figure at 0x7f60235102d0>"
      ]
     },
     "metadata": {},
     "output_type": "display_data"
    }
   ],
   "source": [
    "# Confusion matrix\n",
    "plt.figure()\n",
    "plot_confusion_matrix(confusion_matrix(Y_origin_chord, Y_predict_chord), classes=['70s', '80s'], normalize=False,\n",
    "                      title='SVM Chord confusion matrix')"
   ]
  },
  {
   "cell_type": "code",
   "execution_count": 14,
   "metadata": {},
   "outputs": [
    {
     "name": "stdout",
     "output_type": "stream",
     "text": [
      "Normalized confusion matrix\n",
      "[[ 0.85714286  0.14285714]\n",
      " [ 0.01428571  0.98571429]]\n"
     ]
    },
    {
     "data": {
      "image/png": "[encoded data removed]",
      "text/plain": [
       "<matplotlib.figure.Figure at 0x7f5fae46f950>"
      ]
     },
     "metadata": {},
     "output_type": "display_data"
    }
   ],
   "source": [
    "plot_confusion_matrix(confusion_matrix(Y_origin_chord, Y_predict_chord), classes=['70s', '80s'], normalize=True,\n",
    "                      title='SVM Chord normalized confusion matrix')"
   ]
  },
  {
   "cell_type": "markdown",
   "metadata": {},
   "source": [
    "# SVM\n",
    "\n",
    "## Pitches"
   ]
  },
  {
   "cell_type": "code",
   "execution_count": 15,
   "metadata": {},
   "outputs": [
    {
     "name": "stdout",
     "output_type": "stream",
     "text": [
      "Rotation  0\n",
      "Rotation  1\n",
      "Rotation  2\n",
      "Rotation  3\n",
      "Rotation  4\n",
      "Rotation  5\n",
      "Rotation  6\n",
      "Rotation  7\n",
      "Rotation  8\n",
      "Rotation  9\n"
     ]
    }
   ],
   "source": [
    "# Pitches\n",
    "X_pitch_ = X_pitch\n",
    "Y_ = Y\n",
    "Y_predict = []\n",
    "Y_original = []\n",
    "best_fits = []\n",
    "for i in range(10):\n",
    "    print \"Rotation \", i\n",
    "    test = int(len(X_pitch)*0.1)\n",
    "    valid = int(len(X_pitch)*0.10)+test\n",
    "    Y_test = Y_[-test:]\n",
    "    Y_valid = Y_[-valid:-test]\n",
    "    Y_train = Y_[:-valid]\n",
    "    X_test = X_pitch_[-test:]\n",
    "    X_valid = X_pitch_[-valid:-test]\n",
    "    X_train = X_pitch_[:-valid]\n",
    "    fit_ = fitDegree_C()\n",
    "    flatten = sum(fit_, [])\n",
    "    best_fit = max(enumerate(flatten), key = lambda x: x[1])\n",
    "    best_fits.append(best_fit)\n",
    "    clf = svm.SVC(kernel = 'rbf', degree = best_fit[1][1], C=best_fit[1][-1])\n",
    "    clf.fit(X_train, Y_train)\n",
    "    Y_predict.append(clf.predict(X_test))\n",
    "    Y_original.append(Y_test)\n",
    "    \n",
    "    X_pitch_ = rotate(X_pitch_, int(len(X_pitch_)*0.1))\n",
    "    Y_ = rotate(Y_, int(len(Y_)*0.1))"
   ]
  },
  {
   "cell_type": "code",
   "execution_count": 16,
   "metadata": {
    "collapsed": true
   },
   "outputs": [],
   "source": [
    "Y_predict_pitch = np.asarray(sum(map(lambda y: list(y), Y_predict), []))\n",
    "Y_origin_pitch = np.asarray(sum(map(lambda y: list(y), Y_original), []))"
   ]
  },
  {
   "cell_type": "code",
   "execution_count": 17,
   "metadata": {},
   "outputs": [
    {
     "name": "stdout",
     "output_type": "stream",
     "text": [
      "We predict the 97 percent of test data\n"
     ]
    }
   ],
   "source": [
    "# Checkng on the test set\n",
    "print \"We predict the {} percent of test data\".format((Y_origin_pitch==Y_predict_pitch).sum()*100/len(Y_origin_pitch))"
   ]
  },
  {
   "cell_type": "code",
   "execution_count": 18,
   "metadata": {},
   "outputs": [
    {
     "data": {
      "text/plain": [
       "[(69, (100, 3, 403.4287934927351)),\n",
       " (69, (100, 3, 403.4287934927351)),\n",
       " (69, (100, 3, 403.4287934927351)),\n",
       " (69, (92, 3, 403.4287934927351)),\n",
       " (69, (100, 3, 403.4287934927351)),\n",
       " (69, (100, 3, 403.4287934927351)),\n",
       " (69, (100, 3, 403.4287934927351)),\n",
       " (69, (100, 3, 403.4287934927351)),\n",
       " (69, (85, 3, 403.4287934927351)),\n",
       " (7, (100, 3, 0.7483720194325066))]"
      ]
     },
     "execution_count": 18,
     "metadata": {},
     "output_type": "execute_result"
    }
   ],
   "source": [
    "best_fits"
   ]
  },
  {
   "cell_type": "code",
   "execution_count": 19,
   "metadata": {},
   "outputs": [
    {
     "name": "stdout",
     "output_type": "stream",
     "text": [
      "Confusion matrix, without normalization\n",
      "[[68  2]\n",
      " [ 1 69]]\n"
     ]
    },
    {
     "data": {
      "image/png": "[encoded data removed]",
      "text/plain": [
       "<matplotlib.figure.Figure at 0x7f5fae3f8e10>"
      ]
     },
     "metadata": {},
     "output_type": "display_data"
    }
   ],
   "source": [
    "# Confusion matrix\n",
    "plt.figure()\n",
    "plot_confusion_matrix(confusion_matrix(Y_origin_pitch, Y_predict_pitch), classes=['70s', '80s'], normalize=False,\n",
    "                      title='SVM Pitch confusion matrix')"
   ]
  },
  {
   "cell_type": "code",
   "execution_count": 20,
   "metadata": {},
   "outputs": [
    {
     "name": "stdout",
     "output_type": "stream",
     "text": [
      "Normalized confusion matrix\n",
      "[[ 0.97142857  0.02857143]\n",
      " [ 0.01428571  0.98571429]]\n"
     ]
    },
    {
     "data": {
      "image/png": "[encoded data removed]",
      "text/plain": [
       "<matplotlib.figure.Figure at 0x7f5fae438750>"
      ]
     },
     "metadata": {},
     "output_type": "display_data"
    }
   ],
   "source": [
    "plot_confusion_matrix(confusion_matrix(Y_origin_pitch, Y_predict_pitch), classes=['70s', '80s'], normalize=True,\n",
    "                      title='SVM Pitch normalized confusion matrix')"
   ]
  },
  {
   "cell_type": "markdown",
   "metadata": {},
   "source": [
    "# LASSO\n",
    "\n",
    "## Chords"
   ]
  },
  {
   "cell_type": "code",
   "execution_count": 35,
   "metadata": {},
   "outputs": [],
   "source": [
    "# Fitting the parameter alpha for the LASSO model on the training / validation\n",
    "# Function to train LASSO on training set and to predict the validation set\n",
    "def trainpredict_L(alpha):\n",
    "    lassoreg = Lasso(alpha = alpha, normalize = False, max_iter = 1e5)\n",
    "    lassoreg.fit(X_train, Y_train)\n",
    "    Y_predict = np.round(lassoreg.predict(X_valid))\n",
    "    return (Y_valid == Y_predict).sum()*100/len(Y_valid), alpha\n",
    "\n",
    "# Function to fit alpha for LASSO\n",
    "def fitalpha():\n",
    "    return map(lambda alpha: trainpredict_L(alpha), np.linspace(0, 2, 100))\n",
    "\n",
    "def normalize(predictions):\n",
    "    def positive(prediction):\n",
    "        if prediction<0:\n",
    "            return 0\n",
    "        if prediction>1:\n",
    "            return 1\n",
    "        return prediction\n",
    "    return np.asarray(map(positive, predictions))\n",
    "\n",
    "# Fitting the alpha\n",
    "#fitted = fitalpha()"
   ]
  },
  {
   "cell_type": "code",
   "execution_count": 22,
   "metadata": {},
   "outputs": [
    {
     "name": "stdout",
     "output_type": "stream",
     "text": [
      "Rotation  0\n"
     ]
    },
    {
     "name": "stderr",
     "output_type": "stream",
     "text": [
      "/home/denis/anaconda2/lib/python2.7/site-packages/ipykernel/__main__.py:5: UserWarning: With alpha=0, this algorithm does not converge well. You are advised to use the LinearRegression estimator\n",
      "/home/denis/anaconda2/lib/python2.7/site-packages/sklearn/linear_model/coordinate_descent.py:470: UserWarning: Coordinate descent with alpha=0 may lead to unexpected results and is discouraged.\n",
      "  positive)\n"
     ]
    },
    {
     "name": "stdout",
     "output_type": "stream",
     "text": [
      "Rotation  1\n",
      "Rotation  2\n",
      "Rotation  3\n",
      "Rotation  4\n",
      "Rotation  5\n"
     ]
    },
    {
     "name": "stderr",
     "output_type": "stream",
     "text": [
      "/home/denis/anaconda2/lib/python2.7/site-packages/ipykernel/__main__.py:21: UserWarning: With alpha=0, this algorithm does not converge well. You are advised to use the LinearRegression estimator\n"
     ]
    },
    {
     "name": "stdout",
     "output_type": "stream",
     "text": [
      "Rotation  6\n",
      "Rotation  7\n",
      "Rotation  8\n",
      "Rotation  9\n"
     ]
    }
   ],
   "source": [
    "# Chords\n",
    "X_chord_ = X_chord\n",
    "Y_ = Y\n",
    "Y_predict = []\n",
    "Y_original = []\n",
    "best_fits = []\n",
    "for i in range(10):\n",
    "    print \"Rotation \", i\n",
    "    test = int(len(X_pitch)*0.1)\n",
    "    valid = int(len(X_pitch)*0.10)+test\n",
    "    Y_test = Y_[-test:]\n",
    "    Y_valid = Y_[-valid:-test]\n",
    "    Y_train = Y_[:-valid]\n",
    "    X_test = X_chord_[-test:]\n",
    "    X_valid = X_chord_[-valid:-test]\n",
    "    X_train = X_chord_[:-valid]\n",
    "    fit_ = fitalpha()\n",
    "    best_fit = max(enumerate(fit_), key = lambda x: x[1])\n",
    "    best_fits.append(best_fit)\n",
    "    lassoreg = Lasso(alpha = best_fit[1][-1], normalize = False, max_iter = 1e5)\n",
    "    lassoreg.fit(X_train, Y_train)\n",
    "    Y_predict.append(np.round(lassoreg.predict(X_valid)))\n",
    "    Y_original.append(Y_test)\n",
    "    \n",
    "    X_chord_ = rotate(X_chord_, int(len(X_chord_)*0.1))\n",
    "    Y_ = rotate(Y_, int(len(Y_)*0.1))"
   ]
  },
  {
   "cell_type": "code",
   "execution_count": 23,
   "metadata": {},
   "outputs": [],
   "source": [
    "# Looking for the optimal parameters\n",
    "#max(enumerate(fitted), key = lambda x: x[1])\n",
    "Y_predict_chord = np.asarray(normalize(sum(map(lambda y: list(y), Y_predict), [])))\n",
    "Y_origin_chord = np.asarray(sum(map(lambda y: list(y), Y_original), []))"
   ]
  },
  {
   "cell_type": "code",
   "execution_count": 24,
   "metadata": {},
   "outputs": [
    {
     "name": "stdout",
     "output_type": "stream",
     "text": [
      "We predict the 94 percent of test data\n"
     ]
    }
   ],
   "source": [
    "# Checkng on the test set\n",
    "print \"We predict the {} percent of test data\".format((Y_origin_chord==Y_predict_chord).sum()*100/len(Y_origin_chord))"
   ]
  },
  {
   "cell_type": "code",
   "execution_count": 25,
   "metadata": {},
   "outputs": [
    {
     "data": {
      "text/plain": [
       "[(3, (100, 0.060606060606060608)),\n",
       " (3, (100, 0.060606060606060608)),\n",
       " (1, (92, 0.020202020202020204)),\n",
       " (1, (92, 0.020202020202020204)),\n",
       " (3, (92, 0.060606060606060608)),\n",
       " (0, (100, 0.0)),\n",
       " (2, (92, 0.040404040404040407)),\n",
       " (0, (100, 0.0)),\n",
       " (17, (92, 0.34343434343434348)),\n",
       " (5, (71, 0.10101010101010102))]"
      ]
     },
     "execution_count": 25,
     "metadata": {},
     "output_type": "execute_result"
    }
   ],
   "source": [
    "best_fits"
   ]
  },
  {
   "cell_type": "code",
   "execution_count": 26,
   "metadata": {},
   "outputs": [
    {
     "name": "stdout",
     "output_type": "stream",
     "text": [
      "Confusion matrix, without normalization\n",
      "[[63  7]\n",
      " [ 1 69]]\n"
     ]
    },
    {
     "data": {
      "image/png": "[encoded data removed]",
      "text/plain": [
       "<matplotlib.figure.Figure at 0x7f5fae46ffd0>"
      ]
     },
     "metadata": {},
     "output_type": "display_data"
    }
   ],
   "source": [
    "# Confusion matrix\n",
    "plt.figure()\n",
    "plot_confusion_matrix(confusion_matrix(Y_origin_chord, Y_predict_chord), classes=['70s', '80s'], normalize=False,\n",
    "                      title='LASSO chord confusion matrix')"
   ]
  },
  {
   "cell_type": "code",
   "execution_count": 27,
   "metadata": {},
   "outputs": [
    {
     "name": "stdout",
     "output_type": "stream",
     "text": [
      "Normalized confusion matrix\n",
      "[[ 0.9         0.1       ]\n",
      " [ 0.01428571  0.98571429]]\n"
     ]
    },
    {
     "data": {
      "image/png": "[encoded data removed]",
      "text/plain": [
       "<matplotlib.figure.Figure at 0x7f5fb0f34810>"
      ]
     },
     "metadata": {},
     "output_type": "display_data"
    }
   ],
   "source": [
    "plot_confusion_matrix(confusion_matrix(Y_origin_chord, Y_predict_chord), classes=['70s', '80s'], normalize=True,\n",
    "                      title='LASSO chord normalized confusion matrix')"
   ]
  },
  {
   "cell_type": "markdown",
   "metadata": {},
   "source": [
    "# Linear Regression LASSO\n",
    "\n",
    "## Pithces"
   ]
  },
  {
   "cell_type": "code",
   "execution_count": 28,
   "metadata": {},
   "outputs": [
    {
     "name": "stdout",
     "output_type": "stream",
     "text": [
      "Rotation  0"
     ]
    },
    {
     "name": "stderr",
     "output_type": "stream",
     "text": [
      "/home/denis/anaconda2/lib/python2.7/site-packages/ipykernel/__main__.py:5: UserWarning: With alpha=0, this algorithm does not converge well. You are advised to use the LinearRegression estimator\n"
     ]
    },
    {
     "name": "stdout",
     "output_type": "stream",
     "text": [
      "\n",
      "Rotation  1\n",
      "Rotation  2\n",
      "Rotation  3\n",
      "Rotation  4\n",
      "Rotation  5\n",
      "Rotation  6\n",
      "Rotation  7\n",
      "Rotation  8\n",
      "Rotation  9\n"
     ]
    }
   ],
   "source": [
    "# Chords\n",
    "X_pitch_ = X_pitch\n",
    "Y_ = Y\n",
    "Y_predict = []\n",
    "Y_original = []\n",
    "best_fits = []\n",
    "for i in range(10):\n",
    "    print \"Rotation \", i\n",
    "    test = int(len(X_pitch)*0.1)\n",
    "    valid = int(len(X_pitch)*0.10)+test\n",
    "    Y_test = Y_[-test:]\n",
    "    Y_valid = Y_[-valid:-test]\n",
    "    Y_train = Y_[:-valid]\n",
    "    X_test = X_pitch_[-test:]\n",
    "    X_valid = X_pitch_[-valid:-test]\n",
    "    X_train = X_pitch_[:-valid]\n",
    "    fit_ = fitalpha()\n",
    "    best_fit = max(enumerate(fit_), key = lambda x: x[1])\n",
    "    best_fits.append(best_fit)\n",
    "    lassoreg = Lasso(alpha = best_fit[1][-1], normalize = False, max_iter = 1e5)\n",
    "    lassoreg.fit(X_train, Y_train)\n",
    "    Y_predict.append(np.round(lassoreg.predict(X_valid)))\n",
    "    Y_original.append(Y_test)\n",
    "    \n",
    "    X_pitch_ = rotate(X_chord_, int(len(X_pitch_)*0.1))\n",
    "    Y_ = rotate(Y_, int(len(Y_)*0.1))"
   ]
  },
  {
   "cell_type": "code",
   "execution_count": 36,
   "metadata": {
    "collapsed": true
   },
   "outputs": [],
   "source": [
    "Y_predict_pitch = np.asarray(normalize(sum(map(lambda y: list(y), Y_predict), [])))\n",
    "Y_origin_pitch = np.asarray(sum(map(lambda y: list(y), Y_original), []))"
   ]
  },
  {
   "cell_type": "code",
   "execution_count": 37,
   "metadata": {},
   "outputs": [
    {
     "name": "stdout",
     "output_type": "stream",
     "text": [
      "We predict the 97 percent of test data\n"
     ]
    }
   ],
   "source": [
    "# Checkng on the test set\n",
    "print \"We predict the {} percent of test data\".format((Y_origin_pitch==Y_predict_pitch).sum()*100/len(Y_origin_pitch))"
   ]
  },
  {
   "cell_type": "code",
   "execution_count": 38,
   "metadata": {},
   "outputs": [
    {
     "data": {
      "text/plain": [
       "[(8, (78, 0.16161616161616163)),\n",
       " (3, (100, 0.060606060606060608)),\n",
       " (3, (100, 0.060606060606060608)),\n",
       " (3, (100, 0.060606060606060608)),\n",
       " (3, (100, 0.060606060606060608)),\n",
       " (3, (100, 0.060606060606060608)),\n",
       " (3, (100, 0.060606060606060608)),\n",
       " (3, (100, 0.060606060606060608)),\n",
       " (3, (100, 0.060606060606060608)),\n",
       " (3, (100, 0.060606060606060608))]"
      ]
     },
     "execution_count": 38,
     "metadata": {},
     "output_type": "execute_result"
    }
   ],
   "source": [
    "best_fits"
   ]
  },
  {
   "cell_type": "code",
   "execution_count": 39,
   "metadata": {},
   "outputs": [
    {
     "name": "stdout",
     "output_type": "stream",
     "text": [
      "Confusion matrix, without normalization\n",
      "[[67  3]\n",
      " [ 0 70]]\n"
     ]
    },
    {
     "data": {
      "image/png": "[encoded data removed]",
      "text/plain": [
       "<matplotlib.figure.Figure at 0x7f5fac1cd1d0>"
      ]
     },
     "metadata": {},
     "output_type": "display_data"
    }
   ],
   "source": [
    "# Confusion matrix\n",
    "plt.figure()\n",
    "plot_confusion_matrix(confusion_matrix(Y_origin_pitch, Y_predict_pitch), classes=['70s', '80s'], normalize=False,\n",
    "                      title='LASSO pitch confusion matrix')"
   ]
  },
  {
   "cell_type": "code",
   "execution_count": 40,
   "metadata": {},
   "outputs": [
    {
     "name": "stdout",
     "output_type": "stream",
     "text": [
      "Normalized confusion matrix\n",
      "[[ 0.95714286  0.04285714]\n",
      " [ 0.          1.        ]]\n"
     ]
    },
    {
     "data": {
      "image/png": "[encoded data removed]",
      "text/plain": [
       "<matplotlib.figure.Figure at 0x7f5fac174c90>"
      ]
     },
     "metadata": {},
     "output_type": "display_data"
    }
   ],
   "source": [
    "plot_confusion_matrix(confusion_matrix(Y_origin_pitch, Y_predict_pitch), classes=['70s', '80s'], normalize=True,\n",
    "                      title='LASSO pitch normalized confusion matrix')"
   ]
  }
 ],
 "metadata": {
  "anaconda-cloud": {},
  "kernelspec": {
   "display_name": "Python [default]",
   "language": "python",
   "name": "python2"
  },
  "language_info": {
   "codemirror_mode": {
    "name": "ipython",
    "version": 2
   },
   "file_extension": ".py",
   "mimetype": "text/x-python",
   "name": "python",
   "nbconvert_exporter": "python",
   "pygments_lexer": "ipython2",
   "version": "2.7.13"
  }
 },
 "nbformat": 4,
 "nbformat_minor": 2
}
