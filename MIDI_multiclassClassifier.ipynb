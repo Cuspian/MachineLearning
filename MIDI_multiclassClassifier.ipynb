{
 "cells": [
  {
   "cell_type": "code",
   "execution_count": 1,
   "metadata": {
    "collapsed": true
   },
   "outputs": [],
   "source": [
    "from chordextractor import ChordExtractor\n",
    "import chordgraph\n",
    "\n",
    "import numpy as np\n",
    "from sklearn.model_selection import train_test_split\n",
    "from sklearn import svm\n",
    "from scipy.stats import itemfreq\n",
    "import time\n",
    "import os\n",
    "import pickle\n",
    "import math\n",
    "from sklearn.metrics import confusion_matrix\n",
    "import matplotlib.pyplot as plt\n",
    "import itertools\n",
    "from sklearn.linear_model import Lasso\n",
    "%matplotlib inline "
   ]
  },
  {
   "cell_type": "markdown",
   "metadata": {},
   "source": [
    "## Functions to get vectors from MIDI files for chords, pitches and durations"
   ]
  },
  {
   "cell_type": "code",
   "execution_count": 2,
   "metadata": {
    "collapsed": true
   },
   "outputs": [],
   "source": [
    "# Get file names of type type_ in all the subdirectories of the path\n",
    "def get_filenames(path, type_ = None):\n",
    "    if type_ == None:\n",
    "        return sum(map(lambda walks: (map(lambda name: os.path.join(walks[0], name),\n",
    "                                                                           walks[2])), os.walk(path)), [])\n",
    "    else:\n",
    "        return filter(lambda f: f.endswith(type_), sum(map(lambda walks: (map(lambda name: os.path.join(walks[0], name),\n",
    "                                                                           walks[2])), os.walk(path)), []))\n",
    "       \n",
    "# Getting set of all possible chords after normalization        \n",
    "chord_encode =  {k: i for k, i in zip(chordgraph.ChordGraph().normalized_chords,\n",
    "                                      range(len(chordgraph.ChordGraph().normalized_chords)))}        \n",
    "        \n",
    "# Enumerating chords for processing and storage optimization\n",
    "def encode_chords(chords, encoder = None, type_ = None):\n",
    "    if type_ == 'chord':\n",
    "        return map(lambda chord: encoder[chord], chords)\n",
    "    return chords\n",
    "\n",
    "# Generate all sequences of 4 consecutive notes\n",
    "def get_sequences(data):\n",
    "    return map(lambda i: [data[i], data[i+1], data[i+2], data[i+3]], range(0, len(data)-3))\n",
    "\n",
    "# Returns index of the note quartet in the vector\n",
    "def notestoindex(numbers, num):\n",
    "    return reduce(lambda x, y: num*x+y, numbers)\n",
    "\n",
    "# Build vector of ocurrences of note quartets\n",
    "def build_vector(sequence, num):\n",
    "    vector = [0] * num**4\n",
    "    seqs_indexed = map(notestoindex, sequence, [num]*len(sequence))\n",
    "    for x in itemfreq(seqs_indexed):\n",
    "        vector[x[0]] = x[1]\n",
    "    return vector\n",
    "\n",
    "def vector_from_file(filename_):\n",
    "    extractor = ChordExtractor(filename_)\n",
    "    chord_vector = build_vector(get_sequences(encode_chords(extractor.getNormalizedChords(), chord_encode, 'chord')),14)\n",
    "    pitch_vector = build_vector(get_sequences(encode_chords(extractor.getNormalizedPitches())),12)\n",
    "    return chord_vector, pitch_vector\n",
    "\n",
    "#normalizedChords = extractor.getNormalizedChords()\n",
    "#normalizedPitches = extractor.getNormalizedPitches()\n",
    "# normalizedDurations = extractor.getChordDurations()\n",
    "\n",
    "# Build vectors from MIDI files and pickle them\n",
    "def vectors_from_files(path, class_, count):\n",
    "    files = map(lambda x: x[0], sorted(map(lambda f: [f, os.stat(f).st_size], get_filenames(path)), \n",
    "                                   key = lambda x: x[1]))[:count]\n",
    "    c = 0\n",
    "    for name in files:\n",
    "        try: \n",
    "            with open(str(class_)+str(c)+\".dat\", \"wb\") as f:\n",
    "                pickle.dump(vector_from_file(name), f)\n",
    "                print name+\" done\"\n",
    "                print str(class_)+str(c)+\".dat\"\n",
    "                c+=1\n",
    "        except:\n",
    "            print \"Couldn't process \" + name + \" because Music 21 sucks.\"\n",
    "    #X = map(lambda name: vector_from_file(name), files)\n",
    "    return True\n",
    "\n",
    "# Loading vectors from pickles\n",
    "def get_vectors_from_pickles(path):\n",
    "    class0 = filter(lambda x: x.split('/')[-1][0]=='0', get_filenames(path, \".dat\"))\n",
    "    class1 = filter(lambda x: x.split('/')[-1][0]=='1', get_filenames(path, \".dat\"))\n",
    "    class2 = filter(lambda x: x.split('/')[-1][0]=='2', get_filenames(path, \".dat\"))\n",
    "    class3 = filter(lambda x: x.split('/')[-1][0]=='3', get_filenames(path, \".dat\"))\n",
    "    vector0 = []\n",
    "    vector1 = []\n",
    "    vector2 = []\n",
    "    vector3 = []\n",
    "    for name in class0:\n",
    "        with open(name, \"rb\") as f:\n",
    "            vector0.append(pickle.load(f))\n",
    "    for name in class1:\n",
    "        with open(name, \"rb\") as f:\n",
    "            vector1.append(pickle.load(f))\n",
    "    for name in class2:\n",
    "        with open(name, \"rb\") as f:\n",
    "            vector2.append(pickle.load(f))\n",
    "    for name in class3:\n",
    "        with open(name, \"rb\") as f:\n",
    "            vector3.append(pickle.load(f))\n",
    "    return vector0, vector1, vector2, vector3\n",
    "\n",
    "def plot_confusion_matrix(cm, classes, normalize = False, title = 'Confusion matrix', cmap = plt.cm.Blues):\n",
    "\n",
    "    plt.imshow(cm, interpolation='nearest', cmap=cmap)\n",
    "    plt.title(title)\n",
    "    plt.colorbar()\n",
    "    tick_marks = np.arange(len(classes))\n",
    "    plt.xticks(tick_marks, classes, rotation=45)\n",
    "    plt.yticks(tick_marks, classes)\n",
    "\n",
    "    if normalize:\n",
    "        cm = cm.astype('float') / cm.sum(axis=1)[:, np.newaxis]\n",
    "        print(\"Normalized confusion matrix\")\n",
    "    else:\n",
    "        print('Confusion matrix, without normalization')\n",
    "\n",
    "    thresh = cm.max() / 2.\n",
    "    for i, j in itertools.product(range(cm.shape[0]), range(cm.shape[1])):\n",
    "        plt.text(j, i, round(cm[i, j], 2),\n",
    "                 horizontalalignment=\"center\",\n",
    "                 color=\"white\" if cm[i, j] > thresh else \"black\")\n",
    "\n",
    "    plt.tight_layout()\n",
    "    plt.ylabel('True label')\n",
    "    plt.xlabel('Predicted label')"
   ]
  },
  {
   "cell_type": "markdown",
   "metadata": {},
   "source": [
    "## Rename files, get vectors"
   ]
  },
  {
   "cell_type": "code",
   "execution_count": null,
   "metadata": {},
   "outputs": [],
   "source": [
    "# path_to_class0 = './50s/'\n",
    "# path_to_class1 = './60s/'\n",
    "# # Renaming 50s and 60s .kar to .mid\n",
    "# map1 = map(lambda name: os.rename(name, name.replace(\".kar\", \".mid\").replace(\".KAR\", \".mid\")), \n",
    "#            get_filenames(path_to_class0))\n",
    "# map2 = map(lambda name: os.rename(name, name.replace(\".kar\", \".mid\").replace(\".KAR\", \".mid\")), \n",
    "#            get_filenames(path_to_class1))\n",
    "\n",
    "# # Identifying the smallest directory in terms of number of midis\n",
    "# midi_count = min(len(get_filenames(path_to_class0)), len(get_filenames(path_to_class1)))\n",
    "# midi_count"
   ]
  },
  {
   "cell_type": "code",
   "execution_count": null,
   "metadata": {
    "scrolled": true
   },
   "outputs": [],
   "source": [
    "# start_time = time.time()\n",
    "# vectors = vectors_from_files(path_to_class0, 3, 72)\n",
    "# print \"Class 3 is done\"\n",
    "# print(\"--- %s seconds ---\" % (time.time() - start_time))\n",
    "# vectors2 = vectors_from_files(path_to_class1, 2, 76)\n",
    "# print \"Class 2 is done\"\n",
    "# print(\"--- %s seconds ---\" % (time.time() - start_time))"
   ]
  },
  {
   "cell_type": "code",
   "execution_count": 3,
   "metadata": {},
   "outputs": [],
   "source": [
    "# Extraction of the features with maximal interclass variance\n",
    "def feature_selector(vectors, percentile_):\n",
    "    transposed = map(np.transpose, vectors)\n",
    "    means = map(lambda t: map(np.mean, t), transposed)\n",
    "    stds = map(lambda x: np.std(x), zip(*means))\n",
    "    threshold = np.percentile(stds, percentile_)\n",
    "    stds = zip(range(len(stds)), stds)\n",
    "    index = map(lambda st: st[0], filter(lambda x: x[1] > threshold, stds))\n",
    "    new_vectors = map(lambda vector: map(lambda v: map(lambda ind: v[ind], index), vector), vectors)\n",
    "    return new_vectors"
   ]
  },
  {
   "cell_type": "code",
   "execution_count": 4,
   "metadata": {
    "collapsed": true
   },
   "outputs": [],
   "source": [
    "# Separating chords and pitches\n",
    "vectors = get_vectors_from_pickles('vectors')\n",
    "chords = map(lambda vector: map(lambda v: v[0], vector), vectors)\n",
    "pitches = map(lambda vector: map(lambda v: v[1], vector), vectors)"
   ]
  },
  {
   "cell_type": "code",
   "execution_count": 5,
   "metadata": {},
   "outputs": [],
   "source": [
    "new_chords = feature_selector(chords, 95)\n",
    "new_pitches = feature_selector(pitches, 95)"
   ]
  },
  {
   "cell_type": "markdown",
   "metadata": {},
   "source": [
    "# SVM\n",
    "\n",
    "## Chords"
   ]
  },
  {
   "cell_type": "code",
   "execution_count": 6,
   "metadata": {},
   "outputs": [
    {
     "name": "stdout",
     "output_type": "stream",
     "text": [
      "64 64\n",
      "8 8\n"
     ]
    }
   ],
   "source": [
    "# Building train, validation and test sets for each class\n",
    "X = new_chords\n",
    "Y = [[0]*72, [1]*72, [2]*72, [3]*72]\n",
    "\n",
    "# Splitting the data into training and testing subsets 90 to 10 %\n",
    "X_train0, X_test0, Y_train0, Y_test0 = train_test_split(X[0], Y[0], test_size = 0.1, random_state = 25)\n",
    "X_train1, X_test1, Y_train1, Y_test1 = train_test_split(X[1], Y[1], test_size = 0.1, random_state = 25)\n",
    "X_train2, X_test2, Y_train2, Y_test2 = train_test_split(X[2], Y[2], test_size = 0.1, random_state = 25)\n",
    "X_train3, X_test3, Y_train3, Y_test3 = train_test_split(X[3], Y[3], test_size = 0.1, random_state = 25)\n",
    "\n",
    "print len(X_train0), len(Y_train0)\n",
    "print len(X_test0), len(Y_test0)"
   ]
  },
  {
   "cell_type": "code",
   "execution_count": 7,
   "metadata": {},
   "outputs": [],
   "source": [
    "def fit_binary(X_A, X_B, Y_A, Y_B):\n",
    "    # Merging the vectors together and extracting the attributes and the label\n",
    "    X = X_A + X_B\n",
    "    Y = Y_A + Y_B\n",
    "\n",
    "    # Splitting the data into training and testing subsets 85 to 15 %\n",
    "    X_train, X_valid, Y_train, Y_valid = train_test_split(X, Y, test_size = 0.15, random_state = 25)\n",
    "\n",
    "\n",
    "    # Function to train SVM on training set and to predict the validation set\n",
    "    def trainpredict(degree, C):\n",
    "        clf = svm.SVC(kernel = 'rbf', degree = degree, C = C, max_iter = 50000, shrinking=False) \n",
    "        clf.fit(X_train, Y_train)\n",
    "        return (Y_valid == clf.predict(X_valid)).sum()*100/len(Y_valid), degree, C\n",
    "\n",
    "    # Function to fit poly SVMs of degrees 1 to 4 each with Cs from the list\n",
    "    def fitDegree_C():\n",
    "        return map(lambda degree: map(trainpredict, [degree]*len(np.linspace(-10, 2*degree, 70)),\n",
    "                                map(lambda c: math.exp(c), np.linspace(-10, 2*degree, 70))), range(1, 5)) \n",
    "    # Each of the sublists correspond to a degree (1 to 4) and has tuples with (accuracy, degree, C)\n",
    "    fitted = fitDegree_C()\n",
    "\n",
    "    # Finding the best fit\n",
    "    flatten = sum(fitted, [])\n",
    "    # Looking for the optimal parameters\n",
    "    best_fit = max(enumerate(flatten), key = lambda x: x[1])\n",
    "    clf = svm.SVC(kernel = 'rbf', degree = best_fit[1][1], C=best_fit[1][-1])\n",
    "    clf.fit(X, Y)\n",
    "    return best_fit, clf"
   ]
  },
  {
   "cell_type": "code",
   "execution_count": 8,
   "metadata": {},
   "outputs": [],
   "source": [
    "best_fit_01, model_01 = fit_binary(X_train0, X_train1, Y_train0, Y_train1)\n",
    "best_fit_02, model_02 = fit_binary(X_train0, X_train2, Y_train0, Y_train2)\n",
    "best_fit_03, model_03 = fit_binary(X_train0, X_train3, Y_train0, Y_train3)\n",
    "best_fit_12, model_12 = fit_binary(X_train1, X_train2, Y_train1, Y_train2)\n",
    "best_fit_13, model_13 = fit_binary(X_train1, X_train3, Y_train1, Y_train3)\n",
    "best_fit_23 ,model_23 = fit_binary(X_train2, X_train3, Y_train2, Y_train3)"
   ]
  },
  {
   "cell_type": "code",
   "execution_count": 9,
   "metadata": {},
   "outputs": [
    {
     "data": {
      "text/plain": [
       "[100, 80, 80, 100, 100, 45]"
      ]
     },
     "execution_count": 9,
     "metadata": {},
     "output_type": "execute_result"
    }
   ],
   "source": [
    "models = [model_01, model_02, model_03, model_12, model_13, model_23]\n",
    "fits = [best_fit_01[1][0], best_fit_02[1][0], best_fit_03[1][0], best_fit_12[1][0], \n",
    "           best_fit_13[1][0], best_fit_23[1][0]]\n",
    "support_vectors = [model_01.support_vectors_, model_02.support_vectors_, model_03.support_vectors_, \n",
    "                   model_12.support_vectors_, model_13.support_vectors_, model_23.support_vectors_]\n",
    "fits"
   ]
  },
  {
   "cell_type": "code",
   "execution_count": 42,
   "metadata": {},
   "outputs": [],
   "source": [
    "# def get_model_index(point, means):\n",
    "#     distances = map(lambda mean_: np.linalg.norm(np.asarray(point) - np.asarray(mean_)), means)\n",
    "#     return sorted(zip(range(len(distances)), distances), key = lambda x: x[1])\n",
    "\n",
    "# def predict_one(point, means):\n",
    "#     index = get_model_index(point, means)\n",
    "#     return map(lambda ind: models[ind[0]].predict([point])[0], index)\n",
    "\n",
    "# def get_predictions(data, support_vectors):\n",
    "#     means = map(lambda support: sum(map(lambda t: map(np.median, t), map(np.transpose, [support])), []), support_vectors)\n",
    "#     return map(predict_one, data, [means]*len(data))\n",
    "# #    return predictions\n",
    "\n",
    "# #def prediction_0(data):\n",
    "# #    return map(models[pick_model].predict, data)\n"
   ]
  },
  {
   "cell_type": "code",
   "execution_count": 12,
   "metadata": {},
   "outputs": [],
   "source": [
    "#model_01.n_support_"
   ]
  },
  {
   "cell_type": "code",
   "execution_count": 10,
   "metadata": {
    "scrolled": false
   },
   "outputs": [],
   "source": [
    "#means = map(lambda support: sum(map(lambda t: map(np.mean, t), map(np.transpose, [support])), []), support_vectors)\n",
    "#yy = np.asarray(get_predictions(X_test, support_vectors))\n",
    "#zip(Y_test, yy, predictions_test)"
   ]
  },
  {
   "cell_type": "code",
   "execution_count": 11,
   "metadata": {},
   "outputs": [],
   "source": [
    "#print \"We successfully predict {} percent of test data\".format((Y_test==yy).sum()*100/len(Y_test))"
   ]
  },
  {
   "cell_type": "code",
   "execution_count": 16,
   "metadata": {},
   "outputs": [],
   "source": [
    "def prediction(data):\n",
    "    cnt = np.bincount(map(lambda m: m.predict([data])[0], models))\n",
    "    return max(zip(range(len(cnt)), cnt), key = lambda x: x[1])[0]"
   ]
  },
  {
   "cell_type": "code",
   "execution_count": 17,
   "metadata": {},
   "outputs": [],
   "source": [
    "X_train = X_train0 + X_train1 + X_train2 + X_train3\n",
    "Y_train = Y_train0 + Y_train1 + Y_train2 + Y_train3\n",
    "X_test = X_test0 + X_test1 + X_test2 + X_test3\n",
    "Y_test = Y_test0 + Y_test1 + Y_test2 + Y_test3\n",
    "predictions_train = np.asarray(map(prediction, X_train))\n",
    "predictions_test = np.asarray(map(prediction, X_test))"
   ]
  },
  {
   "cell_type": "code",
   "execution_count": 18,
   "metadata": {},
   "outputs": [
    {
     "name": "stdout",
     "output_type": "stream",
     "text": [
      "We successfully predict 100 percent of train data\n",
      "We successfully predict 75 percent of test data\n"
     ]
    }
   ],
   "source": [
    "print \"We successfully predict {} percent of train data\".format((Y_train==predictions_train).sum()*100/len(Y_train))\n",
    "print \"We successfully predict {} percent of test data\".format((Y_test==predictions_test).sum()*100/len(Y_test))"
   ]
  },
  {
   "cell_type": "code",
   "execution_count": 19,
   "metadata": {},
   "outputs": [],
   "source": [
    "# def plotter(a):\n",
    "#     fig = plt.figure(figsize=(10, 8))\n",
    "#     fig.subplots_adjust(left=None, bottom=None, right=None, top=None, wspace=0.3, hspace=0.5)\n",
    "#     for i in range (1, 5):\n",
    "#         ax = fig.add_subplot(2, 2, i)\n",
    "#         ax.set_title(\"Polynomial degree of \" + str(i+a))\n",
    "#         ax.set_ylabel(\"Accuracy\")\n",
    "#         ax.set_xlabel(\"C\")\n",
    "#         ax.semilogx()\n",
    "#         plot_ = plt.plot(map(lambda x: x[2], fitted[i+a-1]), map(lambda x: x[0], fitted[i+a-1]))\n",
    "#     return True\n",
    "\n",
    "# p = plotter(0)"
   ]
  },
  {
   "cell_type": "code",
   "execution_count": 20,
   "metadata": {},
   "outputs": [],
   "source": [
    "# p = plotter(4)"
   ]
  },
  {
   "cell_type": "code",
   "execution_count": 21,
   "metadata": {},
   "outputs": [
    {
     "name": "stdout",
     "output_type": "stream",
     "text": [
      "Confusion matrix, without normalization\n"
     ]
    },
    {
     "data": {
      "image/png": "[encoded data removed]",
      "text/plain": [
       "<matplotlib.figure.Figure at 0x7fb59152d0d0>"
      ]
     },
     "metadata": {},
     "output_type": "display_data"
    }
   ],
   "source": [
    "# Confusion matrix\n",
    "Y_test\n",
    "Y_predict = predictions_test\n",
    "plt.figure()\n",
    "plot_confusion_matrix(confusion_matrix(Y_test, Y_predict), classes=['50s', '60s', '70s', '80s'], normalize=False,\n",
    "                      title='SVM Chords confusion matrix')"
   ]
  },
  {
   "cell_type": "code",
   "execution_count": 22,
   "metadata": {},
   "outputs": [
    {
     "name": "stdout",
     "output_type": "stream",
     "text": [
      "Normalized confusion matrix\n"
     ]
    },
    {
     "data": {
      "image/png": "[encoded data removed]",
      "text/plain": [
       "<matplotlib.figure.Figure at 0x7fb59152d190>"
      ]
     },
     "metadata": {},
     "output_type": "display_data"
    }
   ],
   "source": [
    "plot_confusion_matrix(confusion_matrix(Y_test, Y_predict), classes=['50s', '60s', '70s', '80s'], normalize=True,\n",
    "                      title='SVM Chords normalized confusion matrix')"
   ]
  },
  {
   "cell_type": "markdown",
   "metadata": {},
   "source": [
    "# SVM \n",
    "\n",
    "## Pitches"
   ]
  },
  {
   "cell_type": "code",
   "execution_count": 31,
   "metadata": {},
   "outputs": [
    {
     "name": "stdout",
     "output_type": "stream",
     "text": [
      "64 64\n",
      "8 8\n"
     ]
    }
   ],
   "source": [
    "# Building train, validation and test sets for each class\n",
    "X = new_pitches\n",
    "Y = [[0]*72, [1]*72, [2]*72, [3]*72]\n",
    "\n",
    "# Splitting the data into training and testing subsets 90 to 10 %\n",
    "X_train0, X_test0, Y_train0, Y_test0 = train_test_split(X[0], Y[0], test_size = 0.1, random_state = 25)\n",
    "X_train1, X_test1, Y_train1, Y_test1 = train_test_split(X[1], Y[1], test_size = 0.1, random_state = 25)\n",
    "X_train2, X_test2, Y_train2, Y_test2 = train_test_split(X[2], Y[2], test_size = 0.1, random_state = 25)\n",
    "X_train3, X_test3, Y_train3, Y_test3 = train_test_split(X[3], Y[3], test_size = 0.1, random_state = 25)\n",
    "\n",
    "print len(X_train0), len(Y_train0)\n",
    "print len(X_test0), len(Y_test0)"
   ]
  },
  {
   "cell_type": "code",
   "execution_count": 32,
   "metadata": {},
   "outputs": [],
   "source": [
    "best_fit_01, model_01 = fit_binary(X_train0, X_train1, Y_train0, Y_train1)\n",
    "best_fit_02, model_02 = fit_binary(X_train0, X_train2, Y_train0, Y_train2)\n",
    "best_fit_03, model_03 = fit_binary(X_train0, X_train3, Y_train0, Y_train3)\n",
    "best_fit_12, model_12 = fit_binary(X_train1, X_train2, Y_train1, Y_train2)\n",
    "best_fit_13, model_13 = fit_binary(X_train1, X_train3, Y_train1, Y_train3)\n",
    "best_fit_23 ,model_23 = fit_binary(X_train2, X_train3, Y_train2, Y_train3)"
   ]
  },
  {
   "cell_type": "code",
   "execution_count": 33,
   "metadata": {},
   "outputs": [
    {
     "data": {
      "text/plain": [
       "[100, 65, 65, 100, 100, 40]"
      ]
     },
     "execution_count": 33,
     "metadata": {},
     "output_type": "execute_result"
    }
   ],
   "source": [
    "models = [model_01, model_02, model_03, model_12, model_13, model_23]\n",
    "fits = [best_fit_01[1][0], best_fit_02[1][0], best_fit_03[1][0], best_fit_12[1][0], \n",
    "           best_fit_13[1][0], best_fit_23[1][0]]\n",
    "support_vectors = [model_01.support_vectors_, model_02.support_vectors_, model_03.support_vectors_, \n",
    "                   model_12.support_vectors_, model_13.support_vectors_, model_23.support_vectors_]\n",
    "fits"
   ]
  },
  {
   "cell_type": "code",
   "execution_count": 34,
   "metadata": {},
   "outputs": [
    {
     "name": "stdout",
     "output_type": "stream",
     "text": [
      "We successfully predict 100 percent of train data\n",
      "We successfully predict 71 percent of test data\n"
     ]
    }
   ],
   "source": [
    "X_train = X_train0 + X_train1 + X_train2 + X_train3\n",
    "Y_train = Y_train0 + Y_train1 + Y_train2 + Y_train3\n",
    "X_test = X_test0 + X_test1 + X_test2 + X_test3\n",
    "Y_test = Y_test0 + Y_test1 + Y_test2 + Y_test3\n",
    "predictions_train = np.asarray(map(prediction, X_train))\n",
    "predictions_test = np.asarray(map(prediction, X_test))\n",
    "print \"We successfully predict {} percent of train data\".format((Y_train==predictions_train).sum()*100/len(Y_train))\n",
    "print \"We successfully predict {} percent of test data\".format((Y_test==predictions_test).sum()*100/len(Y_test))"
   ]
  },
  {
   "cell_type": "code",
   "execution_count": 36,
   "metadata": {},
   "outputs": [],
   "source": [
    "#p = plotter(0)"
   ]
  },
  {
   "cell_type": "code",
   "execution_count": 26,
   "metadata": {},
   "outputs": [],
   "source": [
    "#p = plotter(4)"
   ]
  },
  {
   "cell_type": "code",
   "execution_count": 38,
   "metadata": {},
   "outputs": [
    {
     "name": "stdout",
     "output_type": "stream",
     "text": [
      "Confusion matrix, without normalization\n"
     ]
    },
    {
     "data": {
      "image/png": "[encoded data removed]",
      "text/plain": [
       "<matplotlib.figure.Figure at 0x7fb591502950>"
      ]
     },
     "metadata": {},
     "output_type": "display_data"
    }
   ],
   "source": [
    "# Confusion matrix\n",
    "Y_test\n",
    "Y_predict = predictions_test\n",
    "plt.figure()\n",
    "plot_confusion_matrix(confusion_matrix(Y_test, Y_predict), classes=['50s', '60s', '70s', '80s'], normalize=False,\n",
    "                      title='SVM Chords confusion matrix')"
   ]
  },
  {
   "cell_type": "code",
   "execution_count": 39,
   "metadata": {},
   "outputs": [
    {
     "name": "stdout",
     "output_type": "stream",
     "text": [
      "Normalized confusion matrix\n"
     ]
    },
    {
     "data": {
      "image/png": "[encoded data removed]",
      "text/plain": [
       "<matplotlib.figure.Figure at 0x7fb591e62b50>"
      ]
     },
     "metadata": {},
     "output_type": "display_data"
    }
   ],
   "source": [
    "plot_confusion_matrix(confusion_matrix(Y_test, Y_predict), classes=['50s', '60s', '70s', '80s'], normalize=True,\n",
    "                      title='SVM Chords normalized confusion matrix')"
   ]
  },
  {
   "cell_type": "markdown",
   "metadata": {},
   "source": [
    "# Linear Regression LASSO\n",
    "\n",
    "## Chords"
   ]
  },
  {
   "cell_type": "code",
   "execution_count": 40,
   "metadata": {},
   "outputs": [
    {
     "name": "stdout",
     "output_type": "stream",
     "text": [
      "64 64\n",
      "8 8\n"
     ]
    }
   ],
   "source": [
    "# Building train, validation and test sets for each class\n",
    "X = new_chords\n",
    "Y = [[0]*72, [1]*72, [2]*72, [3]*72]\n",
    "\n",
    "# Splitting the data into training and testing subsets 90 to 10 %\n",
    "X_train0, X_test0, Y_train0, Y_test0 = train_test_split(X[0], Y[0], test_size = 0.1, random_state = 25)\n",
    "X_train1, X_test1, Y_train1, Y_test1 = train_test_split(X[1], Y[1], test_size = 0.1, random_state = 25)\n",
    "X_train2, X_test2, Y_train2, Y_test2 = train_test_split(X[2], Y[2], test_size = 0.1, random_state = 25)\n",
    "X_train3, X_test3, Y_train3, Y_test3 = train_test_split(X[3], Y[3], test_size = 0.1, random_state = 25)\n",
    "\n",
    "print len(X_train0), len(Y_train0)\n",
    "print len(X_test0), len(Y_test0)"
   ]
  },
  {
   "cell_type": "code",
   "execution_count": 55,
   "metadata": {},
   "outputs": [],
   "source": [
    "def fit_binary(X_A, X_B, Y_A, Y_B):\n",
    "    # Merging the vectors together and extracting the attributes and the label\n",
    "    X = X_A + X_B\n",
    "    Y = Y_A + Y_B\n",
    "\n",
    "    # Splitting the data into training and testing subsets 85 to 15 %\n",
    "    X_train, X_valid, Y_train, Y_valid = train_test_split(X, Y, test_size = 0.15, random_state = 25)\n",
    "\n",
    "\n",
    "    # Function to train LASSO on training set and to predict the validation set\n",
    "    def trainpredict_L(alpha):\n",
    "        lassoreg = Lasso(alpha = alpha, normalize = False, max_iter = 1e5)\n",
    "        lassoreg.fit(X_train, Y_train)\n",
    "        Y_predict = abs(np.round(lassoreg.predict(X_valid)))\n",
    "        return (Y_valid == Y_predict).sum()*100/len(Y_valid), alpha\n",
    "\n",
    "    # Function to fit alpha for LASSO\n",
    "    def fitalpha():\n",
    "        return map(lambda alpha: trainpredict_L(alpha), np.linspace(0.0001, 10, 100))\n",
    "    # Each of the sublists correspond to a degree (1 to 4) and has tuples with (accuracy, degree, C)\n",
    "    \n",
    "    # Fitting the alpha\n",
    "    fitted = fitalpha()\n",
    "\n",
    "    # Finding the best fit\n",
    "    # Looking for the optimal parameters\n",
    "    alpha = max(enumerate(fitted), key = lambda x: x[1])\n",
    "    alpha[1][1]\n",
    "    \n",
    "    # Checkng on the test set\n",
    "    lassoreg = Lasso(alpha = alpha[1][1], normalize = False, max_iter = 1e5)\n",
    "    lassoreg.fit(X_train, Y_train)\n",
    "    return alpha, lassoreg\n",
    "\n",
    "def cutoff(a):\n",
    "    if a>3:\n",
    "        return 3\n",
    "    if a<0:\n",
    "        return 0\n",
    "    return a"
   ]
  },
  {
   "cell_type": "code",
   "execution_count": 43,
   "metadata": {
    "collapsed": true
   },
   "outputs": [],
   "source": [
    "best_fit_01, model_01 = fit_binary(X_train0, X_train1, Y_train0, Y_train1)\n",
    "best_fit_02, model_02 = fit_binary(X_train0, X_train2, Y_train0, Y_train2)\n",
    "best_fit_03, model_03 = fit_binary(X_train0, X_train3, Y_train0, Y_train3)\n",
    "best_fit_12, model_12 = fit_binary(X_train1, X_train2, Y_train1, Y_train2)\n",
    "best_fit_13, model_13 = fit_binary(X_train1, X_train3, Y_train1, Y_train3)\n",
    "best_fit_23 ,model_23 = fit_binary(X_train2, X_train3, Y_train2, Y_train3)"
   ]
  },
  {
   "cell_type": "code",
   "execution_count": 45,
   "metadata": {},
   "outputs": [
    {
     "data": {
      "text/plain": [
       "[85, 65, 30, 90, 65, 75]"
      ]
     },
     "execution_count": 45,
     "metadata": {},
     "output_type": "execute_result"
    }
   ],
   "source": [
    "models = [model_01, model_02, model_03, model_12, model_13, model_23]\n",
    "fits = [best_fit_01[1][0], best_fit_02[1][0], best_fit_03[1][0], best_fit_12[1][0], \n",
    "           best_fit_13[1][0], best_fit_23[1][0]]\n",
    "fits"
   ]
  },
  {
   "cell_type": "code",
   "execution_count": 56,
   "metadata": {
    "collapsed": true
   },
   "outputs": [],
   "source": [
    "def prediction(data):\n",
    "    cnt = np.bincount(map(lambda m: cutoff(m.predict([data]))[0], models))\n",
    "    return max(zip(range(len(cnt)), cnt), key = lambda x: x[1])[0]"
   ]
  },
  {
   "cell_type": "code",
   "execution_count": 57,
   "metadata": {},
   "outputs": [
    {
     "ename": "TypeError",
     "evalue": "'int' object has no attribute '__getitem__'",
     "output_type": "error",
     "traceback": [
      "\u001b[0;31m---------------------------------------------------------------------------\u001b[0m",
      "\u001b[0;31mTypeError\u001b[0m                                 Traceback (most recent call last)",
      "\u001b[0;32m<ipython-input-57-bacd6bfd3a40>\u001b[0m in \u001b[0;36m<module>\u001b[0;34m()\u001b[0m\n\u001b[1;32m      3\u001b[0m \u001b[0mX_test\u001b[0m \u001b[0;34m=\u001b[0m \u001b[0mX_test0\u001b[0m \u001b[0;34m+\u001b[0m \u001b[0mX_test1\u001b[0m \u001b[0;34m+\u001b[0m \u001b[0mX_test2\u001b[0m \u001b[0;34m+\u001b[0m \u001b[0mX_test3\u001b[0m\u001b[0;34m\u001b[0m\u001b[0m\n\u001b[1;32m      4\u001b[0m \u001b[0mY_test\u001b[0m \u001b[0;34m=\u001b[0m \u001b[0mY_test0\u001b[0m \u001b[0;34m+\u001b[0m \u001b[0mY_test1\u001b[0m \u001b[0;34m+\u001b[0m \u001b[0mY_test2\u001b[0m \u001b[0;34m+\u001b[0m \u001b[0mY_test3\u001b[0m\u001b[0;34m\u001b[0m\u001b[0m\n\u001b[0;32m----> 5\u001b[0;31m \u001b[0mpredictions_train\u001b[0m \u001b[0;34m=\u001b[0m \u001b[0mnp\u001b[0m\u001b[0;34m.\u001b[0m\u001b[0masarray\u001b[0m\u001b[0;34m(\u001b[0m\u001b[0mmap\u001b[0m\u001b[0;34m(\u001b[0m\u001b[0mprediction\u001b[0m\u001b[0;34m,\u001b[0m \u001b[0mX_train\u001b[0m\u001b[0;34m)\u001b[0m\u001b[0;34m)\u001b[0m\u001b[0;34m\u001b[0m\u001b[0m\n\u001b[0m\u001b[1;32m      6\u001b[0m \u001b[0mpredictions_test\u001b[0m \u001b[0;34m=\u001b[0m \u001b[0mnp\u001b[0m\u001b[0;34m.\u001b[0m\u001b[0masarray\u001b[0m\u001b[0;34m(\u001b[0m\u001b[0mmap\u001b[0m\u001b[0;34m(\u001b[0m\u001b[0mprediction\u001b[0m\u001b[0;34m,\u001b[0m \u001b[0mX_test\u001b[0m\u001b[0;34m)\u001b[0m\u001b[0;34m)\u001b[0m\u001b[0;34m\u001b[0m\u001b[0m\n",
      "\u001b[0;32m<ipython-input-56-bf68feb7f2e4>\u001b[0m in \u001b[0;36mprediction\u001b[0;34m(data)\u001b[0m\n\u001b[1;32m      1\u001b[0m \u001b[0;32mdef\u001b[0m \u001b[0mprediction\u001b[0m\u001b[0;34m(\u001b[0m\u001b[0mdata\u001b[0m\u001b[0;34m)\u001b[0m\u001b[0;34m:\u001b[0m\u001b[0;34m\u001b[0m\u001b[0m\n\u001b[0;32m----> 2\u001b[0;31m     \u001b[0mcnt\u001b[0m \u001b[0;34m=\u001b[0m \u001b[0mnp\u001b[0m\u001b[0;34m.\u001b[0m\u001b[0mbincount\u001b[0m\u001b[0;34m(\u001b[0m\u001b[0mmap\u001b[0m\u001b[0;34m(\u001b[0m\u001b[0;32mlambda\u001b[0m \u001b[0mm\u001b[0m\u001b[0;34m:\u001b[0m \u001b[0mcutoff\u001b[0m\u001b[0;34m(\u001b[0m\u001b[0mm\u001b[0m\u001b[0;34m.\u001b[0m\u001b[0mpredict\u001b[0m\u001b[0;34m(\u001b[0m\u001b[0;34m[\u001b[0m\u001b[0mdata\u001b[0m\u001b[0;34m]\u001b[0m\u001b[0;34m)\u001b[0m\u001b[0;34m)\u001b[0m\u001b[0;34m[\u001b[0m\u001b[0;36m0\u001b[0m\u001b[0;34m]\u001b[0m\u001b[0;34m,\u001b[0m \u001b[0mmodels\u001b[0m\u001b[0;34m)\u001b[0m\u001b[0;34m)\u001b[0m\u001b[0;34m\u001b[0m\u001b[0m\n\u001b[0m\u001b[1;32m      3\u001b[0m     \u001b[0;32mreturn\u001b[0m \u001b[0mmax\u001b[0m\u001b[0;34m(\u001b[0m\u001b[0mzip\u001b[0m\u001b[0;34m(\u001b[0m\u001b[0mrange\u001b[0m\u001b[0;34m(\u001b[0m\u001b[0mlen\u001b[0m\u001b[0;34m(\u001b[0m\u001b[0mcnt\u001b[0m\u001b[0;34m)\u001b[0m\u001b[0;34m)\u001b[0m\u001b[0;34m,\u001b[0m \u001b[0mcnt\u001b[0m\u001b[0;34m)\u001b[0m\u001b[0;34m,\u001b[0m \u001b[0mkey\u001b[0m \u001b[0;34m=\u001b[0m \u001b[0;32mlambda\u001b[0m \u001b[0mx\u001b[0m\u001b[0;34m:\u001b[0m \u001b[0mx\u001b[0m\u001b[0;34m[\u001b[0m\u001b[0;36m1\u001b[0m\u001b[0;34m]\u001b[0m\u001b[0;34m)\u001b[0m\u001b[0;34m[\u001b[0m\u001b[0;36m0\u001b[0m\u001b[0;34m]\u001b[0m\u001b[0;34m\u001b[0m\u001b[0m\n",
      "\u001b[0;32m<ipython-input-56-bf68feb7f2e4>\u001b[0m in \u001b[0;36m<lambda>\u001b[0;34m(m)\u001b[0m\n\u001b[1;32m      1\u001b[0m \u001b[0;32mdef\u001b[0m \u001b[0mprediction\u001b[0m\u001b[0;34m(\u001b[0m\u001b[0mdata\u001b[0m\u001b[0;34m)\u001b[0m\u001b[0;34m:\u001b[0m\u001b[0;34m\u001b[0m\u001b[0m\n\u001b[0;32m----> 2\u001b[0;31m     \u001b[0mcnt\u001b[0m \u001b[0;34m=\u001b[0m \u001b[0mnp\u001b[0m\u001b[0;34m.\u001b[0m\u001b[0mbincount\u001b[0m\u001b[0;34m(\u001b[0m\u001b[0mmap\u001b[0m\u001b[0;34m(\u001b[0m\u001b[0;32mlambda\u001b[0m \u001b[0mm\u001b[0m\u001b[0;34m:\u001b[0m \u001b[0mcutoff\u001b[0m\u001b[0;34m(\u001b[0m\u001b[0mm\u001b[0m\u001b[0;34m.\u001b[0m\u001b[0mpredict\u001b[0m\u001b[0;34m(\u001b[0m\u001b[0;34m[\u001b[0m\u001b[0mdata\u001b[0m\u001b[0;34m]\u001b[0m\u001b[0;34m)\u001b[0m\u001b[0;34m)\u001b[0m\u001b[0;34m[\u001b[0m\u001b[0;36m0\u001b[0m\u001b[0;34m]\u001b[0m\u001b[0;34m,\u001b[0m \u001b[0mmodels\u001b[0m\u001b[0;34m)\u001b[0m\u001b[0;34m)\u001b[0m\u001b[0;34m\u001b[0m\u001b[0m\n\u001b[0m\u001b[1;32m      3\u001b[0m     \u001b[0;32mreturn\u001b[0m \u001b[0mmax\u001b[0m\u001b[0;34m(\u001b[0m\u001b[0mzip\u001b[0m\u001b[0;34m(\u001b[0m\u001b[0mrange\u001b[0m\u001b[0;34m(\u001b[0m\u001b[0mlen\u001b[0m\u001b[0;34m(\u001b[0m\u001b[0mcnt\u001b[0m\u001b[0;34m)\u001b[0m\u001b[0;34m)\u001b[0m\u001b[0;34m,\u001b[0m \u001b[0mcnt\u001b[0m\u001b[0;34m)\u001b[0m\u001b[0;34m,\u001b[0m \u001b[0mkey\u001b[0m \u001b[0;34m=\u001b[0m \u001b[0;32mlambda\u001b[0m \u001b[0mx\u001b[0m\u001b[0;34m:\u001b[0m \u001b[0mx\u001b[0m\u001b[0;34m[\u001b[0m\u001b[0;36m1\u001b[0m\u001b[0;34m]\u001b[0m\u001b[0;34m)\u001b[0m\u001b[0;34m[\u001b[0m\u001b[0;36m0\u001b[0m\u001b[0;34m]\u001b[0m\u001b[0;34m\u001b[0m\u001b[0m\n",
      "\u001b[0;31mTypeError\u001b[0m: 'int' object has no attribute '__getitem__'"
     ]
    }
   ],
   "source": [
    "X_train = X_train0 + X_train1 + X_train2 + X_train3\n",
    "Y_train = Y_train0 + Y_train1 + Y_train2 + Y_train3\n",
    "X_test = X_test0 + X_test1 + X_test2 + X_test3\n",
    "Y_test = Y_test0 + Y_test1 + Y_test2 + Y_test3\n",
    "predictions_train = np.asarray(map(prediction, X_train))\n",
    "predictions_test = np.asarray(map(prediction, X_test))"
   ]
  },
  {
   "cell_type": "code",
   "execution_count": 67,
   "metadata": {
    "scrolled": true
   },
   "outputs": [
    {
     "name": "stdout",
     "output_type": "stream",
     "text": [
      "We successfully predict the 100 percent of training data\n",
      "We successfully predict the 55 percent of test data\n"
     ]
    }
   ],
   "source": [
    "# Checkng on the test set\n",
    "lassoreg = Lasso(alpha = alpha[1][1], normalize = False, max_iter = 1e5)\n",
    "lassoreg.fit(X_train, Y_train)\n",
    "predict_train = np.asarray(map(cutoff, abs(np.round(lassoreg.predict(X_train)))))\n",
    "predict_test = np.asarray(map(cutoff, abs(np.round(lassoreg.predict(X_test)))))\n",
    "print \"We successfully predict the {} percent of training data\".format((Y_train==predict_train).sum()*100/len(Y_train))\n",
    "print \"We successfully predict the {} percent of test data\".format((Y_test==predict_test).sum()*100/len(Y_test))"
   ]
  },
  {
   "cell_type": "code",
   "execution_count": 68,
   "metadata": {},
   "outputs": [
    {
     "data": {
      "image/png": "[encoded data removed]",
      "text/plain": [
       "<matplotlib.figure.Figure at 0x7f59c4ae6450>"
      ]
     },
     "metadata": {},
     "output_type": "display_data"
    }
   ],
   "source": [
    "fig, ax = plt.subplots(figsize = (8,6))\n",
    "ax.set_xlabel(\"alpha\")\n",
    "ax.set_ylabel(\"Accuracy\")\n",
    "ax.set_title(\"Lasso chords accuracy vs alpha\")\n",
    "plot_ = plt.plot(map(lambda x: x[1], fitted), map(lambda x: x[0], fitted))"
   ]
  },
  {
   "cell_type": "code",
   "execution_count": 69,
   "metadata": {},
   "outputs": [
    {
     "name": "stdout",
     "output_type": "stream",
     "text": [
      "Confusion matrix, without normalization\n"
     ]
    },
    {
     "data": {
      "image/png": "[encoded data removed]",
      "text/plain": [
       "<matplotlib.figure.Figure at 0x7f59b8604b50>"
      ]
     },
     "metadata": {},
     "output_type": "display_data"
    }
   ],
   "source": [
    "# Confusion matrix\n",
    "Y_test\n",
    "plt.figure()\n",
    "plot_confusion_matrix(confusion_matrix(Y_test, predict_test), classes=['50s', '60s', '70s', '80s'], normalize=False,\n",
    "                      title='LASSO chords confusion matrix')"
   ]
  },
  {
   "cell_type": "code",
   "execution_count": 70,
   "metadata": {},
   "outputs": [
    {
     "name": "stdout",
     "output_type": "stream",
     "text": [
      "Normalized confusion matrix\n"
     ]
    },
    {
     "data": {
      "image/png": "[encoded data removed]",
      "text/plain": [
       "<matplotlib.figure.Figure at 0x7f59b837c310>"
      ]
     },
     "metadata": {},
     "output_type": "display_data"
    }
   ],
   "source": [
    "plot_confusion_matrix(confusion_matrix(Y_test, predict_test), classes=['50s', '60s', '70s', '80s'], normalize=True,\n",
    "                      title='LASSO chords normalized confusion matrix')"
   ]
  },
  {
   "cell_type": "markdown",
   "metadata": {},
   "source": [
    "# Linear Regression LASSO\n",
    "\n",
    "## Pithces"
   ]
  },
  {
   "cell_type": "code",
   "execution_count": 71,
   "metadata": {},
   "outputs": [
    {
     "name": "stdout",
     "output_type": "stream",
     "text": [
      "207 207\n",
      "52 52\n",
      "29 29\n"
     ]
    }
   ],
   "source": [
    "# Merging the vectors together and extracting the attributes and the label\n",
    "X = chordvector0_+chordvector1_+chordvector2_+chordvector3_\n",
    "Y = [0]*72+[1]*72+[2]*72+[3]*72\n",
    "\n",
    "# Splitting the data into training and testing subsets 85 to 15 %\n",
    "X_train, X_test, Y_train, Y_test = train_test_split(X, Y, test_size = 0.1, random_state = 25)\n",
    "\n",
    "# Splitting the training subset into training and validating subsets 80 to 20 %\n",
    "X_train, X_valid, Y_train, Y_valid = train_test_split(X_train, Y_train, test_size=0.2, random_state = 25)\n",
    "\n",
    "print len(X_train), len(Y_train)\n",
    "print len(X_valid), len(Y_valid)\n",
    "print len(X_test), len(Y_test)"
   ]
  },
  {
   "cell_type": "code",
   "execution_count": 72,
   "metadata": {},
   "outputs": [
    {
     "data": {
      "text/plain": [
       "0.0001"
      ]
     },
     "execution_count": 72,
     "metadata": {},
     "output_type": "execute_result"
    }
   ],
   "source": [
    "# Fitting the alpha\n",
    "fitted = fitalpha()\n",
    "# Looking for the optimal parameters\n",
    "alpha = max(enumerate(fitted), key = lambda x: x[1])\n",
    "alpha[1][1]"
   ]
  },
  {
   "cell_type": "code",
   "execution_count": 73,
   "metadata": {},
   "outputs": [
    {
     "name": "stdout",
     "output_type": "stream",
     "text": [
      "We successfully predict the 100 percent of training data\n",
      "We successfully predict the 55 percent of test data\n"
     ]
    }
   ],
   "source": [
    "# Checkng on the test set\n",
    "lassoreg = Lasso(alpha = alpha[1][1], normalize = False, max_iter = 1e5)\n",
    "lassoreg.fit(X_train, Y_train)\n",
    "predict_train = np.asarray(map(cutoff, abs(np.round(lassoreg.predict(X_train)))))\n",
    "predict_test = np.asarray(map(cutoff, abs(np.round(lassoreg.predict(X_test)))))\n",
    "print \"We successfully predict the {} percent of training data\".format((Y_train==predict_train).sum()*100/len(Y_train))\n",
    "print \"We successfully predict the {} percent of test data\".format((Y_test==predict_test).sum()*100/len(Y_test))"
   ]
  },
  {
   "cell_type": "code",
   "execution_count": 74,
   "metadata": {},
   "outputs": [
    {
     "data": {
      "image/png": "[encoded data removed]",
      "text/plain": [
       "<matplotlib.figure.Figure at 0x7f59b818f2d0>"
      ]
     },
     "metadata": {},
     "output_type": "display_data"
    }
   ],
   "source": [
    "fig, ax = plt.subplots(figsize = (8,6))\n",
    "ax.set_xlabel(\"alpha\")\n",
    "ax.set_ylabel(\"Accuracy\")\n",
    "ax.set_title(\"Lasso pitches accuracy vs alpha\")\n",
    "plot_ = plt.plot(map(lambda x: x[1], fitted), map(lambda x: x[0], fitted))"
   ]
  },
  {
   "cell_type": "code",
   "execution_count": 75,
   "metadata": {},
   "outputs": [
    {
     "name": "stdout",
     "output_type": "stream",
     "text": [
      "Confusion matrix, without normalization\n"
     ]
    },
    {
     "data": {
      "image/png": "[encoded data removed]",
      "text/plain": [
       "<matplotlib.figure.Figure at 0x7f59b89ed190>"
      ]
     },
     "metadata": {},
     "output_type": "display_data"
    }
   ],
   "source": [
    "# Confusion matrix\n",
    "Y_test\n",
    "plt.figure()\n",
    "plot_confusion_matrix(confusion_matrix(Y_test, predict_test), classes=['50s', '60s', '70s', '80s'], normalize=False,\n",
    "                      title='LASSO chords confusion matrix')"
   ]
  },
  {
   "cell_type": "code",
   "execution_count": 76,
   "metadata": {},
   "outputs": [
    {
     "name": "stdout",
     "output_type": "stream",
     "text": [
      "Normalized confusion matrix\n"
     ]
    },
    {
     "data": {
      "image/png": "[encoded data removed]",
      "text/plain": [
       "<matplotlib.figure.Figure at 0x7f59bb83d3d0>"
      ]
     },
     "metadata": {},
     "output_type": "display_data"
    }
   ],
   "source": [
    "plot_confusion_matrix(confusion_matrix(Y_test, predict_test), classes=['50s', '60s', '70s', '80s'], normalize=True,\n",
    "                      title='LASSO chords normalized confusion matrix')"
   ]
  },
  {
   "cell_type": "markdown",
   "metadata": {},
   "source": [
    "# N-tuples\n",
    "\n",
    "## Chords"
   ]
  },
  {
   "cell_type": "code",
   "execution_count": 86,
   "metadata": {},
   "outputs": [],
   "source": [
    "chmax = sum(chstd)\n",
    "ptmax = sum(ptstd)\n",
    "chstd = map(lambda x: 1.0*x/chmax, chstd)\n",
    "ptstd = map(lambda x: 1.0*x/ptmax, ptstd)"
   ]
  },
  {
   "cell_type": "code",
   "execution_count": 89,
   "metadata": {},
   "outputs": [],
   "source": [
    "from ntuple import classify"
   ]
  },
  {
   "cell_type": "code",
   "execution_count": 90,
   "metadata": {},
   "outputs": [
    {
     "name": "stdout",
     "output_type": "stream",
     "text": [
      "220 220\n",
      "39 39\n",
      "29 29\n"
     ]
    }
   ],
   "source": [
    "# Merging the vectors together and extracting the attributes and the label\n",
    "X = chordvector0_+chordvector1_+chordvector2_+chordvector3_\n",
    "Y = [0]*72+[1]*72+[2]*72+[3]*72\n",
    "\n",
    "# Splitting the data into training and testing subsets 85 to 15 %\n",
    "X_train, X_test, Y_train, Y_test = train_test_split(X, Y, test_size = 0.1, random_state = 25)\n",
    "\n",
    "# Splitting the training subset into training and validating subsets 80 to 20 %\n",
    "X_train, X_valid, Y_train, Y_valid = train_test_split(X_train, Y_train, test_size=0.15, random_state = 25)\n",
    "\n",
    "print len(X_train), len(Y_train)\n",
    "print len(X_valid), len(Y_valid)\n",
    "print len(X_test), len(Y_test)"
   ]
  },
  {
   "cell_type": "code",
   "execution_count": 91,
   "metadata": {},
   "outputs": [
    {
     "name": "stdout",
     "output_type": "stream",
     "text": [
      "[0.042749570425919634, 0.0033719764747464171, 0.0011352422521344488, 0.0014527224148313117, 0.0013127319680140052]\n"
     ]
    }
   ],
   "source": [
    "# weights \n",
    "print chstd[:5]"
   ]
  },
  {
   "cell_type": "code",
   "execution_count": null,
   "metadata": {
    "collapsed": true
   },
   "outputs": [],
   "source": []
  }
 ],
 "metadata": {
  "anaconda-cloud": {},
  "kernelspec": {
   "display_name": "Python [default]",
   "language": "python",
   "name": "python2"
  },
  "language_info": {
   "codemirror_mode": {
    "name": "ipython",
    "version": 2
   },
   "file_extension": ".py",
   "mimetype": "text/x-python",
   "name": "python",
   "nbconvert_exporter": "python",
   "pygments_lexer": "ipython2",
   "version": "2.7.13"
  }
 },
 "nbformat": 4,
 "nbformat_minor": 2
}
