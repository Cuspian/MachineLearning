{
 "cells": [
  {
   "cell_type": "code",
   "execution_count": 1,
   "metadata": {
    "collapsed": true
   },
   "outputs": [],
   "source": [
    "from chordextractor import ChordExtractor\n",
    "import chordgraph\n",
    "\n",
    "import numpy as np\n",
    "from sklearn.model_selection import train_test_split\n",
    "from sklearn import svm\n",
    "from scipy.stats import itemfreq\n",
    "import time\n",
    "import os\n",
    "import pickle\n",
    "import math\n",
    "from sklearn.metrics import confusion_matrix\n",
    "import matplotlib.pyplot as plt\n",
    "import itertools\n",
    "from sklearn.linear_model import Lasso, LogisticRegression\n",
    "%matplotlib inline "
   ]
  },
  {
   "cell_type": "markdown",
   "metadata": {},
   "source": [
    "## Functions to get vectors from MIDI files for chords, pitches and durations"
   ]
  },
  {
   "cell_type": "code",
   "execution_count": 2,
   "metadata": {
    "collapsed": true
   },
   "outputs": [],
   "source": [
    "# Get file names of type type_ in all the subdirectories of the path\n",
    "def get_filenames(path, type_ = None):\n",
    "    if type_ == None:\n",
    "        return sum(map(lambda walks: (map(lambda name: os.path.join(walks[0], name),\n",
    "                                                                           walks[2])), os.walk(path)), [])\n",
    "    else:\n",
    "        return filter(lambda f: f.endswith(type_), sum(map(lambda walks: (map(lambda name: os.path.join(walks[0], name),\n",
    "                                                                           walks[2])), os.walk(path)), []))\n",
    "       \n",
    "# Getting set of all possible chords after normalization        \n",
    "chord_encode =  {k: i for k, i in zip(chordgraph.ChordGraph().normalized_chords,\n",
    "                                      range(len(chordgraph.ChordGraph().normalized_chords)))}        \n",
    "        \n",
    "# Enumerating chords for processing and storage optimization\n",
    "def encode_chords(chords, encoder = None, type_ = None):\n",
    "    if type_ == 'chord':\n",
    "        return map(lambda chord: encoder[chord], chords)\n",
    "    return chords\n",
    "\n",
    "# Generate all sequences of 4 consecutive notes\n",
    "def get_sequences(data):\n",
    "    return map(lambda i: [data[i], data[i+1], data[i+2], data[i+3]], range(0, len(data)-3))\n",
    "\n",
    "# Returns index of the note quartet in the vector\n",
    "def notestoindex(numbers, num):\n",
    "    return reduce(lambda x, y: num*x+y, numbers)\n",
    "\n",
    "# Build vector of ocurrences of note quartets\n",
    "def build_vector(sequence, num):\n",
    "    vector = [0] * num**4\n",
    "    seqs_indexed = map(notestoindex, sequence, [num]*len(sequence))\n",
    "    for x in itemfreq(seqs_indexed):\n",
    "        vector[x[0]] = x[1]\n",
    "    return vector\n",
    "\n",
    "def vector_from_file(filename_):\n",
    "    extractor = ChordExtractor(filename_)\n",
    "    chord_vector = build_vector(get_sequences(encode_chords(extractor.getNormalizedChords(), chord_encode, 'chord')),14)\n",
    "    pitch_vector = build_vector(get_sequences(encode_chords(extractor.getNormalizedPitches())),12)\n",
    "    return chord_vector, pitch_vector\n",
    "\n",
    "#normalizedChords = extractor.getNormalizedChords()\n",
    "#normalizedPitches = extractor.getNormalizedPitches()\n",
    "# normalizedDurations = extractor.getChordDurations()\n",
    "\n",
    "# Build vectors from MIDI files and pickle them\n",
    "def vectors_from_files(path, class_, count):\n",
    "    files = map(lambda x: x[0], sorted(map(lambda f: [f, os.stat(f).st_size], get_filenames(path)), \n",
    "                                   key = lambda x: x[1]))[:count]\n",
    "    c = 0\n",
    "    for name in files:\n",
    "        try: \n",
    "            with open(str(class_)+str(c)+\".dat\", \"wb\") as f:\n",
    "                pickle.dump(vector_from_file(name), f)\n",
    "                print name+\" done\"\n",
    "                print str(class_)+str(c)+\".dat\"\n",
    "                c+=1\n",
    "        except:\n",
    "            print \"Couldn't process \" + name + \" because Music 21 sucks.\"\n",
    "    #X = map(lambda name: vector_from_file(name), files)\n",
    "    return True\n",
    "\n",
    "# Loading vectors from pickles\n",
    "def get_vectors_from_pickles(path):\n",
    "    class0 = filter(lambda x: x.split('/')[-1][0]=='0', get_filenames(path, \".dat\"))\n",
    "    class1 = filter(lambda x: x.split('/')[-1][0]=='1', get_filenames(path, \".dat\"))\n",
    "    class2 = filter(lambda x: x.split('/')[-1][0]=='2', get_filenames(path, \".dat\"))\n",
    "    class3 = filter(lambda x: x.split('/')[-1][0]=='3', get_filenames(path, \".dat\"))\n",
    "    vector0 = []\n",
    "    vector1 = []\n",
    "    vector2 = []\n",
    "    vector3 = []\n",
    "    for name in class0:\n",
    "        with open(name, \"rb\") as f:\n",
    "            vector0.append(pickle.load(f))\n",
    "    for name in class1:\n",
    "        with open(name, \"rb\") as f:\n",
    "            vector1.append(pickle.load(f))\n",
    "    for name in class2:\n",
    "        with open(name, \"rb\") as f:\n",
    "            vector2.append(pickle.load(f))\n",
    "    for name in class3:\n",
    "        with open(name, \"rb\") as f:\n",
    "            vector3.append(pickle.load(f))\n",
    "    return vector0, vector1, vector2, vector3\n",
    "\n",
    "def plot_confusion_matrix(cm, classes, normalize = False, title = 'Confusion matrix', cmap = plt.cm.Blues):\n",
    "\n",
    "    plt.imshow(cm, interpolation='nearest', cmap=cmap)\n",
    "    plt.title(title)\n",
    "    plt.colorbar()\n",
    "    tick_marks = np.arange(len(classes))\n",
    "    plt.xticks(tick_marks, classes, rotation=45)\n",
    "    plt.yticks(tick_marks, classes)\n",
    "\n",
    "    if normalize:\n",
    "        cm = cm.astype('float') / cm.sum(axis=1)[:, np.newaxis]\n",
    "        print(\"Normalized confusion matrix\")\n",
    "    else:\n",
    "        print('Confusion matrix, without normalization')\n",
    "\n",
    "    thresh = cm.max() / 2.\n",
    "    for i, j in itertools.product(range(cm.shape[0]), range(cm.shape[1])):\n",
    "        plt.text(j, i, round(cm[i, j], 2),\n",
    "                 horizontalalignment=\"center\",\n",
    "                 color=\"white\" if cm[i, j] > thresh else \"black\")\n",
    "\n",
    "    plt.tight_layout()\n",
    "    plt.ylabel('True label')\n",
    "    plt.xlabel('Predicted label')"
   ]
  },
  {
   "cell_type": "markdown",
   "metadata": {},
   "source": [
    "## Rename files, get vectors"
   ]
  },
  {
   "cell_type": "code",
   "execution_count": 3,
   "metadata": {
    "collapsed": true
   },
   "outputs": [],
   "source": [
    "# path_to_class0 = './50s/'\n",
    "# path_to_class1 = './60s/'\n",
    "# # Renaming 50s and 60s .kar to .mid\n",
    "# map1 = map(lambda name: os.rename(name, name.replace(\".kar\", \".mid\").replace(\".KAR\", \".mid\")), \n",
    "#            get_filenames(path_to_class0))\n",
    "# map2 = map(lambda name: os.rename(name, name.replace(\".kar\", \".mid\").replace(\".KAR\", \".mid\")), \n",
    "#            get_filenames(path_to_class1))\n",
    "\n",
    "# # Identifying the smallest directory in terms of number of midis\n",
    "# midi_count = min(len(get_filenames(path_to_class0)), len(get_filenames(path_to_class1)))\n",
    "# midi_count"
   ]
  },
  {
   "cell_type": "code",
   "execution_count": 4,
   "metadata": {
    "collapsed": true,
    "scrolled": true
   },
   "outputs": [],
   "source": [
    "# start_time = time.time()\n",
    "# vectors = vectors_from_files(path_to_class0, 3, 72)\n",
    "# print \"Class 3 is done\"\n",
    "# print(\"--- %s seconds ---\" % (time.time() - start_time))\n",
    "# vectors2 = vectors_from_files(path_to_class1, 2, 76)\n",
    "# print \"Class 2 is done\"\n",
    "# print(\"--- %s seconds ---\" % (time.time() - start_time))"
   ]
  },
  {
   "cell_type": "code",
   "execution_count": 5,
   "metadata": {
    "collapsed": true
   },
   "outputs": [],
   "source": [
    "# Extraction of the features with maximal interclass variance\n",
    "def feature_selector(vectors, percentile_):\n",
    "    transposed = map(np.transpose, vectors)\n",
    "    means = map(lambda t: map(np.mean, t), transposed)\n",
    "    stds = map(lambda x: np.std(x), zip(*means))\n",
    "    threshold = np.percentile(stds, percentile_)\n",
    "    stds = zip(range(len(stds)), stds)\n",
    "    index = map(lambda st: st[0], filter(lambda x: x[1] > threshold, stds))\n",
    "    new_vectors = map(lambda vector: map(lambda v: map(lambda ind: v[ind], index), vector), vectors)\n",
    "    return new_vectors"
   ]
  },
  {
   "cell_type": "code",
   "execution_count": 6,
   "metadata": {
    "collapsed": true
   },
   "outputs": [],
   "source": [
    "# Separating chords and pitches\n",
    "vectors = get_vectors_from_pickles('vectors')\n",
    "chords = map(lambda vector: map(lambda v: v[0], vector), vectors)\n",
    "pitches = map(lambda vector: map(lambda v: v[1], vector), vectors)"
   ]
  },
  {
   "cell_type": "code",
   "execution_count": 7,
   "metadata": {
    "collapsed": true
   },
   "outputs": [],
   "source": [
    "new_chords = feature_selector(chords, 95)\n",
    "new_pitches = feature_selector(pitches, 95)"
   ]
  },
  {
   "cell_type": "markdown",
   "metadata": {},
   "source": [
    "# SVM\n",
    "\n",
    "## Chords"
   ]
  },
  {
   "cell_type": "code",
   "execution_count": 8,
   "metadata": {
    "collapsed": true
   },
   "outputs": [],
   "source": [
    "def rotate(list_, count):\n",
    "    return sum([list_[-count:]]+[list_[:-count]], [])"
   ]
  },
  {
   "cell_type": "code",
   "execution_count": 58,
   "metadata": {
    "collapsed": true
   },
   "outputs": [],
   "source": [
    "# Building train, validation and test sets for each class\n",
    "X_chord = sum(map(lambda c: [new_chords[0][c], new_chords[1][c], new_chords[2][c], new_chords[3][c]],\n",
    "            range(len(new_chords[0]))), [])\n",
    "X_pitch = sum(map(lambda c: [new_pitches[0][c], new_pitches[1][c], new_pitches[2][c], new_pitches[3][c]],\n",
    "            range(len(new_pitches[0]))), [])\n",
    "Y = [[0]*72, [1]*72, [2]*72, [3]*72]\n",
    "Y = sum(map(lambda y: [Y[0][y], Y[1][y], Y[2][y], Y[3][y]], range(len(Y[0]))), [])"
   ]
  },
  {
   "cell_type": "code",
   "execution_count": 80,
   "metadata": {
    "collapsed": true
   },
   "outputs": [],
   "source": [
    "# Function to train SVM on training set and to predict the validation set\n",
    "def trainpredict(degree, C, gamma):\n",
    "    clf = svm.SVC(kernel = 'rbf', degree = degree, C = C,  \n",
    "                  shrinking=False, gamma = gamma) \n",
    "    clf.fit(X_train, Y_train)\n",
    "    return (Y_valid == clf.predict(X_valid)).sum()*100/len(Y_valid), degree, C, gamma\n",
    "\n",
    "# Function to fit poly SVMs of degrees 3 to 5 each with Cs and gammas from the given range\n",
    "def fitDegree_C():\n",
    "    return map(lambda gamma: map(lambda degree: map(trainpredict, [degree]*6,\n",
    "                            map(lambda c: math.exp(c), np.linspace(-1, 2*degree, 6)),\n",
    "                            [gamma]*6), range(5, 6)), \n",
    "               map(lambda x: 1.0e-06+0.55e-05*x, range(200)))"
   ]
  },
  {
   "cell_type": "code",
   "execution_count": 87,
   "metadata": {
    "scrolled": false
   },
   "outputs": [
    {
     "name": "stdout",
     "output_type": "stream",
     "text": [
      "Rotation  0\n",
      "Rotation  1\n",
      "Rotation  2\n",
      "Rotation  3\n",
      "Rotation  4\n",
      "Rotation  5\n",
      "Rotation  6\n",
      "Rotation  7\n",
      "Rotation  8\n",
      "Rotation  9\n"
     ]
    }
   ],
   "source": [
    "# Chords\n",
    "X_chord_ = X_chord\n",
    "Y_ = Y\n",
    "Y_predict = []\n",
    "Y_original = []\n",
    "best_fits = []\n",
    "for i in range(10):\n",
    "    print \"Rotation \", i\n",
    "    test = int(len(X_chord)*0.1)\n",
    "    valid = int(len(X_chord)*0.1)+test\n",
    "    Y_test = Y_[-test:]\n",
    "    Y_valid = Y_[-valid:-test]\n",
    "    Y_train = Y_[:-valid]\n",
    "    X_test = X_chord_[-test:]\n",
    "    X_valid = X_chord_[-valid:-test]\n",
    "    X_train = X_chord_[:-valid]\n",
    "    fit_ = fitDegree_C()\n",
    "    best_fit = max(enumerate(sum(sum(fit_, []), [])), key = lambda x: x[1])\n",
    "    best_fits.append(best_fit)\n",
    "    clf = svm.SVC(kernel = 'rbf', degree = best_fit[1][1], C=best_fit[1][-2], gamma = best_fit[1][-1],\n",
    "                  shrinking=False)\n",
    "    clf.fit(X_train, Y_train)\n",
    "    Y_predict.append(clf.predict(X_test))\n",
    "    Y_original.append(Y_test)\n",
    "    \n",
    "    X_chord_ = rotate(X_chord_, int(len(X_chord_)*0.1))\n",
    "    Y_ = rotate(Y_, int(len(Y_)*0.1))"
   ]
  },
  {
   "cell_type": "code",
   "execution_count": 88,
   "metadata": {
    "scrolled": false
   },
   "outputs": [
    {
     "data": {
      "text/plain": [
       "[(365, (75, 5, 22026.465794806718, 0.000331)),\n",
       " (869, (82, 5, 22026.465794806718, 0.000793)),\n",
       " (287, (75, 5, 22026.465794806718, 0.0002595)),\n",
       " (161, (71, 5, 22026.465794806718, 0.000144)),\n",
       " (377, (71, 5, 22026.465794806718, 0.000342)),\n",
       " (1199, (67, 5, 22026.465794806718, 0.0010955)),\n",
       " (65, (64, 5, 22026.465794806718, 5.599999999999999e-05)),\n",
       " (1097, (67, 5, 22026.465794806718, 0.0010019999999999999)),\n",
       " (329, (67, 5, 22026.465794806718, 0.00029800000000000003)),\n",
       " (61, (75, 5, 3.320116922736548, 5.599999999999999e-05))]"
      ]
     },
     "execution_count": 88,
     "metadata": {},
     "output_type": "execute_result"
    }
   ],
   "source": [
    "best_fits"
   ]
  },
  {
   "cell_type": "code",
   "execution_count": 89,
   "metadata": {
    "collapsed": true
   },
   "outputs": [],
   "source": [
    "Y_predict_chord = np.asarray(sum(map(lambda y: list(y), Y_predict), []))\n",
    "Y_origin_chord = np.asarray(sum(map(lambda y: list(y), Y_original), []))"
   ]
  },
  {
   "cell_type": "code",
   "execution_count": 90,
   "metadata": {},
   "outputs": [
    {
     "name": "stdout",
     "output_type": "stream",
     "text": [
      "We predict the 67 percent of test data\n"
     ]
    }
   ],
   "source": [
    "print \"We predict the {} percent of test data\".format((Y_origin_chord==Y_predict_chord).sum()*100/len(Y_origin_chord))"
   ]
  },
  {
   "cell_type": "code",
   "execution_count": 91,
   "metadata": {
    "collapsed": true
   },
   "outputs": [],
   "source": [
    "#rbf degree 5 0.15 valid 76%\n",
    "#zip(Y_predict_chord, Y_origin_chord)"
   ]
  },
  {
   "cell_type": "code",
   "execution_count": 92,
   "metadata": {},
   "outputs": [
    {
     "name": "stdout",
     "output_type": "stream",
     "text": [
      "Confusion matrix, without normalization\n"
     ]
    },
    {
     "data": {
      "image/png": "[encoded data removed]",
      "text/plain": [
       "<matplotlib.figure.Figure at 0x7f882d4edd90>"
      ]
     },
     "metadata": {},
     "output_type": "display_data"
    }
   ],
   "source": [
    "# Confusion matrix\n",
    "plt.figure()\n",
    "plot_confusion_matrix(confusion_matrix(Y_origin_chord, Y_predict_chord), \n",
    "                      classes=['70s', '80s', '60s', '50s'], normalize=False,\n",
    "                      title='SVM Chord confusion matrix')"
   ]
  },
  {
   "cell_type": "code",
   "execution_count": 93,
   "metadata": {},
   "outputs": [
    {
     "name": "stdout",
     "output_type": "stream",
     "text": [
      "Normalized confusion matrix\n"
     ]
    },
    {
     "data": {
      "image/png": "[encoded data removed]",
      "text/plain": [
       "<matplotlib.figure.Figure at 0x7f87bef0b450>"
      ]
     },
     "metadata": {},
     "output_type": "display_data"
    }
   ],
   "source": [
    "plot_confusion_matrix(confusion_matrix(Y_origin_chord, Y_predict_chord), \n",
    "                      classes=['70s', '80s', '60s', '50s'], normalize=True,\n",
    "                      title='SVM Chord normalized confusion matrix')"
   ]
  },
  {
   "cell_type": "markdown",
   "metadata": {},
   "source": [
    "# SVM \n",
    "\n",
    "## Pitches"
   ]
  },
  {
   "cell_type": "code",
   "execution_count": 94,
   "metadata": {},
   "outputs": [
    {
     "name": "stdout",
     "output_type": "stream",
     "text": [
      "Rotation  0\n",
      "Rotation  1\n",
      "Rotation  2\n",
      "Rotation  3\n",
      "Rotation  4\n",
      "Rotation  5\n",
      "Rotation  6\n",
      "Rotation  7\n",
      "Rotation  8\n",
      "Rotation  9\n"
     ]
    }
   ],
   "source": [
    "# Chords\n",
    "X_pitch_ = X_pitch\n",
    "Y_ = Y\n",
    "Y_predict = []\n",
    "Y_original = []\n",
    "best_fits = []\n",
    "for i in range(10):\n",
    "    print \"Rotation \", i\n",
    "    test = int(len(X_pitch)*0.1)\n",
    "    valid = int(len(X_pitch)*0.1)+test\n",
    "    Y_test = Y_[-test:]\n",
    "    Y_valid = Y_[-valid:-test]\n",
    "    Y_train = Y_[:-valid]\n",
    "    X_test = X_pitch_[-test:]\n",
    "    X_valid = X_pitch_[-valid:-test]\n",
    "    X_train = X_pitch_[:-valid]\n",
    "    fit_ = fitDegree_C()\n",
    "    best_fit = max(enumerate(sum(sum(fit_, []), [])), key = lambda x: x[1])\n",
    "    best_fits.append(best_fit)\n",
    "    clf = svm.SVC(kernel = 'rbf', degree = best_fit[1][1], C=best_fit[1][-2], gamma = best_fit[1][-1],\n",
    "                  shrinking=False)\n",
    "    clf.fit(X_train, Y_train)\n",
    "    Y_predict.append(clf.predict(X_test))\n",
    "    Y_original.append(Y_test)\n",
    "    \n",
    "    X_pitch_ = rotate(X_pitch_, int(len(X_pitch_)*0.1))\n",
    "    Y_ = rotate(Y_, int(len(Y_)*0.1))"
   ]
  },
  {
   "cell_type": "code",
   "execution_count": 95,
   "metadata": {
    "collapsed": true
   },
   "outputs": [],
   "source": [
    "Y_predict_pitch = np.asarray(sum(map(lambda y: list(y), Y_predict), []))\n",
    "Y_origin_pitch = np.asarray(sum(map(lambda y: list(y), Y_original), []))"
   ]
  },
  {
   "cell_type": "code",
   "execution_count": 96,
   "metadata": {},
   "outputs": [
    {
     "name": "stdout",
     "output_type": "stream",
     "text": [
      "We predict the 64 percent of test data\n"
     ]
    }
   ],
   "source": [
    "print \"We predict the {} percent of test data\".format((Y_origin_pitch==Y_predict_pitch).sum()*100/len(Y_origin_pitch))"
   ]
  },
  {
   "cell_type": "code",
   "execution_count": 97,
   "metadata": {},
   "outputs": [
    {
     "data": {
      "text/plain": [
       "[(539, (67, 5, 22026.465794806718, 0.0004905)),\n",
       " (1199, (71, 5, 22026.465794806718, 0.0010955)),\n",
       " (19, (82, 5, 3.320116922736548, 1.7500000000000002e-05)),\n",
       " (797, (64, 5, 22026.465794806718, 0.000727)),\n",
       " (101, (75, 5, 22026.465794806718, 8.9e-05)),\n",
       " (95, (67, 5, 22026.465794806718, 8.35e-05)),\n",
       " (17, (78, 5, 22026.465794806718, 1.2e-05)),\n",
       " (59, (64, 5, 22026.465794806718, 5.0499999999999994e-05)),\n",
       " (35, (64, 5, 22026.465794806718, 2.8499999999999998e-05)),\n",
       " (95, (75, 5, 22026.465794806718, 8.35e-05))]"
      ]
     },
     "execution_count": 97,
     "metadata": {},
     "output_type": "execute_result"
    }
   ],
   "source": [
    "best_fits"
   ]
  },
  {
   "cell_type": "code",
   "execution_count": 98,
   "metadata": {},
   "outputs": [
    {
     "name": "stdout",
     "output_type": "stream",
     "text": [
      "Confusion matrix, without normalization\n"
     ]
    },
    {
     "data": {
      "image/png": "[encoded data removed]",
      "text/plain": [
       "<matplotlib.figure.Figure at 0x7f87bef391d0>"
      ]
     },
     "metadata": {},
     "output_type": "display_data"
    }
   ],
   "source": [
    "# Confusion matrix\n",
    "plt.figure()\n",
    "plot_confusion_matrix(confusion_matrix(Y_origin_pitch, Y_predict_pitch), \n",
    "                      classes=['70s', '80s', '60s', '50s'], normalize=False,\n",
    "                      title='SVM Pitch confusion matrix')"
   ]
  },
  {
   "cell_type": "code",
   "execution_count": 99,
   "metadata": {},
   "outputs": [
    {
     "name": "stdout",
     "output_type": "stream",
     "text": [
      "Normalized confusion matrix\n"
     ]
    },
    {
     "data": {
      "image/png": "[encoded data removed]",
      "text/plain": [
       "<matplotlib.figure.Figure at 0x7f87bf153290>"
      ]
     },
     "metadata": {},
     "output_type": "display_data"
    }
   ],
   "source": [
    "plot_confusion_matrix(confusion_matrix(Y_origin_pitch, Y_predict_pitch), \n",
    "                      classes=['70s', '80s', '60s', '50s'], normalize=True,\n",
    "                      title='SVM Pitch normalized confusion matrix')"
   ]
  },
  {
   "cell_type": "markdown",
   "metadata": {},
   "source": [
    "# Penalized Logistic Regression\n",
    "\n",
    "## Chords"
   ]
  },
  {
   "cell_type": "code",
   "execution_count": 100,
   "metadata": {
    "collapsed": true
   },
   "outputs": [],
   "source": [
    "# Fitting the parameter alpha for the LASSO model on the training / validation\n",
    "# Function to train LASSO on training set and to predict the validation set\n",
    "def trainpredict_L(C):\n",
    "    logreg = LogisticRegression(C = C, solver = 'newton-cg', multi_class='multinomial')\n",
    "    logreg.fit(X_train, Y_train)\n",
    "    Y_predict = logreg.predict(X_valid)\n",
    "    return (Y_valid == Y_predict).sum()*100/len(Y_valid), C\n",
    "\n",
    "# Function to fit alpha for LASSO\n",
    "def fitC():\n",
    "    return map(lambda C: trainpredict_L(np.e**C), np.linspace(-12, 1000, 300))"
   ]
  },
  {
   "cell_type": "code",
   "execution_count": 110,
   "metadata": {},
   "outputs": [
    {
     "name": "stdout",
     "output_type": "stream",
     "text": [
      "Rotation  0\n"
     ]
    },
    {
     "name": "stderr",
     "output_type": "stream",
     "text": [
      "/home/denis/anaconda2/lib/python2.7/site-packages/ipykernel/__main__.py:11: RuntimeWarning: overflow encountered in double_scalars\n"
     ]
    },
    {
     "name": "stdout",
     "output_type": "stream",
     "text": [
      "Rotation  1\n",
      "Rotation  2\n",
      "Rotation  3\n",
      "Rotation  4\n",
      "Rotation  5\n",
      "Rotation  6\n",
      "Rotation  7\n",
      "Rotation  8\n",
      "Rotation  9\n"
     ]
    }
   ],
   "source": [
    "# Chords\n",
    "X_chord_ = X_chord\n",
    "Y_ = Y\n",
    "Y_predict = []\n",
    "Y_original = []\n",
    "best_fits = []\n",
    "for i in range(10):\n",
    "    print \"Rotation \", i\n",
    "    test = int(len(X_pitch)*0.1)\n",
    "    valid = int(len(X_pitch)*0.15)+test\n",
    "    Y_test = Y_[-test:]\n",
    "    Y_valid = Y_[-valid:-test]\n",
    "    Y_train = Y_[:-valid]\n",
    "    X_test = X_chord_[-test:]\n",
    "    X_valid = X_chord_[-valid:-test]\n",
    "    X_train = X_chord_[:-valid]\n",
    "    fit_ = fitC()\n",
    "    best_fit = max(enumerate(fit_), key = lambda x: x[1])\n",
    "    best_fits.append(best_fit)\n",
    "    logreg = LogisticRegression(C = best_fit[1][-1], solver = 'newton-cg', multi_class='multinomial')\n",
    "    logreg.fit(X_train, Y_train)\n",
    "    Y_predict.append(logreg.predict(X_test))\n",
    "    Y_original.append(Y_test)\n",
    "    X_chord_ = rotate(X_chord_, int(len(X_chord_)*0.1))\n",
    "    Y_ = rotate(Y_, int(len(Y_)*0.1))"
   ]
  },
  {
   "cell_type": "code",
   "execution_count": 111,
   "metadata": {
    "collapsed": true
   },
   "outputs": [],
   "source": [
    "Y_predict_chord = np.asarray(sum(map(lambda y: list(y), Y_predict), []))\n",
    "Y_origin_chord = np.asarray(sum(map(lambda y: list(y), Y_original), []))"
   ]
  },
  {
   "cell_type": "code",
   "execution_count": 113,
   "metadata": {},
   "outputs": [
    {
     "name": "stdout",
     "output_type": "stream",
     "text": [
      "We predict the 60 percent of test data\n"
     ]
    }
   ],
   "source": [
    "print \"We predict the {} percent of test data\".format((Y_origin_chord==Y_predict_chord).sum()*100/len(Y_origin_chord))"
   ]
  },
  {
   "cell_type": "code",
   "execution_count": 114,
   "metadata": {},
   "outputs": [
    {
     "data": {
      "text/plain": [
       "[(6, (62, 4054.9446137122827)),\n",
       " (7, (62, 119647.79833715739)),\n",
       " (5, (62, 137.4248088873355)),\n",
       " (6, (67, 4054.9446137122827)),\n",
       " (11, (65, 90695105660.905441)),\n",
       " (2, (65, 0.0053494087897504239)),\n",
       " (5, (62, 137.4248088873355)),\n",
       " (6, (60, 4054.9446137122827)),\n",
       " (1, (72, 0.00018129507320660182)),\n",
       " (3, (62, 0.15784308913485159))]"
      ]
     },
     "execution_count": 114,
     "metadata": {},
     "output_type": "execute_result"
    }
   ],
   "source": [
    "best_fits"
   ]
  },
  {
   "cell_type": "code",
   "execution_count": 115,
   "metadata": {},
   "outputs": [
    {
     "name": "stdout",
     "output_type": "stream",
     "text": [
      "Confusion matrix, without normalization\n"
     ]
    },
    {
     "data": {
      "image/png": "[encoded data removed]",
      "text/plain": [
       "<matplotlib.figure.Figure at 0x7f87bf1b4c90>"
      ]
     },
     "metadata": {},
     "output_type": "display_data"
    }
   ],
   "source": [
    "# Confusion matrix\n",
    "plt.figure()\n",
    "plot_confusion_matrix(confusion_matrix(Y_origin_chord, Y_predict_chord), \n",
    "                      classes=['70s', '80s', '60s', '50s'], normalize=False,\n",
    "                      title='Logistic Chord confusion matrix')"
   ]
  },
  {
   "cell_type": "code",
   "execution_count": 116,
   "metadata": {},
   "outputs": [
    {
     "name": "stdout",
     "output_type": "stream",
     "text": [
      "Normalized confusion matrix\n"
     ]
    },
    {
     "data": {
      "image/png": "[encoded data removed]",
      "text/plain": [
       "<matplotlib.figure.Figure at 0x7f87bc34a890>"
      ]
     },
     "metadata": {},
     "output_type": "display_data"
    }
   ],
   "source": [
    "plot_confusion_matrix(confusion_matrix(Y_origin_chord, Y_predict_chord), \n",
    "                      classes=['70s', '80s', '60s', '50s'], normalize=True,\n",
    "                      title='Logistic Chord normalized confusion matrix')"
   ]
  },
  {
   "cell_type": "markdown",
   "metadata": {},
   "source": [
    "# Linear Regression LASSO\n",
    "\n",
    "## Pithces"
   ]
  },
  {
   "cell_type": "code",
   "execution_count": 117,
   "metadata": {},
   "outputs": [
    {
     "name": "stdout",
     "output_type": "stream",
     "text": [
      "Rotation  0\n"
     ]
    },
    {
     "name": "stderr",
     "output_type": "stream",
     "text": [
      "/home/denis/anaconda2/lib/python2.7/site-packages/ipykernel/__main__.py:11: RuntimeWarning: overflow encountered in double_scalars\n"
     ]
    },
    {
     "name": "stdout",
     "output_type": "stream",
     "text": [
      "Rotation  1\n",
      "Rotation  2\n",
      "Rotation  3\n",
      "Rotation  4\n",
      "Rotation  5\n",
      "Rotation  6\n",
      "Rotation  7\n",
      "Rotation  8\n",
      "Rotation  9\n"
     ]
    }
   ],
   "source": [
    "# Chords\n",
    "X_pitch_ = X_pitch\n",
    "Y_ = Y\n",
    "Y_predict = []\n",
    "Y_original = []\n",
    "best_fits = []\n",
    "for i in range(10):\n",
    "    print \"Rotation \", i\n",
    "    test = int(len(X_pitch)*0.1)\n",
    "    valid = int(len(X_pitch)*0.15)+test\n",
    "    Y_test = Y_[-test:]\n",
    "    Y_valid = Y_[-valid:-test]\n",
    "    Y_train = Y_[:-valid]\n",
    "    X_test = X_pitch_[-test:]\n",
    "    X_valid = X_pitch_[-valid:-test]\n",
    "    X_train = X_pitch_[:-valid]\n",
    "    fit_ = fitC()\n",
    "    best_fit = max(enumerate(fit_), key = lambda x: x[1])\n",
    "    best_fits.append(best_fit)\n",
    "    logreg = LogisticRegression(C = best_fit[1][-1], solver = 'newton-cg', multi_class='multinomial')\n",
    "    logreg.fit(X_train, Y_train)\n",
    "    Y_predict.append(logreg.predict(X_test))\n",
    "    Y_original.append(Y_test)\n",
    "    X_pitch_ = rotate(X_pitch_, int(len(X_pitch_)*0.1))\n",
    "    Y_ = rotate(Y_, int(len(Y_)*0.1))"
   ]
  },
  {
   "cell_type": "code",
   "execution_count": 118,
   "metadata": {
    "collapsed": true
   },
   "outputs": [],
   "source": [
    "Y_predict_chord = np.asarray(sum(map(lambda y: list(y), Y_predict), []))\n",
    "Y_origin_chord = np.asarray(sum(map(lambda y: list(y), Y_original), []))"
   ]
  },
  {
   "cell_type": "code",
   "execution_count": 119,
   "metadata": {},
   "outputs": [
    {
     "name": "stdout",
     "output_type": "stream",
     "text": [
      "We predict the 55 percent of test data\n"
     ]
    }
   ],
   "source": [
    "print \"We predict the {} percent of test data\".format((Y_origin_chord==Y_predict_chord).sum()*100/len(Y_origin_chord))"
   ]
  },
  {
   "cell_type": "code",
   "execution_count": 120,
   "metadata": {},
   "outputs": [
    {
     "data": {
      "text/plain": [
       "[(5, (65, 137.4248088873355)),\n",
       " (4, (58, 4.6574194956589041)),\n",
       " (1, (62, 0.00018129507320660182)),\n",
       " (2, (58, 0.0053494087897504239)),\n",
       " (214, (51, inf)),\n",
       " (3, (62, 0.15784308913485159)),\n",
       " (6, (67, 4054.9446137122827)),\n",
       " (2, (58, 0.0053494087897504239)),\n",
       " (1, (60, 0.00018129507320660182)),\n",
       " (2, (65, 0.0053494087897504239))]"
      ]
     },
     "execution_count": 120,
     "metadata": {},
     "output_type": "execute_result"
    }
   ],
   "source": [
    "best_fits"
   ]
  },
  {
   "cell_type": "code",
   "execution_count": 121,
   "metadata": {},
   "outputs": [
    {
     "name": "stdout",
     "output_type": "stream",
     "text": [
      "Confusion matrix, without normalization\n"
     ]
    },
    {
     "data": {
      "image/png": "[encoded data removed]",
      "text/plain": [
       "<matplotlib.figure.Figure at 0x7f87bf14abd0>"
      ]
     },
     "metadata": {},
     "output_type": "display_data"
    }
   ],
   "source": [
    "# Confusion matrix\n",
    "plt.figure()\n",
    "plot_confusion_matrix(confusion_matrix(Y_origin_pitch, Y_predict_pitch), \n",
    "                      classes=['70s', '80s', '60s', '50s'], normalize=False,\n",
    "                      title='Logistic Pitch confusion matrix')"
   ]
  },
  {
   "cell_type": "code",
   "execution_count": 122,
   "metadata": {},
   "outputs": [
    {
     "name": "stdout",
     "output_type": "stream",
     "text": [
      "Normalized confusion matrix\n"
     ]
    },
    {
     "data": {
      "image/png": "[encoded data removed]",
      "text/plain": [
       "<matplotlib.figure.Figure at 0x7f87bc77bb10>"
      ]
     },
     "metadata": {},
     "output_type": "display_data"
    }
   ],
   "source": [
    "plot_confusion_matrix(confusion_matrix(Y_origin_pitch, Y_predict_pitch), \n",
    "                      classes=['70s', '80s', '60s', '50s'], normalize=True,\n",
    "                      title='Logistic Pitch normalized confusion matrix')"
   ]
  },
  {
   "cell_type": "code",
   "execution_count": null,
   "metadata": {
    "collapsed": true
   },
   "outputs": [],
   "source": []
  }
 ],
 "metadata": {
  "anaconda-cloud": {},
  "kernelspec": {
   "display_name": "Python [default]",
   "language": "python",
   "name": "python2"
  },
  "language_info": {
   "codemirror_mode": {
    "name": "ipython",
    "version": 2
   },
   "file_extension": ".py",
   "mimetype": "text/x-python",
   "name": "python",
   "nbconvert_exporter": "python",
   "pygments_lexer": "ipython2",
   "version": "2.7.13"
  }
 },
 "nbformat": 4,
 "nbformat_minor": 2
}
