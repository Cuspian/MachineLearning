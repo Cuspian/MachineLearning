{
 "cells": [
  {
   "cell_type": "code",
   "execution_count": 85,
   "metadata": {
    "collapsed": false,
    "deletable": true,
    "editable": true
   },
   "outputs": [],
   "source": [
    "from chordextractor import ChordExtractor\n",
    "import chordgraph\n",
    "\n",
    "import numpy as np\n",
    "from sklearn.model_selection import train_test_split\n",
    "from sklearn import svm\n",
    "from scipy.stats import itemfreq\n",
    "import time\n",
    "import os\n",
    "import pickle\n",
    "#from itertools import imap\n",
    "#from functools import partial\n",
    "#import math"
   ]
  },
  {
   "cell_type": "code",
   "execution_count": 142,
   "metadata": {
    "collapsed": false
   },
   "outputs": [],
   "source": [
    "# Get file names of type type_ in all the subdirectories of the path\n",
    "def get_filenames(path, type_ = None):\n",
    "    if type_ == None:\n",
    "        return sum(map(lambda walks: (map(lambda name: os.path.join(walks[0], name),\n",
    "                                                                           walks[2])), os.walk(path)), [])\n",
    "    else:\n",
    "        return filter(lambda f: f.endswith(type_), sum(map(lambda walks: (map(lambda name: os.path.join(walks[0], name),\n",
    "                                                                           walks[2])), os.walk(path)), []))\n",
    "       \n",
    "# Getting set of all possible chords after normalization        \n",
    "chord_encode =  {k: i for k, i in zip(chordgraph.ChordGraph().normalized_chords,\n",
    "                                      range(len(chordgraph.ChordGraph().normalized_chords)))}        \n",
    "        \n",
    "# Enumerating chords for processing and storage optimization\n",
    "def encode_chords(chords, encoder = None, type_ = None):\n",
    "    if type_ == 'chord':\n",
    "        return map(lambda chord: encoder[chord], chords)\n",
    "    return chords\n",
    "\n",
    "# Generate all sequences of 4 consecutive notes\n",
    "def get_sequences(data):\n",
    "    #for seq in imap(lambda i: [data[i], data[i+1], data[i+2], data[i+3]], range(0, len(data)-3)):\n",
    "    #    yield seq\n",
    "    return map(lambda i: [data[i], data[i+1], data[i+2], data[i+3]], range(0, len(data)-3))\n",
    "\n",
    "# Returns index of the note quartet in the vector\n",
    "def notestoindex(numbers, num):\n",
    "    return reduce(lambda x, y: num*x+y, numbers)\n",
    "\n",
    "# Build vector of ocurrences of note quartets\n",
    "def build_vector(sequence, num):\n",
    "    vector = [0] * num**4\n",
    "    seqs_indexed = map(notestoindex, sequence, [num]*len(sequence))\n",
    "    for x in itemfreq(seqs_indexed):\n",
    "        vector[x[0]] = x[1]\n",
    "    return vector\n",
    "\n",
    "def vector_from_file(filename_):\n",
    "    extractor = ChordExtractor(filename_)\n",
    "    chord_vector = build_vector(get_sequences(encode_chords(extractor.getNormalizedChords(), chord_encode, 'chord')),14)\n",
    "    pitch_vector = build_vector(get_sequences(encode_chords(extractor.getNormalizedPitches())),12)\n",
    "    return chord_vector, pitch_vector\n",
    "\n",
    "#normalizedChords = extractor.getNormalizedChords()\n",
    "#normalizedPitches = extractor.getNormalizedPitches()\n",
    "# normalizedDurations = extractor.getChordDurations()\n",
    "\n",
    "# Build vectors from MIDI files and pickle them\n",
    "def vectors_from_files(path, class_, count):\n",
    "    files = map(lambda x: x[0], sorted(map(lambda f: [f, os.stat(f).st_size], get_filenames(path)), \n",
    "                                   key = lambda x: x[1]))[:count]\n",
    "    c = 0\n",
    "    for name in files:\n",
    "        with open(str(class_)+str(c)+\".dat\", \"wb\") as f:\n",
    "            pickle.dump(vector_from_file(name), f)\n",
    "            print name+\" done\"\n",
    "            print str(class_)+str(c)+\".dat\"\n",
    "            c+=1\n",
    "    #X = map(lambda name: vector_from_file(name), files)\n",
    "    return True\n",
    "\n",
    "# Loading vectors from pickles\n",
    "def get_vectors_from_pickles(path):\n",
    "    class0 = filter(lambda x: x.split('/')[-1][0]=='0', get_filenames(path, \".dat\"))\n",
    "    class1 = filter(lambda x: x.split('/')[-1][0]=='1', get_filenames(path, \".dat\"))\n",
    "    vector0 = []\n",
    "    vector1 = []\n",
    "    for name in class0:\n",
    "        with open(name, \"rb\") as f:\n",
    "            vector0.append(pickle.load(f))\n",
    "    for name in class1:\n",
    "        with open(name, \"rb\") as f:\n",
    "            vector1.append(pickle.load(f))\n",
    "    return vector0, vector1"
   ]
  },
  {
   "cell_type": "code",
   "execution_count": 124,
   "metadata": {
    "collapsed": false,
    "deletable": true,
    "editable": true
   },
   "outputs": [
    {
     "data": {
      "text/plain": [
       "193"
      ]
     },
     "execution_count": 124,
     "metadata": {},
     "output_type": "execute_result"
    }
   ],
   "source": [
    "path_to_class0 = './70s/'\n",
    "path_to_class1 = './80s/'\n",
    "# Renaming 50s and 60s .kar to .mid\n",
    "map1 = map(lambda name: os.rename(name, name.replace(\".kar\", \".mid\").replace(\".KAR\", \".mid\")), \n",
    "           get_filenames(path_to_class0))\n",
    "map2 = map(lambda name: os.rename(name, name.replace(\".kar\", \".mid\").replace(\".KAR\", \".mid\")), \n",
    "           get_filenames(path_to_class1))\n",
    "\n",
    "# Identifying the smallest directory in terms of number of midis\n",
    "midi_count = min(len(get_filenames(path_to_class0)), len(get_filenames(path_to_class1)))\n",
    "midi_count"
   ]
  },
  {
   "cell_type": "code",
   "execution_count": 123,
   "metadata": {
    "collapsed": false,
    "deletable": true,
    "editable": true,
    "scrolled": true
   },
   "outputs": [
    {
     "name": "stdout",
     "output_type": "stream",
     "text": [
      "./70s/DON MCLEAN Vincent.mid done\n",
      "050.dat\n",
      "./70s/JUICE NEWTON Angel of the morning.mid done\n",
      "051.dat\n",
      "./70s/CAT STEVENS Morning Has Broken.mid done\n",
      "052.dat\n",
      "./70s/ENGLEBERT Am I that easy to forget.mid done\n",
      "053.dat\n",
      "./70s/LEONARD COHEN Suzanne.mid done\n",
      "054.dat\n",
      "./70s/RUBY & ROMANTICS Our day will come.mid done\n",
      "055.dat\n",
      "./70s/BANGLES Eternal Flame.mid done\n",
      "056.dat\n",
      "./70s/KANSAS Dust In The Wind.mid done\n",
      "057.dat\n",
      "./70s/CARLY SIMON Nobody Does It Better.mid done\n",
      "058.dat\n",
      "./70s/BJ THOMAS Raindrops Keep Falling On My Head.mid done\n",
      "059.dat\n",
      "./70s/JIM CROCE Time in a bottle.mid done\n",
      "060.dat\n",
      "./70s/CAT STEVENS Father And Son.mid done\n",
      "061.dat\n",
      "./70s/SAMMY DAVIS JR if i ruled the world.mid done\n",
      "062.dat\n",
      "./70s/GLEN CAMPBELL By The Time I Get To Phoenix.mid done\n",
      "063.dat\n",
      "./70s/TIFFANY I Think We're Alone Now.mid done\n",
      "064.dat\n",
      "./70s/JAY & AMERICANS Come a little bit closer.mid done\n",
      "065.dat\n",
      "./70s/TODD RUNDGREN A dream go.mid done\n",
      "066.dat\n",
      "./70s/BANGLES Manic Monday.mid done\n",
      "067.dat\n",
      "./70s/LEONARD COHEN Jazz police.mid done\n",
      "068.dat\n",
      "./70s/GEORGE BENSON In Your Eyes.mid done\n",
      "069.dat\n",
      "./70s/CARLY SIMON It happen.mid done\n",
      "070.dat\n",
      "./70s/ACDC Highway to hell.mid done\n",
      "071.dat\n",
      "./70s/GARY LEWIS & PLAYBOYS Sealed With A Kiss.mid done\n",
      "072.dat\n",
      "./70s/SOFT CELL TaintedLove.mid done\n",
      "073.dat\n",
      "./70s/SHIRLEY BASSEY And I Love You So.mid done\n",
      "074.dat\n",
      "./70s/KRIS KRISTOFFERSON Help Me Make It Thru The Night.mid done\n",
      "075.dat\n",
      "./70s/DIXIE CUPS Chapel Of Love.mid done\n",
      "076.dat\n",
      "./70s/SHIRLEY BASSEY What now my love.mid done\n",
      "077.dat\n",
      "./70s/ANNE MURRAY You Needed Me.mid done\n",
      "078.dat\n",
      "./70s/ALLMAN BROS Midnight Rider.mid done\n",
      "079.dat\n",
      "./70s/SEEKERS Georgie Girl.mid done\n",
      "080.dat\n",
      "./70s/ENGLEBERT The last waltz.mid done\n",
      "081.dat\n",
      "./70s/IRON MAIDEN Wasting Love.mid done\n",
      "082.dat\n",
      "./70s/SEEKERS ill never find another you.mid done\n",
      "083.dat\n",
      "./70s/JIM CROCE Ill Have To Say I Love You In A Song.mid done\n",
      "084.dat\n",
      "./70s/WONDERS That Thing You Do.mid done\n",
      "085.dat\n",
      "./70s/WILSON PICKETT Midnite Hour.mid done\n",
      "086.dat\n",
      "./70s/CAPTAIN & TENILLE Do That To Me One More Time.mid done\n",
      "087.dat\n",
      "./70s/JIMMY BUFFET Son Of A Son Of A Sailor.mid done\n",
      "088.dat\n",
      "./70s/SHIRLEY BASSEY Big Spender.mid done\n",
      "089.dat\n",
      "./70s/TEN YEARS AFTER id love to change the world.mid done\n",
      "090.dat\n",
      "./70s/BARRY MANILOW Mandy.mid done\n",
      "091.dat\n",
      "./70s/JOHNNY RIVERS Memphis Tennesee.mid done\n",
      "092.dat\n",
      "./70s/SAMMY DAVIS JR Mr Bojangles.mid done\n",
      "093.dat\n",
      "./70s/BOX TOPS The letter.mid done\n",
      "094.dat\n",
      "./70s/MONKEES Day Dream Believer.mid done\n",
      "095.dat\n",
      "./70s/BAD FINGER Come and get it.mid done\n",
      "096.dat\n",
      "./70s/GORDON LIGHTFOOT if you could read my mind.mid done\n",
      "097.dat\n",
      "./70s/GARY PUCKET Young Girl.mid done\n",
      "098.dat\n",
      "./70s/FOUNDATIONS Build me up buttercup.mid done\n",
      "099.dat\n",
      "Class 0 is done\n",
      "--- 18481.182925 seconds ---\n",
      "./80s/JOE COCKER You are so beautiful.mid done\n",
      "150.dat\n",
      "./80s/SHEENA EASTON For your Eyes only.mid done\n",
      "151.dat\n",
      "./80s/SUZANNE VEGA Toms Diner.mid done\n",
      "152.dat\n",
      "./80s/BARBRA STREISAND Evergreen.mid done\n",
      "153.dat\n",
      "./80s/WHITE LION When The Children Cry.mid done\n",
      "154.dat\n",
      "./80s/RICHARD MARX Right Here Waiting.mid done\n",
      "155.dat\n",
      "./80s/VANESSA WILLIAMS Colors Of The Wind.mid done\n",
      "156.dat\n",
      "./80s/MARILLION The great escape.mid done\n",
      "157.dat\n",
      "./80s/GEORGE MICHAEL One More Try.mid done\n",
      "158.dat\n",
      "./80s/MORRIS ALBERT Feelings.mid done\n",
      "159.dat\n",
      "./80s/ANOUK Nobody's wife.mid done\n",
      "160.dat\n",
      "./80s/NATALIE COLE Unforgettable.mid done\n",
      "161.dat\n",
      "./80s/DIONNE WARWICK What The World Needs Now.mid done\n",
      "162.dat\n",
      "./80s/DEBBIE GIBSON Lost In Your Eyes.mid done\n",
      "163.dat\n",
      "./80s/BILL WITHER Aint no sunshine.mid done\n",
      "164.dat\n",
      "./80s/BETTE MIDLER Wind Beneath My Wings.mid done\n",
      "165.dat\n",
      "./80s/FOREIGNER 2I Want To Know What Love Is.mid done\n",
      "166.dat\n",
      "./80s/HOTHOUSE FLOWERS I Can See Clearly Now.mid done\n",
      "167.dat\n",
      "./80s/VANESSA WILLIAMS Saved The Best For Last.mid done\n",
      "168.dat\n",
      "./80s/PAULA ABDUL Straight Up.mid done\n",
      "169.dat\n",
      "./80s/AARON NEVILLE LINDA RONSTADT Dont Know Much.mid done\n",
      "170.dat\n",
      "./80s/ENYA Anywhere is.mid done\n",
      "171.dat\n"
     ]
    },
    {
     "ename": "IndexError",
     "evalue": "string index out of range",
     "output_type": "error",
     "traceback": [
      "\u001b[0;31m---------------------------------------------------------------------------\u001b[0m",
      "\u001b[0;31mIndexError\u001b[0m                                Traceback (most recent call last)",
      "\u001b[0;32m<ipython-input-123-ebc259f4e112>\u001b[0m in \u001b[0;36m<module>\u001b[0;34m()\u001b[0m\n\u001b[1;32m      3\u001b[0m \u001b[0;32mprint\u001b[0m \u001b[0;34m\"Class 0 is done\"\u001b[0m\u001b[0;34m\u001b[0m\u001b[0m\n\u001b[1;32m      4\u001b[0m \u001b[0;32mprint\u001b[0m\u001b[0;34m(\u001b[0m\u001b[0;34m\"--- %s seconds ---\"\u001b[0m \u001b[0;34m%\u001b[0m \u001b[0;34m(\u001b[0m\u001b[0mtime\u001b[0m\u001b[0;34m.\u001b[0m\u001b[0mtime\u001b[0m\u001b[0;34m(\u001b[0m\u001b[0;34m)\u001b[0m \u001b[0;34m-\u001b[0m \u001b[0mstart_time\u001b[0m\u001b[0;34m)\u001b[0m\u001b[0;34m)\u001b[0m\u001b[0;34m\u001b[0m\u001b[0m\n\u001b[0;32m----> 5\u001b[0;31m \u001b[0mvectors1\u001b[0m \u001b[0;34m=\u001b[0m \u001b[0mvectors_from_files\u001b[0m\u001b[0;34m(\u001b[0m\u001b[0mpath_to_class1\u001b[0m\u001b[0;34m,\u001b[0m \u001b[0;36m1\u001b[0m\u001b[0;34m,\u001b[0m \u001b[0mmidi_count\u001b[0m\u001b[0;34m)\u001b[0m\u001b[0;34m\u001b[0m\u001b[0m\n\u001b[0m\u001b[1;32m      6\u001b[0m \u001b[0;32mprint\u001b[0m \u001b[0;34m\"Class 1 is done\"\u001b[0m\u001b[0;34m\u001b[0m\u001b[0m\n\u001b[1;32m      7\u001b[0m \u001b[0;32mprint\u001b[0m\u001b[0;34m(\u001b[0m\u001b[0;34m\"--- %s seconds ---\"\u001b[0m \u001b[0;34m%\u001b[0m \u001b[0;34m(\u001b[0m\u001b[0mtime\u001b[0m\u001b[0;34m.\u001b[0m\u001b[0mtime\u001b[0m\u001b[0;34m(\u001b[0m\u001b[0;34m)\u001b[0m \u001b[0;34m-\u001b[0m \u001b[0mstart_time\u001b[0m\u001b[0;34m)\u001b[0m\u001b[0;34m)\u001b[0m\u001b[0;34m\u001b[0m\u001b[0m\n",
      "\u001b[0;32m<ipython-input-120-8ff8a4b165e5>\u001b[0m in \u001b[0;36mvectors_from_files\u001b[0;34m(path, class_, count)\u001b[0m\n\u001b[1;32m     53\u001b[0m     \u001b[0;32mfor\u001b[0m \u001b[0mname\u001b[0m \u001b[0;32min\u001b[0m \u001b[0mfiles\u001b[0m\u001b[0;34m:\u001b[0m\u001b[0;34m\u001b[0m\u001b[0m\n\u001b[1;32m     54\u001b[0m         \u001b[0;32mwith\u001b[0m \u001b[0mopen\u001b[0m\u001b[0;34m(\u001b[0m\u001b[0mstr\u001b[0m\u001b[0;34m(\u001b[0m\u001b[0mclass_\u001b[0m\u001b[0;34m)\u001b[0m\u001b[0;34m+\u001b[0m\u001b[0mstr\u001b[0m\u001b[0;34m(\u001b[0m\u001b[0mc\u001b[0m\u001b[0;34m-\u001b[0m\u001b[0;36m10\u001b[0m\u001b[0;34m)\u001b[0m\u001b[0;34m+\u001b[0m\u001b[0;34m\".dat\"\u001b[0m\u001b[0;34m,\u001b[0m \u001b[0;34m\"wb\"\u001b[0m\u001b[0;34m)\u001b[0m \u001b[0;32mas\u001b[0m \u001b[0mf\u001b[0m\u001b[0;34m:\u001b[0m\u001b[0;34m\u001b[0m\u001b[0m\n\u001b[0;32m---> 55\u001b[0;31m             \u001b[0mpickle\u001b[0m\u001b[0;34m.\u001b[0m\u001b[0mdump\u001b[0m\u001b[0;34m(\u001b[0m\u001b[0mvector_from_file\u001b[0m\u001b[0;34m(\u001b[0m\u001b[0mname\u001b[0m\u001b[0;34m)\u001b[0m\u001b[0;34m,\u001b[0m \u001b[0mf\u001b[0m\u001b[0;34m)\u001b[0m\u001b[0;34m\u001b[0m\u001b[0m\n\u001b[0m\u001b[1;32m     56\u001b[0m             \u001b[0;32mprint\u001b[0m \u001b[0mname\u001b[0m\u001b[0;34m+\u001b[0m\u001b[0;34m\" done\"\u001b[0m\u001b[0;34m\u001b[0m\u001b[0m\n\u001b[1;32m     57\u001b[0m             \u001b[0;32mprint\u001b[0m \u001b[0mstr\u001b[0m\u001b[0;34m(\u001b[0m\u001b[0mclass_\u001b[0m\u001b[0;34m)\u001b[0m\u001b[0;34m+\u001b[0m\u001b[0mstr\u001b[0m\u001b[0;34m(\u001b[0m\u001b[0mc\u001b[0m\u001b[0;34m-\u001b[0m\u001b[0;36m10\u001b[0m\u001b[0;34m)\u001b[0m\u001b[0;34m+\u001b[0m\u001b[0;34m\".dat\"\u001b[0m\u001b[0;34m\u001b[0m\u001b[0m\n",
      "\u001b[0;32m<ipython-input-120-8ff8a4b165e5>\u001b[0m in \u001b[0;36mvector_from_file\u001b[0;34m(filename_)\u001b[0m\n\u001b[1;32m     37\u001b[0m \u001b[0;34m\u001b[0m\u001b[0m\n\u001b[1;32m     38\u001b[0m \u001b[0;32mdef\u001b[0m \u001b[0mvector_from_file\u001b[0m\u001b[0;34m(\u001b[0m\u001b[0mfilename_\u001b[0m\u001b[0;34m)\u001b[0m\u001b[0;34m:\u001b[0m\u001b[0;34m\u001b[0m\u001b[0m\n\u001b[0;32m---> 39\u001b[0;31m     \u001b[0mextractor\u001b[0m \u001b[0;34m=\u001b[0m \u001b[0mChordExtractor\u001b[0m\u001b[0;34m(\u001b[0m\u001b[0mfilename_\u001b[0m\u001b[0;34m)\u001b[0m\u001b[0;34m\u001b[0m\u001b[0m\n\u001b[0m\u001b[1;32m     40\u001b[0m     \u001b[0mchord_vector\u001b[0m \u001b[0;34m=\u001b[0m \u001b[0mbuild_vector\u001b[0m\u001b[0;34m(\u001b[0m\u001b[0mget_sequences\u001b[0m\u001b[0;34m(\u001b[0m\u001b[0mencode_chords\u001b[0m\u001b[0;34m(\u001b[0m\u001b[0mextractor\u001b[0m\u001b[0;34m.\u001b[0m\u001b[0mgetNormalizedChords\u001b[0m\u001b[0;34m(\u001b[0m\u001b[0;34m)\u001b[0m\u001b[0;34m,\u001b[0m \u001b[0mchord_encode\u001b[0m\u001b[0;34m,\u001b[0m \u001b[0;34m'chord'\u001b[0m\u001b[0;34m)\u001b[0m\u001b[0;34m)\u001b[0m\u001b[0;34m,\u001b[0m\u001b[0;36m14\u001b[0m\u001b[0;34m)\u001b[0m\u001b[0;34m\u001b[0m\u001b[0m\n\u001b[1;32m     41\u001b[0m     \u001b[0mpitch_vector\u001b[0m \u001b[0;34m=\u001b[0m \u001b[0mbuild_vector\u001b[0m\u001b[0;34m(\u001b[0m\u001b[0mget_sequences\u001b[0m\u001b[0;34m(\u001b[0m\u001b[0mencode_chords\u001b[0m\u001b[0;34m(\u001b[0m\u001b[0mextractor\u001b[0m\u001b[0;34m.\u001b[0m\u001b[0mgetNormalizedPitches\u001b[0m\u001b[0;34m(\u001b[0m\u001b[0;34m)\u001b[0m\u001b[0;34m)\u001b[0m\u001b[0;34m)\u001b[0m\u001b[0;34m,\u001b[0m\u001b[0;36m12\u001b[0m\u001b[0;34m)\u001b[0m\u001b[0;34m\u001b[0m\u001b[0m\n",
      "\u001b[0;32m/home/denis/Desktop/MachineLearning/chordextractor.pyc\u001b[0m in \u001b[0;36m__init__\u001b[0;34m(self, fileName, parsedFile)\u001b[0m\n\u001b[1;32m     19\u001b[0m     \u001b[0;32mdef\u001b[0m \u001b[0m__init__\u001b[0m\u001b[0;34m(\u001b[0m\u001b[0mself\u001b[0m\u001b[0;34m,\u001b[0m \u001b[0mfileName\u001b[0m\u001b[0;34m=\u001b[0m\u001b[0mNone\u001b[0m\u001b[0;34m,\u001b[0m \u001b[0mparsedFile\u001b[0m\u001b[0;34m=\u001b[0m\u001b[0mNone\u001b[0m\u001b[0;34m)\u001b[0m\u001b[0;34m:\u001b[0m\u001b[0;34m\u001b[0m\u001b[0m\n\u001b[1;32m     20\u001b[0m         \u001b[0;32mif\u001b[0m \u001b[0mfileName\u001b[0m\u001b[0;34m:\u001b[0m\u001b[0;34m\u001b[0m\u001b[0m\n\u001b[0;32m---> 21\u001b[0;31m             \u001b[0mself\u001b[0m\u001b[0;34m.\u001b[0m\u001b[0mparsedFile\u001b[0m \u001b[0;34m=\u001b[0m \u001b[0mmusic21\u001b[0m\u001b[0;34m.\u001b[0m\u001b[0mconverter\u001b[0m\u001b[0;34m.\u001b[0m\u001b[0mparse\u001b[0m\u001b[0;34m(\u001b[0m\u001b[0mfileName\u001b[0m\u001b[0;34m)\u001b[0m\u001b[0;34m\u001b[0m\u001b[0m\n\u001b[0m\u001b[1;32m     22\u001b[0m         \u001b[0;32melif\u001b[0m \u001b[0mparsedFile\u001b[0m\u001b[0;34m:\u001b[0m\u001b[0;34m\u001b[0m\u001b[0m\n\u001b[1;32m     23\u001b[0m             \u001b[0mself\u001b[0m\u001b[0;34m.\u001b[0m\u001b[0mparsedFile\u001b[0m \u001b[0;34m=\u001b[0m \u001b[0mparsedFile\u001b[0m\u001b[0;34m\u001b[0m\u001b[0m\n",
      "\u001b[0;32m/home/denis/anaconda2/lib/python2.7/site-packages/music21/converter/__init__.pyc\u001b[0m in \u001b[0;36mparse\u001b[0;34m(value, *args, **keywords)\u001b[0m\n\u001b[1;32m   1085\u001b[0m     \u001b[0;32melif\u001b[0m \u001b[0mos\u001b[0m\u001b[0;34m.\u001b[0m\u001b[0mpath\u001b[0m\u001b[0;34m.\u001b[0m\u001b[0mexists\u001b[0m\u001b[0;34m(\u001b[0m\u001b[0mvalue\u001b[0m\u001b[0;34m)\u001b[0m\u001b[0;34m:\u001b[0m\u001b[0;34m\u001b[0m\u001b[0m\n\u001b[1;32m   1086\u001b[0m         return parseFile(value, number=number, format=m21Format, \n\u001b[0;32m-> 1087\u001b[0;31m                          forceSource=forceSource, **keywords)\n\u001b[0m\u001b[1;32m   1088\u001b[0m     \u001b[0;32melif\u001b[0m \u001b[0mos\u001b[0m\u001b[0;34m.\u001b[0m\u001b[0mpath\u001b[0m\u001b[0;34m.\u001b[0m\u001b[0mexists\u001b[0m\u001b[0;34m(\u001b[0m\u001b[0mcommon\u001b[0m\u001b[0;34m.\u001b[0m\u001b[0mcleanpath\u001b[0m\u001b[0;34m(\u001b[0m\u001b[0mvalue\u001b[0m\u001b[0;34m)\u001b[0m\u001b[0;34m)\u001b[0m\u001b[0;34m:\u001b[0m\u001b[0;34m\u001b[0m\u001b[0m\n\u001b[1;32m   1089\u001b[0m         return parseFile(common.cleanpath(value), number=number, format=m21Format, \n",
      "\u001b[0;32m/home/denis/anaconda2/lib/python2.7/site-packages/music21/converter/__init__.pyc\u001b[0m in \u001b[0;36mparseFile\u001b[0;34m(fp, number, format, forceSource, **keywords)\u001b[0m\n\u001b[1;32m    973\u001b[0m     \u001b[0mv\u001b[0m \u001b[0;34m=\u001b[0m \u001b[0mConverter\u001b[0m\u001b[0;34m(\u001b[0m\u001b[0;34m)\u001b[0m\u001b[0;34m\u001b[0m\u001b[0m\n\u001b[1;32m    974\u001b[0m     \u001b[0mfp\u001b[0m \u001b[0;34m=\u001b[0m \u001b[0mcommon\u001b[0m\u001b[0;34m.\u001b[0m\u001b[0mcleanpath\u001b[0m\u001b[0;34m(\u001b[0m\u001b[0mfp\u001b[0m\u001b[0;34m)\u001b[0m\u001b[0;34m\u001b[0m\u001b[0m\n\u001b[0;32m--> 975\u001b[0;31m     \u001b[0mv\u001b[0m\u001b[0;34m.\u001b[0m\u001b[0mparseFile\u001b[0m\u001b[0;34m(\u001b[0m\u001b[0mfp\u001b[0m\u001b[0;34m,\u001b[0m \u001b[0mnumber\u001b[0m\u001b[0;34m=\u001b[0m\u001b[0mnumber\u001b[0m\u001b[0;34m,\u001b[0m \u001b[0mformat\u001b[0m\u001b[0;34m=\u001b[0m\u001b[0mformat\u001b[0m\u001b[0;34m,\u001b[0m \u001b[0mforceSource\u001b[0m\u001b[0;34m=\u001b[0m\u001b[0mforceSource\u001b[0m\u001b[0;34m,\u001b[0m \u001b[0;34m**\u001b[0m\u001b[0mkeywords\u001b[0m\u001b[0;34m)\u001b[0m\u001b[0;34m\u001b[0m\u001b[0m\n\u001b[0m\u001b[1;32m    976\u001b[0m     \u001b[0;32mreturn\u001b[0m \u001b[0mv\u001b[0m\u001b[0;34m.\u001b[0m\u001b[0mstream\u001b[0m\u001b[0;34m\u001b[0m\u001b[0m\n\u001b[1;32m    977\u001b[0m \u001b[0;34m\u001b[0m\u001b[0m\n",
      "\u001b[0;32m/home/denis/anaconda2/lib/python2.7/site-packages/music21/converter/__init__.pyc\u001b[0m in \u001b[0;36mparseFile\u001b[0;34m(self, fp, number, format, forceSource, storePickle, **keywords)\u001b[0m\n\u001b[1;32m    507\u001b[0m         \u001b[0;32melse\u001b[0m\u001b[0;34m:\u001b[0m\u001b[0;34m\u001b[0m\u001b[0m\n\u001b[1;32m    508\u001b[0m             \u001b[0menvironLocal\u001b[0m\u001b[0;34m.\u001b[0m\u001b[0mprintDebug\u001b[0m\u001b[0;34m(\u001b[0m\u001b[0;34m\"Loading original version\"\u001b[0m\u001b[0;34m)\u001b[0m\u001b[0;34m\u001b[0m\u001b[0m\n\u001b[0;32m--> 509\u001b[0;31m             \u001b[0mself\u001b[0m\u001b[0;34m.\u001b[0m\u001b[0mparseFileNoPickle\u001b[0m\u001b[0;34m(\u001b[0m\u001b[0mfp\u001b[0m\u001b[0;34m,\u001b[0m \u001b[0mnumber\u001b[0m\u001b[0;34m,\u001b[0m \u001b[0mformat\u001b[0m\u001b[0;34m,\u001b[0m \u001b[0mforceSource\u001b[0m\u001b[0;34m,\u001b[0m \u001b[0;34m**\u001b[0m\u001b[0mkeywords\u001b[0m\u001b[0;34m)\u001b[0m\u001b[0;34m\u001b[0m\u001b[0m\n\u001b[0m\u001b[1;32m    510\u001b[0m             \u001b[0;32mif\u001b[0m \u001b[0mwritePickle\u001b[0m \u001b[0;32mis\u001b[0m \u001b[0mTrue\u001b[0m \u001b[0;32mand\u001b[0m \u001b[0mfpPickle\u001b[0m \u001b[0;32mis\u001b[0m \u001b[0;32mnot\u001b[0m \u001b[0mNone\u001b[0m \u001b[0;32mand\u001b[0m \u001b[0mstorePickle\u001b[0m \u001b[0;32mis\u001b[0m \u001b[0mTrue\u001b[0m\u001b[0;34m:\u001b[0m\u001b[0;34m\u001b[0m\u001b[0m\n\u001b[1;32m    511\u001b[0m                 \u001b[0;31m# save the stream to disk...\u001b[0m\u001b[0;34m\u001b[0m\u001b[0;34m\u001b[0m\u001b[0m\n",
      "\u001b[0;32m/home/denis/anaconda2/lib/python2.7/site-packages/music21/converter/__init__.pyc\u001b[0m in \u001b[0;36mparseFileNoPickle\u001b[0;34m(self, fp, number, format, forceSource, **keywords)\u001b[0m\n\u001b[1;32m    444\u001b[0m         \u001b[0mself\u001b[0m\u001b[0;34m.\u001b[0m\u001b[0msetSubconverterFromFormat\u001b[0m\u001b[0;34m(\u001b[0m\u001b[0museFormat\u001b[0m\u001b[0;34m)\u001b[0m\u001b[0;34m\u001b[0m\u001b[0m\n\u001b[1;32m    445\u001b[0m         \u001b[0mself\u001b[0m\u001b[0;34m.\u001b[0m\u001b[0msubConverter\u001b[0m\u001b[0;34m.\u001b[0m\u001b[0mkeywords\u001b[0m \u001b[0;34m=\u001b[0m \u001b[0mkeywords\u001b[0m\u001b[0;34m\u001b[0m\u001b[0m\n\u001b[0;32m--> 446\u001b[0;31m         \u001b[0mself\u001b[0m\u001b[0;34m.\u001b[0m\u001b[0msubConverter\u001b[0m\u001b[0;34m.\u001b[0m\u001b[0mparseFile\u001b[0m\u001b[0;34m(\u001b[0m\u001b[0mfp\u001b[0m\u001b[0;34m,\u001b[0m \u001b[0mnumber\u001b[0m\u001b[0;34m=\u001b[0m\u001b[0mnumber\u001b[0m\u001b[0;34m,\u001b[0m \u001b[0;34m**\u001b[0m\u001b[0mkeywords\u001b[0m\u001b[0;34m)\u001b[0m\u001b[0;34m\u001b[0m\u001b[0m\n\u001b[0m\u001b[1;32m    447\u001b[0m         \u001b[0mself\u001b[0m\u001b[0;34m.\u001b[0m\u001b[0mstream\u001b[0m\u001b[0;34m.\u001b[0m\u001b[0mfilePath\u001b[0m \u001b[0;34m=\u001b[0m \u001b[0mfp\u001b[0m\u001b[0;34m\u001b[0m\u001b[0m\n\u001b[1;32m    448\u001b[0m         \u001b[0mself\u001b[0m\u001b[0;34m.\u001b[0m\u001b[0mstream\u001b[0m\u001b[0;34m.\u001b[0m\u001b[0mfileNumber\u001b[0m \u001b[0;34m=\u001b[0m \u001b[0mnumber\u001b[0m\u001b[0;34m\u001b[0m\u001b[0m\n",
      "\u001b[0;32m/home/denis/anaconda2/lib/python2.7/site-packages/music21/converter/subConverters.pyc\u001b[0m in \u001b[0;36mparseFile\u001b[0;34m(self, fp, number, **keywords)\u001b[0m\n\u001b[1;32m    848\u001b[0m         '''\n\u001b[1;32m    849\u001b[0m         \u001b[0;32mfrom\u001b[0m \u001b[0mmusic21\u001b[0m\u001b[0;34m.\u001b[0m\u001b[0mmidi\u001b[0m \u001b[0;32mimport\u001b[0m \u001b[0mtranslate\u001b[0m \u001b[0;32mas\u001b[0m \u001b[0mmidiTranslate\u001b[0m\u001b[0;34m\u001b[0m\u001b[0m\n\u001b[0;32m--> 850\u001b[0;31m         \u001b[0mmidiTranslate\u001b[0m\u001b[0;34m.\u001b[0m\u001b[0mmidiFilePathToStream\u001b[0m\u001b[0;34m(\u001b[0m\u001b[0mfp\u001b[0m\u001b[0;34m,\u001b[0m \u001b[0mself\u001b[0m\u001b[0;34m.\u001b[0m\u001b[0mstream\u001b[0m\u001b[0;34m,\u001b[0m \u001b[0;34m**\u001b[0m\u001b[0mkeywords\u001b[0m\u001b[0;34m)\u001b[0m\u001b[0;34m\u001b[0m\u001b[0m\n\u001b[0m\u001b[1;32m    851\u001b[0m \u001b[0;34m\u001b[0m\u001b[0m\n\u001b[1;32m    852\u001b[0m     \u001b[0;32mdef\u001b[0m \u001b[0mwrite\u001b[0m\u001b[0;34m(\u001b[0m\u001b[0mself\u001b[0m\u001b[0;34m,\u001b[0m \u001b[0mobj\u001b[0m\u001b[0;34m,\u001b[0m \u001b[0mfmt\u001b[0m\u001b[0;34m,\u001b[0m \u001b[0mfp\u001b[0m\u001b[0;34m=\u001b[0m\u001b[0mNone\u001b[0m\u001b[0;34m,\u001b[0m \u001b[0msubformats\u001b[0m\u001b[0;34m=\u001b[0m\u001b[0mNone\u001b[0m\u001b[0;34m,\u001b[0m \u001b[0;34m**\u001b[0m\u001b[0mkeywords\u001b[0m\u001b[0;34m)\u001b[0m\u001b[0;34m:\u001b[0m\u001b[0;34m\u001b[0m\u001b[0m\n",
      "\u001b[0;32m/home/denis/anaconda2/lib/python2.7/site-packages/music21/midi/translate.pyc\u001b[0m in \u001b[0;36mmidiFilePathToStream\u001b[0;34m(filePath, inputM21, **keywords)\u001b[0m\n\u001b[1;32m   1945\u001b[0m     \u001b[0mmf\u001b[0m\u001b[0;34m.\u001b[0m\u001b[0mread\u001b[0m\u001b[0;34m(\u001b[0m\u001b[0;34m)\u001b[0m\u001b[0;34m\u001b[0m\u001b[0m\n\u001b[1;32m   1946\u001b[0m     \u001b[0mmf\u001b[0m\u001b[0;34m.\u001b[0m\u001b[0mclose\u001b[0m\u001b[0;34m(\u001b[0m\u001b[0;34m)\u001b[0m\u001b[0;34m\u001b[0m\u001b[0m\n\u001b[0;32m-> 1947\u001b[0;31m     \u001b[0;32mreturn\u001b[0m \u001b[0mmidiFileToStream\u001b[0m\u001b[0;34m(\u001b[0m\u001b[0mmf\u001b[0m\u001b[0;34m,\u001b[0m \u001b[0minputM21\u001b[0m\u001b[0;34m,\u001b[0m \u001b[0;34m**\u001b[0m\u001b[0mkeywords\u001b[0m\u001b[0;34m)\u001b[0m\u001b[0;34m\u001b[0m\u001b[0m\n\u001b[0m\u001b[1;32m   1948\u001b[0m \u001b[0;34m\u001b[0m\u001b[0m\n\u001b[1;32m   1949\u001b[0m \u001b[0;34m\u001b[0m\u001b[0m\n",
      "\u001b[0;32m/home/denis/anaconda2/lib/python2.7/site-packages/music21/midi/translate.pyc\u001b[0m in \u001b[0;36mmidiFileToStream\u001b[0;34m(mf, inputM21, quantizePost, **keywords)\u001b[0m\n\u001b[1;32m   2086\u001b[0m                             \u001b[0mquantizePost\u001b[0m\u001b[0;34m=\u001b[0m\u001b[0mquantizePost\u001b[0m\u001b[0;34m,\u001b[0m\u001b[0;34m\u001b[0m\u001b[0m\n\u001b[1;32m   2087\u001b[0m                             \u001b[0minputM21\u001b[0m\u001b[0;34m=\u001b[0m\u001b[0ms\u001b[0m\u001b[0;34m,\u001b[0m\u001b[0;34m\u001b[0m\u001b[0m\n\u001b[0;32m-> 2088\u001b[0;31m                             **keywords)\n\u001b[0m\u001b[1;32m   2089\u001b[0m         \u001b[0;31m#s._setMidiTracks(mf.tracks, mf.ticksPerQuarterNote)\u001b[0m\u001b[0;34m\u001b[0m\u001b[0;34m\u001b[0m\u001b[0m\n\u001b[1;32m   2090\u001b[0m \u001b[0;34m\u001b[0m\u001b[0m\n",
      "\u001b[0;32m/home/denis/anaconda2/lib/python2.7/site-packages/music21/midi/translate.pyc\u001b[0m in \u001b[0;36mmidiTracksToStreams\u001b[0;34m(midiTracks, ticksPerQuarter, quantizePost, inputM21, **keywords)\u001b[0m\n\u001b[1;32m   1847\u001b[0m             \u001b[0mstreamPart\u001b[0m \u001b[0;34m=\u001b[0m \u001b[0mstream\u001b[0m\u001b[0;34m.\u001b[0m\u001b[0mPart\u001b[0m\u001b[0;34m(\u001b[0m\u001b[0;34m)\u001b[0m \u001b[0;31m# create a part instance for each part\u001b[0m\u001b[0;34m\u001b[0m\u001b[0m\n\u001b[1;32m   1848\u001b[0m             midiTrackToStream(mt, ticksPerQuarter, quantizePost, \n\u001b[0;32m-> 1849\u001b[0;31m                               inputM21=streamPart, **keywords)\n\u001b[0m\u001b[1;32m   1850\u001b[0m \u001b[0;31m#             streamPart._setMidiTracksPart(mt,\u001b[0m\u001b[0;34m\u001b[0m\u001b[0;34m\u001b[0m\u001b[0m\n\u001b[1;32m   1851\u001b[0m \u001b[0;31m#                 ticksPerQuarter=ticksPerQuarter, quantizePost=quantizePost)\u001b[0m\u001b[0;34m\u001b[0m\u001b[0;34m\u001b[0m\u001b[0m\n",
      "\u001b[0;32m/home/denis/anaconda2/lib/python2.7/site-packages/music21/midi/translate.pyc\u001b[0m in \u001b[0;36mmidiTrackToStream\u001b[0;34m(mt, ticksPerQuarter, quantizePost, inputM21, **keywords)\u001b[0m\n\u001b[1;32m   1510\u001b[0m                 \u001b[0mmetaEvents\u001b[0m\u001b[0;34m.\u001b[0m\u001b[0mappend\u001b[0m\u001b[0;34m(\u001b[0m\u001b[0;34m[\u001b[0m\u001b[0mt\u001b[0m\u001b[0;34m,\u001b[0m \u001b[0mmidiEventsToKey\u001b[0m\u001b[0;34m(\u001b[0m\u001b[0me\u001b[0m\u001b[0;34m)\u001b[0m\u001b[0;34m]\u001b[0m\u001b[0;34m)\u001b[0m\u001b[0;34m\u001b[0m\u001b[0m\n\u001b[1;32m   1511\u001b[0m             \u001b[0;32melif\u001b[0m \u001b[0me\u001b[0m\u001b[0;34m.\u001b[0m\u001b[0mtype\u001b[0m \u001b[0;34m==\u001b[0m \u001b[0;34m'SET_TEMPO'\u001b[0m\u001b[0;34m:\u001b[0m\u001b[0;34m\u001b[0m\u001b[0m\n\u001b[0;32m-> 1512\u001b[0;31m                 \u001b[0mmetaEvents\u001b[0m\u001b[0;34m.\u001b[0m\u001b[0mappend\u001b[0m\u001b[0;34m(\u001b[0m\u001b[0;34m[\u001b[0m\u001b[0mt\u001b[0m\u001b[0;34m,\u001b[0m \u001b[0mmidiEventsToTempo\u001b[0m\u001b[0;34m(\u001b[0m\u001b[0me\u001b[0m\u001b[0;34m)\u001b[0m\u001b[0;34m]\u001b[0m\u001b[0;34m)\u001b[0m\u001b[0;34m\u001b[0m\u001b[0m\n\u001b[0m\u001b[1;32m   1513\u001b[0m             \u001b[0;32melif\u001b[0m \u001b[0me\u001b[0m\u001b[0;34m.\u001b[0m\u001b[0mtype\u001b[0m \u001b[0;34m==\u001b[0m \u001b[0;34m'INSTRUMENT_NAME'\u001b[0m\u001b[0;34m:\u001b[0m\u001b[0;34m\u001b[0m\u001b[0m\n\u001b[1;32m   1514\u001b[0m                 \u001b[0;31m# TODO import instrument object\u001b[0m\u001b[0;34m\u001b[0m\u001b[0;34m\u001b[0m\u001b[0m\n",
      "\u001b[0;32m/home/denis/anaconda2/lib/python2.7/site-packages/music21/midi/translate.pyc\u001b[0m in \u001b[0;36mmidiEventsToTempo\u001b[0;34m(eventList)\u001b[0m\n\u001b[1;32m    925\u001b[0m         \u001b[0mevent\u001b[0m \u001b[0;34m=\u001b[0m \u001b[0meventList\u001b[0m\u001b[0;34m[\u001b[0m\u001b[0;36m1\u001b[0m\u001b[0;34m]\u001b[0m\u001b[0;34m\u001b[0m\u001b[0m\n\u001b[1;32m    926\u001b[0m     \u001b[0;31m# get microseconds per quarter\u001b[0m\u001b[0;34m\u001b[0m\u001b[0;34m\u001b[0m\u001b[0m\n\u001b[0;32m--> 927\u001b[0;31m     \u001b[0mmspq\u001b[0m \u001b[0;34m=\u001b[0m \u001b[0mmidiModule\u001b[0m\u001b[0;34m.\u001b[0m\u001b[0mgetNumber\u001b[0m\u001b[0;34m(\u001b[0m\u001b[0mevent\u001b[0m\u001b[0;34m.\u001b[0m\u001b[0mdata\u001b[0m\u001b[0;34m,\u001b[0m \u001b[0;36m3\u001b[0m\u001b[0;34m)\u001b[0m\u001b[0;34m[\u001b[0m\u001b[0;36m0\u001b[0m\u001b[0;34m]\u001b[0m \u001b[0;31m# first data is number\u001b[0m\u001b[0;34m\u001b[0m\u001b[0m\n\u001b[0m\u001b[1;32m    928\u001b[0m     \u001b[0mbpm\u001b[0m \u001b[0;34m=\u001b[0m \u001b[0mround\u001b[0m\u001b[0;34m(\u001b[0m\u001b[0;36m60000000\u001b[0m \u001b[0;34m/\u001b[0m \u001b[0mmspq\u001b[0m\u001b[0;34m,\u001b[0m \u001b[0;36m2\u001b[0m\u001b[0;34m)\u001b[0m\u001b[0;34m\u001b[0m\u001b[0m\n\u001b[1;32m    929\u001b[0m     \u001b[0;31m#post = midiModule.getNumbersAsList(event.data)\u001b[0m\u001b[0;34m\u001b[0m\u001b[0;34m\u001b[0m\u001b[0m\n",
      "\u001b[0;32m/home/denis/anaconda2/lib/python2.7/site-packages/music21/midi/__init__.pyc\u001b[0m in \u001b[0;36mgetNumber\u001b[0;34m(midiStr, length)\u001b[0m\n\u001b[1;32m    132\u001b[0m     \u001b[0;32mif\u001b[0m \u001b[0;32mnot\u001b[0m \u001b[0mcommon\u001b[0m\u001b[0;34m.\u001b[0m\u001b[0misNum\u001b[0m\u001b[0;34m(\u001b[0m\u001b[0mmidiStr\u001b[0m\u001b[0;34m)\u001b[0m\u001b[0;34m:\u001b[0m\u001b[0;34m\u001b[0m\u001b[0m\n\u001b[1;32m    133\u001b[0m         \u001b[0;32mfor\u001b[0m \u001b[0mi\u001b[0m \u001b[0;32min\u001b[0m \u001b[0mrange\u001b[0m\u001b[0;34m(\u001b[0m\u001b[0mlength\u001b[0m\u001b[0;34m)\u001b[0m\u001b[0;34m:\u001b[0m\u001b[0;34m\u001b[0m\u001b[0m\n\u001b[0;32m--> 134\u001b[0;31m             \u001b[0mmidiStrOrNum\u001b[0m \u001b[0;34m=\u001b[0m \u001b[0mmidiStr\u001b[0m\u001b[0;34m[\u001b[0m\u001b[0mi\u001b[0m\u001b[0;34m]\u001b[0m\u001b[0;34m\u001b[0m\u001b[0m\n\u001b[0m\u001b[1;32m    135\u001b[0m             \u001b[0;32mif\u001b[0m \u001b[0mcommon\u001b[0m\u001b[0;34m.\u001b[0m\u001b[0misNum\u001b[0m\u001b[0;34m(\u001b[0m\u001b[0mmidiStrOrNum\u001b[0m\u001b[0;34m)\u001b[0m\u001b[0;34m:\u001b[0m\u001b[0;34m\u001b[0m\u001b[0m\n\u001b[1;32m    136\u001b[0m                 \u001b[0msummation\u001b[0m \u001b[0;34m=\u001b[0m \u001b[0;34m(\u001b[0m\u001b[0msummation\u001b[0m \u001b[0;34m<<\u001b[0m \u001b[0;36m8\u001b[0m\u001b[0;34m)\u001b[0m \u001b[0;34m+\u001b[0m \u001b[0mmidiStrOrNum\u001b[0m\u001b[0;34m\u001b[0m\u001b[0m\n",
      "\u001b[0;31mIndexError\u001b[0m: string index out of range"
     ]
    }
   ],
   "source": [
    "start_time = time.time()\n",
    "vectors0 = vectors_from_files(path_to_class0, 0, 72)\n",
    "print \"Class 0 is done\"\n",
    "print(\"--- %s seconds ---\" % (time.time() - start_time))\n",
    "vectors1 = vectors_from_files(path_to_class1, 1, 72)\n",
    "print \"Class 1 is done\"\n",
    "print(\"--- %s seconds ---\" % (time.time() - start_time))"
   ]
  },
  {
   "cell_type": "code",
   "execution_count": 143,
   "metadata": {
    "collapsed": false
   },
   "outputs": [],
   "source": [
    "vector0, vector1 = get_vectors_from_pickles('vectors')"
   ]
  },
  {
   "cell_type": "code",
   "execution_count": 154,
   "metadata": {
    "collapsed": false
   },
   "outputs": [
    {
     "data": {
      "text/plain": [
       "(72, 72)"
      ]
     },
     "execution_count": 154,
     "metadata": {},
     "output_type": "execute_result"
    }
   ],
   "source": [
    "len(vector0), len(vector1)"
   ]
  },
  {
   "cell_type": "code",
   "execution_count": 162,
   "metadata": {
    "collapsed": false
   },
   "outputs": [],
   "source": [
    "# extractor = ChordExtractor(fileName=\"albeniz.mid\")\n",
    "# normalizedChords = extractor.getNormalizedChords()\n",
    "# normalizedPitches = extractor.getNormalizedPitches()\n",
    "# normalizedDurations = extractor.getChordDurations()\n",
    "# type(normalizedDurations)"
   ]
  },
  {
   "cell_type": "code",
   "execution_count": null,
   "metadata": {
    "collapsed": false
   },
   "outputs": [],
   "source": []
  },
  {
   "cell_type": "code",
   "execution_count": null,
   "metadata": {
    "collapsed": false,
    "deletable": true,
    "editable": true
   },
   "outputs": [],
   "source": [
    "# Merging the vectors together and extracting the attributes and the label\n",
    "X = vectors0[0]+vectors1[0]\n",
    "Y = vectors0[1]+vectors1[1]\n",
    "\n",
    "# Splitting the data into training and testing subsets 90 to 10 %\n",
    "X_train, X_test, Y_train, Y_test = train_test_split(X, Y, test_size = 0.1, random_state = 25)\n",
    "\n",
    "# Splitting the training subset into training and validating subsets 80 to 20 %\n",
    "X_train, X_valid, Y_train, Y_valid = train_test_split(X_train, Y_train, test_size=0.2, random_state = 25)"
   ]
  },
  {
   "cell_type": "code",
   "execution_count": null,
   "metadata": {
    "collapsed": false,
    "deletable": true,
    "editable": true
   },
   "outputs": [],
   "source": [
    "print len(X_train), len(Y_train)\n",
    "print len(X_valid), len(Y_valid)\n",
    "print len(X_test), len(Y_test)"
   ]
  },
  {
   "cell_type": "code",
   "execution_count": null,
   "metadata": {
    "collapsed": false,
    "deletable": true,
    "editable": true
   },
   "outputs": [],
   "source": [
    "# Fitting the parameter C for the SVM model on the training / validation sets\n",
    "clf = svm.SVC(kernel = 'poly', degree = 2, C=0.9)\n",
    "clf.fit(X_train, Y_train)\n",
    "print \"We successfully predict the {} percent of training data\".format((Y_train==clf.predict(X_train)).sum()*100/len(Y_train))\n",
    "print \"We successfully predict the {} percent of test data\".format((Y_test==clf.predict(X_test)).sum()*100/len(Y_test))"
   ]
  },
  {
   "cell_type": "code",
   "execution_count": null,
   "metadata": {
    "collapsed": false,
    "deletable": true,
    "editable": true
   },
   "outputs": [],
   "source": [
    "# Function to train SVM on training set and to predict the validation set\n",
    "def trainpredict(degree, C):\n",
    "    clf = svm.SVC(kernel = 'poly', degree = degree, C = C) \n",
    "    clf.fit(X_train, Y_train)\n",
    "    return (Y_valid == clf.predict(X_valid)).sum()*100/len(Y_valid), degree, C\n",
    "\n",
    "# Function to fit poly SVMs of degrees 1 to 4 each with Cs from the list\n",
    "# [math.exp(i) for i in np.linspace(-10,2*x,200)]\n",
    "def fitDegree_C():\n",
    "    return map(lambda degree: map(trainpredict, [degree]*len(np.linspace(-10, 2*degree, 200)),\n",
    "                            map(lambda c: math.exp(c), np.linspace(-10, 2*degree, 200))), range(1, 5)) \n",
    "# Each of the sublists correspond to a degree (1 to 4) and has tuples with (accuracy, degree, C)\n",
    "fitted = fitDegree_C()"
   ]
  },
  {
   "cell_type": "code",
   "execution_count": null,
   "metadata": {
    "collapsed": false,
    "deletable": true,
    "editable": true
   },
   "outputs": [],
   "source": [
    "# print 1.0*np.count_nonzero(map(lambda i: X[i] == vectors0[0][i], range(0, len(vectors0[0]))))/len(vectors0[0])\n",
    "# print 1.0*np.count_nonzero(map(lambda i: X[i+76] == vectors1[0][i], range(0, len(vectors1[0]))))/len(vectors1[0])\n",
    "# print 1.0*np.count_nonzero(map(lambda i: Y[i] == vectors0[1][i], range(0, len(vectors0[1]))))/len(vectors0[1])\n",
    "# print 1.0*np.count_nonzero(map(lambda i: Y[i+76] == vectors1[1][i], range(0, len(vectors1[1]))))/len(vectors1[1])\n",
    "# #np.count_nonzero([True, True])"
   ]
  },
  {
   "cell_type": "code",
   "execution_count": null,
   "metadata": {
    "collapsed": false,
    "deletable": true,
    "editable": true
   },
   "outputs": [],
   "source": [
    "flatten = sum(fitted, [])\n",
    "# Looking for the optimal parameters\n",
    "max(enumerate(flatten), key = lambda x: x[1])"
   ]
  },
  {
   "cell_type": "code",
   "execution_count": null,
   "metadata": {
    "collapsed": false,
    "deletable": true,
    "editable": true
   },
   "outputs": [],
   "source": []
  }
 ],
 "metadata": {
  "anaconda-cloud": {},
  "kernelspec": {
   "display_name": "Python [default]",
   "language": "python",
   "name": "python2"
  },
  "language_info": {
   "codemirror_mode": {
    "name": "ipython",
    "version": 2
   },
   "file_extension": ".py",
   "mimetype": "text/x-python",
   "name": "python",
   "nbconvert_exporter": "python",
   "pygments_lexer": "ipython2",
   "version": "2.7.13"
  }
 },
 "nbformat": 4,
 "nbformat_minor": 2
}
