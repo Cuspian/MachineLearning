{
 "cells": [
  {
   "cell_type": "code",
   "execution_count": 3,
   "metadata": {
    "collapsed": false,
    "deletable": true,
    "editable": true
   },
   "outputs": [],
   "source": [
    "from music21 import *\n",
    "import time\n",
    "import os\n",
    "import numpy as np\n",
    "import itertools as it\n",
    "from sklearn.model_selection import train_test_split\n",
    "from sklearn import svm\n",
    "from scipy.stats import itemfreq\n",
    "from functools import partial\n",
    "from pathos.multiprocessing import Pool, cpu_count\n",
    "import math\n",
    "# chordified = parsed.chordify().getElementsByClass('Chord')\n",
    "#type(list(parsed[0])[2]) == key.Key"
   ]
  },
  {
   "cell_type": "code",
   "execution_count": 59,
   "metadata": {
    "collapsed": false,
    "deletable": true,
    "editable": true
   },
   "outputs": [],
   "source": [
    "# Extract notes\n",
    "def get_notes(song):\n",
    "    return (str(pitch) for chord in song for pitch in chord.pitches)\n",
    "\n",
    "# Mockup of the future function\n",
    "def note_finder(note):\n",
    "    return note[0]\n",
    "\n",
    "# Load MIDI data from file\n",
    "def loader(filename):\n",
    "    return get_notes(converter.parse(filename))\n",
    "\n",
    "# Generates a vector with all possible combinations of notes of size 4\n",
    "#def zero_vector_dictionary(chars):\n",
    "#    return sum(sum(sum(map(lambda x: map(lambda y: map(lambda z: map(lambda w: [x+y+z+w, 0],\n",
    "#                                                                     chars), chars), chars), chars), []), []), [])\n",
    "    #return dict(map(lambda (k, v): (k, 0), zip(combinations, [0]*len(combinations))))\n",
    "\n",
    "# Generate all sequences of 4 consecutive notes\n",
    "def get_sequences(data):\n",
    "    taken = list(it.islice(data, 0, 4))\n",
    "    while True:\n",
    "        yield \"\".join(taken[-4:])\n",
    "        taken.append(next(data))\n",
    "\n",
    "# Get file names of type type_ in all the subdirectories of the path\n",
    "def get_filenames(path, type_ = None):\n",
    "    if type_ == None:\n",
    "        return sum(map(lambda walks: (map(lambda name: os.path.join(walks[0], name),\n",
    "                                                                           walks[2])), os.walk(path)), [])\n",
    "    else:\n",
    "        return filter(lambda f: f.endswith(type_), sum(map(lambda walks: (map(lambda name: os.path.join(walks[0], name),\n",
    "                                                                           walks[2])), os.walk(path)), []))\n",
    "\n",
    "# Returns index of the note quartet in the vector\n",
    "def notestoindex(chars):\n",
    "    return reduce(lambda x, y: 7*x+y, [0] + map(lambda x: \"ABCDEFG\".index(x), chars))\n",
    "\n",
    "# Build vector of ocurrences of note quartets\n",
    "def build_vector(sequence):\n",
    "    vector = [0] * 7**4\n",
    "    sequence = list(sequence)\n",
    "    freqs = {notestoindex(x[0]) : int(x[1]) for x in itemfreq(sequence)}\n",
    "    for (k, v) in freqs.iteritems():\n",
    "        vector[k] = v\n",
    "    return vector\n",
    "\n",
    "def vector_from_file(path):\n",
    "    sequence = get_sequences((e[0] for e in loader(path)))\n",
    "    return build_vector(sequence)\n",
    "\n",
    "# Build x vectors from a given path and assign y = class_ to them\n",
    "def vectors_from_files(path, class_, count):\n",
    "    names = get_filenames(path)[:count]\n",
    "    vectors = pool.map(vector_from_file, names)\n",
    "    return vectors, [class_] * len(vectors)\n",
    "\n",
    "# Build vectors without pool works much slower\n",
    "def vectors_from_files_no_pool(path, class_, count):\n",
    "    X = map(lambda name: build_vector(get_sequences(map(lambda note: map(note_finder, note), loader(name)))), \n",
    "            get_filenames(path)[:count])\n",
    "    return X, [class_]*len(X)"
   ]
  },
  {
   "cell_type": "code",
   "execution_count": 19,
   "metadata": {
    "collapsed": false,
    "deletable": true,
    "editable": true
   },
   "outputs": [
    {
     "data": {
      "text/plain": [
       "76"
      ]
     },
     "execution_count": 19,
     "metadata": {},
     "output_type": "execute_result"
    }
   ],
   "source": [
    "path_to_class0 = './50s/'\n",
    "path_to_class1 = './60s/'\n",
    "# Renaming 50s and 60s .kar to .mid\n",
    "map1 = map(lambda name: os.rename(name, name.replace(\".kar\", \".mid\").replace(\".KAR\", \".mid\")), \n",
    "           get_filenames(path_to_class0))\n",
    "map2 = map(lambda name: os.rename(name, name.replace(\".kar\", \".mid\").replace(\".KAR\", \".mid\")), \n",
    "           get_filenames(path_to_class1))\n",
    "\n",
    "# Warming up the processors and creating a pool of half of the processors in the system\n",
    "pool = Pool(processes = cpu_count())\n",
    "res = pool.map(lambda x: x+1, range(cpu_count()))\n",
    "\n",
    "# Identifying the smallest directory in terms of number of midis\n",
    "midi_count = min(len(get_filenames(path_to_class0)), len(get_filenames(path_to_class1)))\n",
    "midi_count"
   ]
  },
  {
   "cell_type": "code",
   "execution_count": 43,
   "metadata": {
    "collapsed": false,
    "deletable": true,
    "editable": true
   },
   "outputs": [
    {
     "name": "stdout",
     "output_type": "stream",
     "text": [
      "Class 0 is done\n",
      "--- 9.81566500664 seconds ---\n",
      "Class 1 is done\n",
      "--- 18.7039480209 seconds ---\n"
     ]
    }
   ],
   "source": [
    "path_to_class0 = './50s/'\n",
    "path_to_class1 = './60s/'\n",
    "start_time = time.time()\n",
    "vectors0 = list(vectors_from_files(path_to_class0, 0, midi_count))\n",
    "print \"Class 0 is done\"\n",
    "print(\"--- %s seconds ---\" % (time.time() - start_time))\n",
    "vectors1 = list(vectors_from_files(path_to_class1, 1, midi_count))\n",
    "print \"Class 1 is done\"\n",
    "print(\"--- %s seconds ---\" % (time.time() - start_time))"
   ]
  },
  {
   "cell_type": "code",
   "execution_count": 143,
   "metadata": {
    "collapsed": false,
    "deletable": true,
    "editable": true
   },
   "outputs": [],
   "source": [
    "# Merging the vectors together and extracting the attributes and the label\n",
    "X = vectors0[0]+vectors1[0]\n",
    "Y = vectors0[1]+vectors1[1]\n",
    "\n",
    "# Splitting the data into training and testing subsets 90 to 10 %\n",
    "X_train, X_test, Y_train, Y_test = train_test_split(X, Y, test_size = 0.1, random_state = 25)\n",
    "\n",
    "# Splitting the training subset into training and validating subsets 80 to 20 %\n",
    "X_train, X_valid, Y_train, Y_valid = train_test_split(X_train, Y_train, test_size=0.2, random_state = 25)"
   ]
  },
  {
   "cell_type": "code",
   "execution_count": 144,
   "metadata": {
    "collapsed": false,
    "deletable": true,
    "editable": true
   },
   "outputs": [
    {
     "name": "stdout",
     "output_type": "stream",
     "text": [
      "108 108\n",
      "28 28\n",
      "16 16\n"
     ]
    }
   ],
   "source": [
    "print len(X_train), len(Y_train)\n",
    "print len(X_valid), len(Y_valid)\n",
    "print len(X_test), len(Y_test)"
   ]
  },
  {
   "cell_type": "code",
   "execution_count": 183,
   "metadata": {
    "collapsed": false,
    "deletable": true,
    "editable": true
   },
   "outputs": [
    {
     "name": "stdout",
     "output_type": "stream",
     "text": [
      "We successfully predict the 100 percent of training data\n",
      "We successfully predict the 68 percent of test data\n"
     ]
    }
   ],
   "source": [
    "# Fitting the parameter C for the SVM model on the training / validation sets\n",
    "clf = svm.SVC(kernel = 'poly', degree = 2, C=0.9)\n",
    "clf.fit(X_train, Y_train)\n",
    "print \"We successfully predict the {} percent of training data\".format((Y_train==clf.predict(X_train)).sum()*100/len(Y_train))\n",
    "print \"We successfully predict the {} percent of test data\".format((Y_test==clf.predict(X_test)).sum()*100/len(Y_test))"
   ]
  },
  {
   "cell_type": "code",
   "execution_count": 184,
   "metadata": {
    "collapsed": false,
    "deletable": true,
    "editable": true
   },
   "outputs": [],
   "source": [
    "# Function to train SVM on training set and to predict the validation set\n",
    "def trainpredict(degree, C):\n",
    "    clf = svm.SVC(kernel = 'poly', degree = degree, C = C) \n",
    "    clf.fit(X_train, Y_train)\n",
    "    return (Y_valid == clf.predict(X_valid)).sum()*100/len(Y_valid), degree, C\n",
    "\n",
    "# Function to fit poly SVMs of degrees 1 to 4 each with Cs from the list\n",
    "# [math.exp(i) for i in np.linspace(-10,2*x,200)]\n",
    "def fitDegree_C():\n",
    "    return map(lambda degree: map(trainpredict, [degree]*len(np.linspace(-10, 2*degree, 200)),\n",
    "                            map(lambda c: math.exp(c), np.linspace(-10, 2*degree, 200))), range(1, 5)) \n",
    "# Each of the sublists correspond to a degree (1 to 4) and has tuples with (accuracy, degree, C)\n",
    "fitted = fitDegree_C()"
   ]
  },
  {
   "cell_type": "code",
   "execution_count": 171,
   "metadata": {
    "collapsed": false,
    "deletable": true,
    "editable": true
   },
   "outputs": [
    {
     "name": "stdout",
     "output_type": "stream",
     "text": [
      "1.0\n",
      "1.0\n",
      "1.0\n",
      "1.0\n"
     ]
    }
   ],
   "source": [
    "# print 1.0*np.count_nonzero(map(lambda i: X[i] == vectors0[0][i], range(0, len(vectors0[0]))))/len(vectors0[0])\n",
    "# print 1.0*np.count_nonzero(map(lambda i: X[i+76] == vectors1[0][i], range(0, len(vectors1[0]))))/len(vectors1[0])\n",
    "# print 1.0*np.count_nonzero(map(lambda i: Y[i] == vectors0[1][i], range(0, len(vectors0[1]))))/len(vectors0[1])\n",
    "# print 1.0*np.count_nonzero(map(lambda i: Y[i+76] == vectors1[1][i], range(0, len(vectors1[1]))))/len(vectors1[1])\n",
    "# #np.count_nonzero([True, True])"
   ]
  },
  {
   "cell_type": "code",
   "execution_count": 175,
   "metadata": {
    "collapsed": false,
    "deletable": true,
    "editable": true
   },
   "outputs": [
    {
     "data": {
      "text/plain": [
       "(228, (53, 2, 0.00032549913500013486))"
      ]
     },
     "execution_count": 175,
     "metadata": {},
     "output_type": "execute_result"
    }
   ],
   "source": [
    "flatten = sum(fitted, [])\n",
    "# Looking for the optimal parameters\n",
    "max(enumerate(flatten), key = lambda x: x[1])"
   ]
  },
  {
   "cell_type": "code",
   "execution_count": null,
   "metadata": {
    "collapsed": false,
    "deletable": true,
    "editable": true
   },
   "outputs": [],
   "source": []
  }
 ],
 "metadata": {
  "anaconda-cloud": {},
  "kernelspec": {
   "display_name": "Python 2",
   "language": "python",
   "name": "python2"
  },
  "language_info": {
   "codemirror_mode": {
    "name": "ipython",
    "version": 2
   },
   "file_extension": ".py",
   "mimetype": "text/x-python",
   "name": "python",
   "nbconvert_exporter": "python",
   "pygments_lexer": "ipython2",
   "version": "2.7.13"
  }
 },
 "nbformat": 4,
 "nbformat_minor": 2
}
