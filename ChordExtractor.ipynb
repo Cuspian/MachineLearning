{
 "cells": [
  {
   "cell_type": "code",
   "execution_count": 1,
   "metadata": {
    "collapsed": false
   },
   "outputs": [],
   "source": [
    "import music21\n",
    "import chordgraph\n",
    "        \n",
    "        "
   ]
  },
  {
   "cell_type": "code",
   "execution_count": 5,
   "metadata": {
    "collapsed": false
   },
   "outputs": [],
   "source": [
    "class ChordExtractor(object):\n",
    "    '''Constructor for ChordExtractor\n",
    "        looks like you must pass in the full path.\n",
    "        This also parses the file'''\n",
    "    def __init__(self, fileName=None, parsedFile=None):\n",
    "        if fileName: \n",
    "            self.parsedFile = music21.converter.parse(fileName)\n",
    "        elif parsedFile:\n",
    "            self.parsedFile = parsedFile\n",
    "        else:\n",
    "            raise Exception(\"Must pass fileName or parsedFile\")\n",
    "            \n",
    "        self.measures = None\n",
    "        self.chords = []\n",
    "        self.normalizedChords = []\n",
    "        self.chordsAsNumbers = []\n",
    "        self.pitches = None\n",
    "        self.normalizedPitches = []\n",
    "        self.chordDurations = []\n",
    "        self.chordGraph = chordgraph.ChordGraph()\n",
    "    \n",
    "    '''This method will take only those measures that are chord objects, and ignore the rest'''\n",
    "    def extractChordObjects(self):\n",
    "        if self.chords: #if the list is nonempty\n",
    "            return\n",
    "        self.measures = self.parsedFile.chordify()\n",
    "        for measure in self.measures:\n",
    "            if isinstance(measure, music21.chord.Chord):\n",
    "                self.chords.append(measure)\n",
    "     \n",
    "    '''This returns a list of tuples of chords, where all names are changed to numbers'''           \n",
    "    def getChordsAsNumbers(self):\n",
    "            self.extractChordObjects()\n",
    "            for chord in self.chords:\n",
    "                chordTuple = tuple(chord.normalOrder)\n",
    "                self.chordsAsNumbers.append(chordTuple)\n",
    "            return self.chordsAsNumbers\n",
    "     \n",
    "    def getNormalizedChords(self):\n",
    "        chordsAsNumbers = self.getChordsAsNumbers()\n",
    "        for numberedChord in chordsAsNumbers:\n",
    "            #find the closest normalized chords to given numbered chord, using the chord graph\n",
    "            closestNormalizedChords = self.chordGraph.find_closest_normalized_chords(numberedChord) \n",
    "            #pick the first (since we are guaranteed to have at least 1) normalized chord\n",
    "            self.normalizedChords.append(closestNormalizedChords[0])\n",
    "        return self.normalizedChords\n",
    "        \n",
    "    '''This method will load all pitch objects into a list'''\n",
    "    def extractPitches(self):\n",
    "        if self.pitches:\n",
    "            return\n",
    "        self.pitches = self.parsedFile.pitches\n",
    "       \n",
    "    '''This method converts all pitch objects into numbers'''\n",
    "    def getNormalizedPitches(self):\n",
    "        self.extractPitches()\n",
    "        for pitch in self.pitches:\n",
    "            if isinstance(pitch, music21.pitch.Pitch):\n",
    "                pitchNumber = pitch.pitchClass #pitchClass is the number of the pitch\n",
    "                self.normalizedPitches.append(pitchNumber)\n",
    "                \n",
    "        return self.normalizedPitches\n",
    "    \n",
    "    def getChordDurations(self):\n",
    "        if self.chords:\n",
    "            return\n",
    "        self.extractChordObjects()\n",
    "        \n",
    "        for chord in self.chords:\n",
    "            if isinstance(chord, music21.chord.Chord):\n",
    "                duration = chord.duration #chord.duration is an object that \n",
    "                                          #represents how many quarter notes a chord lasts\n",
    "                self.chordDurations.append(duration.quarterLength) #quarterLength is the number itself\n",
    "        return self.chordDurations\n",
    "        \n",
    "        \n",
    "        \n",
    "        \n",
    "    ##TODO: figure out where the key signature is in the midi file parsed. "
   ]
  },
  {
   "cell_type": "code",
   "execution_count": 6,
   "metadata": {
    "collapsed": false
   },
   "outputs": [],
   "source": [
    "\n",
    "extractor = ChordExtractor(fileName=\"/Users/arimerm1/Desktop/UnitedStates.mid\")\n"
   ]
  },
  {
   "cell_type": "code",
   "execution_count": null,
   "metadata": {
    "collapsed": false
   },
   "outputs": [],
   "source": [
    "normalizedChords = extractor.getNormalizedChords()\n",
    "print normalizedChords"
   ]
  },
  {
   "cell_type": "code",
   "execution_count": null,
   "metadata": {
    "collapsed": true
   },
   "outputs": [],
   "source": []
  },
  {
   "cell_type": "code",
   "execution_count": 60,
   "metadata": {
    "collapsed": false
   },
   "outputs": [
    {
     "name": "stdout",
     "output_type": "stream",
     "text": [
      "[5, 2, 10, 2, 5, 10, 2, 0, 10, 2, 4, 5, 5, 5, 2, 0, 10, 9, 7, 9, 10, 10, 5, 2, 10, 5, 2, 10, 2, 5, 10, 2, 0, 10, 2, 4, 5, 5, 5, 2, 0, 10, 9, 7, 9, 10, 10, 5, 2, 10, 2, 2, 2, 3, 5, 5, 3, 2, 0, 2, 3, 3, 3, 2, 0, 10, 9, 7, 9, 10, 2, 4, 5, 5, 10, 10, 10, 9, 7, 7, 7, 0, 3, 2, 0, 10, 10, 9, 5, 5, 10, 0, 2, 3, 5, 10, 0, 2, 3, 0, 10, 5, 2, 10, 10, 0, 10, 2, 2, 2, 0, 0, 5, 5, 5, 0, 5, 9, 7, 9, 10, 10, 5, 2, 10, 5, 2, 10, 10, 0, 2, 2, 2, 2, 0, 0, 9, 5, 5, 5, 5, 7, 9, 10, 10, 5, 2, 10, 10, 2, 10, 2, 10, 0, 2, 5, 2, 5, 0, 10, 5, 5, 0, 0, 5, 0, 10, 3, 2, 5, 0, 10, 0, 0, 9, 2, 5, 3, 5, 7, 7, 5, 3, 2, 2, 0, 5, 5, 10, 0, 10, 5, 7, 10, 7, 10, 0, 9, 5, 2, 2, 9, 7, 9, 2, 0, 10, 10, 9, 7, 2, 0, 10, 0, 9, 5, 9, 10, 5, 5, 5, 5, 3, 2, 2, 5, 5, 5, 2, 10, 5, 5, 7, 6, 7, 7, 7, 5, 5, 5, 5, 3, 2, 5, 7, 9, 10, 5, 2, 10, 5, 2, 10, 5, 5, 7, 6, 7, 7, 7, 5, 5, 5, 5, 3, 2, 0, 7, 9, 10, 5, 2, 10, 5, 5, 10, 5, 10, 5, 5, 5, 5, 5, 5, 5, 5, 7, 9, 10, 7, 7, 5, 5, 5, 10, 10, 7, 7, 0, 3, 4, 5, 5, 10, 5, 10, 10, 7, 3, 5, 5, 10, 0, 5, 2, 5, 2, 10, 10, 9, 7, 6, 7, 10, 0, 5, 5, 5, 10, 5, 7, 9, 10, 5, 2, 10, 5, 2, 10, 10, 9, 7, 6, 7, 10, 0, 5, 5, 5, 10, 5, 7, 9, 10, 5, 2, 10, 10, 10, 10, 10, 10, 10, 5, 7, 9, 5, 10, 10, 5, 7, 9, 10, 7, 0, 5, 5, 10, 2, 3, 2, 0, 0, 2, 3, 4, 5, 5, 10, 10, 7, 3, 5, 5, 10, 5, 5, 2, 2, 10, 10, 2, 2, 5, 5, 2, 10, 2, 2, 5, 5, 5, 5, 5, 2, 2, 10, 10, 9, 9, 7, 10, 10, 10, 5, 5, 2, 10, 10, 5, 5, 2, 2, 10, 10, 2, 2, 5, 5, 10, 2, 10, 2, 2, 4, 4, 5, 5, 5, 2, 2, 0, 0, 10, 10, 9, 9, 7, 7, 9, 9, 10, 10, 10, 10, 5, 5, 2, 10, 10, 2, 2, 2, 2, 2, 2, 3, 3, 5, 3, 3, 2, 2, 0, 0, 2, 2, 3, 3, 3, 3, 3, 2, 2, 10, 10, 7, 7, 10, 10, 2, 2, 5, 5, 5, 10, 10, 10, 10, 10, 10, 9, 9, 7, 7, 7, 7, 7, 7, 0, 0, 3, 3, 2, 0, 0, 10, 10, 10, 10, 9, 9, 5, 5, 5, 5, 10, 10, 0, 0, 2, 2, 5, 10, 10, 0, 0, 2, 2, 3, 3, 0, 0, 10, 10, 10, 10, 2, 10, 4, 4, 5, 0, 0, 7, 10, 2, 10, 2, 10, 5, 5, 5, 2, 5, 5, 5, 3, 0, 0, 9, 9, 9, 9, 4, 4, 5, 2, 3, 5, 0, 0, 9, 9, 0, 0, 3, 6, 5, 2, 10, 10, 0, 10, 2, 2, 7, 0, 5, 5, 2, 10, 0, 7, 8, 9, 10, 10, 5, 2, 10, 5, 2, 10, 10, 0, 2, 10, 2, 7, 2, 0, 0, 5, 7, 9, 10, 10, 5, 2, 10, 2, 10, 10, 2, 10, 0, 2, 5, 5, 5, 0, 5, 3, 2, 0, 7, 9, 10, 10, 2, 0, 9, 5, 5, 2, 5, 3, 5, 3, 7, 5, 3, 2, 2, 0, 5, 5, 5, 5, 10, 0, 10, 7, 10, 10, 0, 9, 5, 2, 9, 2, 2, 9, 5, 9, 9, 2, 9, 2, 0, 10, 0, 9, 5, 2, 0, 10, 9, 10, 0, 0, 10, 5, 5, 0, 7, 2, 2, 5, 0, 5, 5, 5, 2, 10, 10, 9, 7, 6, 7, 10, 0, 5, 5, 5, 10, 5, 7, 9, 10, 5, 2, 10, 5, 2, 10, 10, 9, 7, 6, 7, 10, 0, 5, 5, 5, 10, 5, 7, 9, 10, 5, 2, 10, 10, 10, 10, 10, 10, 10, 5, 7, 9, 5, 10, 10, 5, 7, 9, 10, 7, 0, 5, 5, 10, 2, 3, 2, 0, 0, 2, 3, 4, 5, 5, 10, 10, 7, 3, 5, 5, 10, 5, 2, 10, 5, 2, 10, 10, 10, 10, 10, 10, 9, 5, 10, 10, 10, 5, 0, 5, 5, 5, 5, 5, 5, 5, 5, 5, 5, 5, 5, 5, 5, 5, 5, 5, 10, 5, 5, 5, 5, 5, 5, 5, 5, 5, 5, 5, 5, 5, 5, 5, 5, 10, 10, 10, 10, 10, 10, 10, 10, 10, 10, 10, 10, 10, 10, 10, 10, 10, 10, 10, 7, 3, 5, 5, 5, 10, 10, 10, 10, 10, 10, 10, 10, 10, 10, 10, 10, 10, 10, 10, 10, 10, 10, 10, 1, 9, 1, 9, 1, 9, 1, 9, 1, 9, 1, 9, 1, 1, 9, 1, 9, 1, 9, 1, 9, 1, 9, 1, 9, 1, 1, 9, 5, 2, 10, 2, 5, 10, 2, 0, 10, 2, 4, 5, 5, 5, 2, 0, 10, 9, 7, 9, 10, 10, 5, 2, 10, 5, 2, 10, 2, 5, 10, 2, 0, 10, 2, 4, 5, 5, 5, 2, 0, 10, 9, 7, 9, 10, 10, 5, 2, 10, 2, 2, 2, 3, 5, 5, 3, 2, 0, 2, 3, 3, 3, 2, 0, 10, 9, 7, 9, 10, 2, 4, 5, 5, 10, 10, 10, 9, 7, 7, 7, 0, 3, 2, 0, 10, 10, 9, 5, 5, 10, 0, 2, 3, 5, 10, 0, 2, 3, 0, 10, 5, 2, 10, 10, 0, 10, 2, 2, 2, 0, 0, 5, 5, 5, 0, 5, 9, 7, 9, 10, 10, 5, 2, 10, 5, 2, 10, 10, 0, 2, 2, 2, 2, 0, 0, 9, 5, 5, 5, 5, 7, 9, 10, 10, 5, 2, 10, 10, 2, 10, 2, 10, 0, 2, 5, 2, 5, 0, 10, 5, 5, 0, 0, 5, 0, 10, 3, 2, 5, 0, 10, 0, 0, 9, 2, 5, 3, 5, 7, 7, 5, 3, 2, 2, 0, 5, 5, 10, 0, 10, 5, 7, 10, 7, 10, 0, 9, 5, 2, 2, 9, 7, 9, 2, 0, 10, 10, 9, 7, 2, 0, 10, 0, 9, 5, 9, 10, 5, 5, 5, 5, 3, 2, 2, 5, 5, 5, 2, 10, 5, 5, 7, 6, 7, 7, 7, 5, 5, 5, 5, 3, 2, 5, 7, 9, 10, 5, 2, 10, 5, 2, 10, 5, 5, 7, 6, 7, 7, 7, 5, 5, 5, 5, 3, 2, 0, 7, 9, 10, 5, 2, 10, 5, 5, 10, 5, 10, 5, 5, 5, 5, 5, 5, 5, 5, 7, 9, 10, 7, 7, 5, 5, 5, 10, 10, 7, 7, 0, 3, 4, 5, 5, 10, 5, 10, 10, 7, 3, 5, 5, 10, 0, 5, 2, 5, 2, 10, 10, 9, 7, 6, 7, 10, 0, 5, 5, 5, 10, 5, 7, 9, 10, 5, 2, 10, 5, 2, 10, 10, 9, 7, 6, 7, 10, 0, 5, 5, 5, 10, 5, 7, 9, 10, 5, 2, 10, 10, 10, 10, 10, 10, 10, 5, 7, 9, 5, 10, 10, 5, 7, 9, 10, 7, 0, 5, 5, 10, 2, 3, 2, 0, 0, 2, 3, 4, 5, 5, 10, 10, 7, 3, 5, 5, 10, 5, 5, 2, 2, 10, 10, 2, 2, 5, 5, 2, 10, 2, 2, 5, 5, 5, 5, 5, 2, 2, 10, 10, 9, 9, 7, 10, 10, 10, 5, 5, 2, 10, 10, 5, 5, 2, 2, 10, 10, 2, 2, 5, 5, 10, 2, 10, 2, 2, 4, 4, 5, 5, 5, 2, 2, 0, 0, 10, 10, 9, 9, 7, 7, 9, 9, 10, 10, 10, 10, 5, 5, 2, 10, 10, 2, 2, 2, 2, 2, 2, 3, 3, 5, 3, 3, 2, 2, 0, 0, 2, 2, 3, 3, 3, 3, 3, 2, 2, 10, 10, 7, 7, 10, 10, 2, 2, 5, 5, 5, 10, 10, 10, 10, 10, 10, 9, 9, 7, 7, 7, 7, 7, 7, 0, 0, 3, 3, 2, 0, 0, 10, 10, 10, 10, 9, 9, 5, 5, 5, 5, 10, 10, 0, 0, 2, 2, 5, 10, 10, 0, 0, 2, 2, 3, 3, 0, 0, 10, 10, 10, 10, 2, 10, 4, 4, 5, 0, 0, 7, 10, 2, 10, 2, 10, 5, 5, 5, 2, 5, 5, 5, 3, 0, 0, 9, 9, 9, 9, 4, 4, 5, 2, 3, 5, 0, 0, 9, 9, 0, 0, 3, 6, 5, 2, 10, 10, 0, 10, 2, 2, 7, 0, 5, 5, 2, 10, 0, 7, 8, 9, 10, 10, 5, 2, 10, 5, 2, 10, 10, 0, 2, 10, 2, 7, 2, 0, 0, 5, 7, 9, 10, 10, 5, 2, 10, 2, 10, 10, 2, 10, 0, 2, 5, 5, 5, 0, 5, 3, 2, 0, 7, 9, 10, 10, 2, 0, 9, 5, 5, 2, 5, 3, 5, 3, 7, 5, 3, 2, 2, 0, 5, 5, 5, 5, 10, 0, 10, 7, 10, 10, 0, 9, 5, 2, 9, 2, 2, 9, 5, 9, 9, 2, 9, 2, 0, 10, 0, 9, 5, 2, 0, 10, 9, 10, 0, 0, 10, 5, 5, 0, 7, 2, 2, 5, 0, 5, 5, 5, 2, 10, 10, 9, 7, 6, 7, 10, 0, 5, 5, 5, 10, 5, 7, 9, 10, 5, 2, 10, 5, 2, 10, 10, 9, 7, 6, 7, 10, 0, 5, 5, 5, 10, 5, 7, 9, 10, 5, 2, 10, 10, 10, 10, 10, 10, 10, 5, 7, 9, 5, 10, 10, 5, 7, 9, 10, 7, 0, 5, 5, 10, 2, 3, 2, 0, 0, 2, 3, 4, 5, 5, 10, 10, 7, 3, 5, 5, 10, 5, 2, 10, 5, 2, 10, 10, 10, 10, 10, 10, 9, 5, 10, 10, 10, 5, 0, 5, 5, 5, 5, 5, 5, 5, 5, 5, 5, 5, 5, 5, 5, 5, 5, 5, 10, 5, 5, 5, 5, 5, 5, 5, 5, 5, 5, 5, 5, 5, 5, 5, 5, 10, 10, 10, 10, 10, 10, 10, 10, 10, 10, 10, 10, 10, 10, 10, 10, 10, 10, 10, 7, 3, 5, 5, 5, 10, 10, 10, 10, 10, 10, 10, 10, 10, 10, 10, 10, 10, 10, 10, 10, 10, 10, 10, 1, 9, 1, 9, 1, 9, 1, 9, 1, 9, 1, 9, 1, 1, 9, 1, 9, 1, 9, 1, 9, 1, 9, 1, 9, 1, 1, 9]\n"
     ]
    }
   ],
   "source": [
    "normalizedPitches = extractor.getNormalizedPitches()\n",
    "print normalizedPitches"
   ]
  },
  {
   "cell_type": "code",
   "execution_count": 43,
   "metadata": {
    "collapsed": false
   },
   "outputs": [
    {
     "name": "stdout",
     "output_type": "stream",
     "text": [
      "[<music21.chord.Chord F4 F3 F2 F5 F#4>, <music21.chord.Chord F5 F4>, <music21.chord.Chord D3 D2 D5 D4>, <music21.chord.Chord D4 D3 D2 D5>, <music21.chord.Chord D4>, <music21.chord.Chord B-3 B-2 B-1 B-4 C#3 A3>, <music21.chord.Chord B-3 B-2 B-4>, <music21.chord.Chord D4 B-3 F3 B-1 D5 B-2>, <music21.chord.Chord D4 D5 B-3>, <music21.chord.Chord F4 C4 F3 A1 F5>, <music21.chord.Chord F4 F3 A1 B-4 B-5 F5 C4>, <music21.chord.Chord B-4 B-3 D4 G3 G1 B-5>, <music21.chord.Chord B-4 D4 G3 G1 B-3>, <music21.chord.Chord G3 G1>, <music21.chord.Chord D5 D4 A4 F#3 F#1 D6>, <music21.chord.Chord D4 A4 F#3 F#1 D5 D6>, <music21.chord.Chord C5 D4 A4 F#3 F#1 C6>, <music21.chord.Chord C5 A4 F#3 C6 F#1>, <music21.chord.Chord A4 F#3 C5 C6 F#1>, <music21.chord.Chord B-4 D4 G4 G3 G1 B-5>, <music21.chord.Chord B-4 D4 G4 G3 G1 B-5>, <music21.chord.Chord B-4 G4 G1 B-5>, <music21.chord.Chord D4 G3 B-1 D5 G4>, <music21.chord.Chord D4 G3 B-1 D5>, <music21.chord.Chord D4 B-1 E4 E5 D5>, <music21.chord.Chord E4 C4 G3 C2 E5>, <music21.chord.Chord E4 C2 C4>, <music21.chord.Chord F4 C4 A3 F3 F1 F5>, <music21.chord.Chord F4 C4 A3 F3 F1 F5>, <music21.chord.Chord F5 F4>, <music21.chord.Chord F4 F3 F2 F5>, <music21.chord.Chord F4 F3 F2 F5>, <music21.chord.Chord F4 F3 F2 F5>, <music21.chord.Chord F4 F3 F5 F2>, <music21.chord.Chord F4 F5 F2>, <music21.chord.Chord D5 F4 D4 F3 B-1 D6>, <music21.chord.Chord F4 D4 F3 B-1 D5 D6>, <music21.chord.Chord F4 B-1 C5 C6 D5 D6 C4 D4>, <music21.chord.Chord C5 C4 F4 E-3 B-1 C6>, <music21.chord.Chord F4 C4 B-1 C5 C6>, <music21.chord.Chord B-4 B-3 F4 D3 B-1 B-5>, <music21.chord.Chord B-4 B-3 D3 B-1 B-5 F4>, <music21.chord.Chord B-4 B-5 B-1>, <music21.chord.Chord A4 C4 F4 A3 F3 C3 F1 A5 F2>, <music21.chord.Chord A4 C4 F4 A3 F3 C3 F1 A5 F2>, <music21.chord.Chord F3 F1>, <music21.chord.Chord G4 G3 G1 G5 G2>, <music21.chord.Chord G4 A5 A4 G5 G2>, <music21.chord.Chord A4 A3 A1 A5 G#4 A2>, <music21.chord.Chord A4 A2>, <music21.chord.Chord B-4 B-3 B-1 B-5 B-2>, <music21.chord.Chord B-4 B-3 B-1 B-2>, <music21.chord.Chord B-4 B-3 B-1 B-5 B-2>, <music21.chord.Chord B-4 B-1 B-5 B-2>, <music21.chord.Chord B-4 B-5>, <music21.chord.Chord F4 F3 F2 F5>, <music21.chord.Chord F4 F5 F2>, <music21.chord.Chord D4 D3 D2 D5>, <music21.chord.Chord D4 D3 D5 D2>, <music21.chord.Chord B-3 B-2 B-1 B-4>, <music21.chord.Chord B-2 B-1 B-4 B-3>, <music21.chord.Chord F4 F3 F2 F5>, <music21.chord.Chord D4 D3 D2 D5>, <music21.chord.Chord D4 D5>, <music21.chord.Chord B-3 B-2 B-1 B-4 C#3 A3>, <music21.chord.Chord B-3 B-4 B-2>, <music21.chord.Chord D4 B-3 F3 B-1 D5 B-2>, <music21.chord.Chord B-3 D4 D5 B-1 B-2>, <music21.chord.Chord F4 C4 F3 A1 F5>, <music21.chord.Chord F4 C4 F5 A1>, <music21.chord.Chord B-4 D4 B-3 G3 G1 B-5>, <music21.chord.Chord B-4 D4 G3 G1 B-5>, <music21.chord.Chord B-4 G3 G1>, <music21.chord.Chord D5 D4 A4 F#3 F#1 D6>, <music21.chord.Chord D4 A4 F#3 F#1 D5 D6>, <music21.chord.Chord C5 D4 A4 F#3 F#1 C6 D6>, <music21.chord.Chord C5 A4 F#3 F#1 C6>, <music21.chord.Chord A4 F#3 F#1 C6 C5>, <music21.chord.Chord B-4 D4 G4 G3 G1 B-5>, <music21.chord.Chord B-4 G4 G1 B-5>, <music21.chord.Chord D4 G4 G3 B-1 D5>, <music21.chord.Chord D4 G3 B-1 D5>, <music21.chord.Chord D4 B-1 D5>, <music21.chord.Chord E4 C4 G3 C2 E5>, <music21.chord.Chord G3 E4 E5 C2>, <music21.chord.Chord F4 C4 A3 F3 F1 F5>, <music21.chord.Chord F4 C4 A3 F3 F1 F5>, <music21.chord.Chord F4 C4 A3 F1>, <music21.chord.Chord F4 F3 F2 F5>, <music21.chord.Chord F4 F3 F2 F5>, <music21.chord.Chord F4 F5>, <music21.chord.Chord F4 F3 F2 F5>, <music21.chord.Chord F4 F5 F2>, <music21.chord.Chord F2>, <music21.chord.Chord D5 F4 D4 F3 B-1 D6>, <music21.chord.Chord D5 F4 F3 B-1 D6 D4>, <music21.chord.Chord F4 B-1 D5 D6>, <music21.chord.Chord C5 C4 F4 E-3 B-1 C6>, <music21.chord.Chord F4 C4 B-1 C5 C6>, <music21.chord.Chord B-4 B-3 F4 D3 B-1 B-5>, <music21.chord.Chord B-4 B-3 D3 B-1 B-5 F4>, <music21.chord.Chord B-4 B-5 F4>, <music21.chord.Chord A4 F4 C4 A3 C3 F3 F1 A5>, <music21.chord.Chord A4 F4 C4 A3 F3 F1 A5>, <music21.chord.Chord A4 F4 F3 F1 C4 A3>, <music21.chord.Chord G4 G3 G1 G5 G2>, <music21.chord.Chord G4 G5 G2>, <music21.chord.Chord A4 A3 A1 A5 A2>, <music21.chord.Chord A4 A5 A2>, <music21.chord.Chord B-4 B-3 B-1 B-5 B-2>, <music21.chord.Chord B-3 B-1 B-2>, <music21.chord.Chord B-4 B-3 B-1 B-5 B-2>, <music21.chord.Chord B-4 B-1 B-5 B-2>, <music21.chord.Chord B-4 B-5 B-2>, <music21.chord.Chord F4 F3 F2 F5>, <music21.chord.Chord F5 F4 D2 F2>, <music21.chord.Chord D4 D3 D2 D5>, <music21.chord.Chord D4 D3 D2 D5>, <music21.chord.Chord B-3 B-2 B-1 B-4>, <music21.chord.Chord B-3 B-2 B-1 B-4>, <music21.chord.Chord B-3 B-1 B-4>, <music21.chord.Chord D5 B-4 D4 F3 B-1 D6 B-2>, <music21.chord.Chord D5 B-4 D4 F3 B-1>, <music21.chord.Chord D5 B-4 D4 F3 B-1 D6 B-2>, <music21.chord.Chord F3>, <music21.chord.Chord D5 B-4 F4 B-3 B-1 D6 B-2 C#3 A3>, <music21.chord.Chord F4 B-3 B-1 D5 D6 B-4 B-2>, <music21.chord.Chord E-5 C5 F4 B-3 B-1 E-6 B-2>, <music21.chord.Chord E-5 C5 B-3 B-1 F5 F6 E-6 F4>, <music21.chord.Chord F5 D5 F4 F3 B-1 F6 B-2>, <music21.chord.Chord F5 D5 F4 F3 B-1 F6>, <music21.chord.Chord F3>, <music21.chord.Chord F5 D5 F4 B-3 B-1 F6 B-2 C#3 A3>, <music21.chord.Chord F5 D5 F4 B-3 B-1 F6>, <music21.chord.Chord F6 F4>, <music21.chord.Chord E-5 C5 F3 B-1 E-6 F4>, <music21.chord.Chord D5 F3 B-1 E-6 E-5 F4 C5>, <music21.chord.Chord D5 B-4 F3 B-1 D6 F4>, <music21.chord.Chord B-4 F3 B-1 D5 D6 F4>, <music21.chord.Chord B-4 B-1 D5 D6>, <music21.chord.Chord B-1 D5 D6 B-4>, <music21.chord.Chord C5 F4 A4 F3 F1 C6>, <music21.chord.Chord D5 B-4 F4 F3 F1 D6>, <music21.chord.Chord D5 B-4 D6 F4>, <music21.chord.Chord E-5 F4 C5 F3 G1 E-6>, <music21.chord.Chord G1>, <music21.chord.Chord E-5 C5 F4 F3 A1 E-6 A2 C#3 A3>, <music21.chord.Chord E-5 C5 F4 F3 A1 E-6>, <music21.chord.Chord A1>, <music21.chord.Chord E-5 C5 F4 F3 F1 E-6 F2>, <music21.chord.Chord F1 E-6 E-5 F4 C5 F2>, <music21.chord.Chord D5 B-4 F4 F3 B-1 D6 B-2 C#3 A3>, <music21.chord.Chord D5 B-4 F4 F3 B-1 D6>, <music21.chord.Chord B-4 F3 B-1 C5 C6 D6 D5 F4>, <music21.chord.Chord C5 E-4 F3 B-1 C6 B-4 B-2>, <music21.chord.Chord C5 E-4 C6 B-4>, <music21.chord.Chord E-4 B-4>, <music21.chord.Chord B-4 D4 F4 F3 B-1 B-5 B-2>, <music21.chord.Chord B-4 D4 B-1 A4 A5 B-5>, <music21.chord.Chord A4 F4 C4 F3 F1 A5 F2 C#3>, <music21.chord.Chord A4 F4 C4 F3 F1 F2>, <music21.chord.Chord A4 F4 C4 F3 F1 F2>, <music21.chord.Chord F4 C4 F2>, <music21.chord.Chord G4 G3 G2 G5>, <music21.chord.Chord G3 A4 A5 G4 G5 G2>, <music21.chord.Chord A4 A3 A2 A5>, <music21.chord.Chord A4 A2>, <music21.chord.Chord B-4 B-3 B-2 B-5>, <music21.chord.Chord D4 B-3 G3 G2 D5>, <music21.chord.Chord D4 B-3 G2 E4 E5 D5>, <music21.chord.Chord E4 C4 G3 C2 E5 C3>, <music21.chord.Chord E4 C4 G3 C2 E5>, <music21.chord.Chord E4 G3 C2 C4>, <music21.chord.Chord F4 C4 A3 F3 F1 F5 F2 C#3>, <music21.chord.Chord F4 C4 A3 F3 F1 F5>, <music21.chord.Chord F4 C4 A3 F3 F1 F5 F2>, <music21.chord.Chord F4 C4 A3 F3 F1 F5 F2>, <music21.chord.Chord F4 C4 A3 F3 F1 F5 F2>, <music21.chord.Chord F4 C4 A3 F3 F1 F5 F2>, <music21.chord.Chord F4 C4 A3 F3 F1 F5 F2>, <music21.chord.Chord F4 C4 A3 F3 F1 F5 F2>, <music21.chord.Chord F4 C4 A3 F3 F1 F5 F2>, <music21.chord.Chord F4 C4 A3 F1 F5 F2>, <music21.chord.Chord F4 C4 A3 F2>, <music21.chord.Chord F4 F3 F2 F5 C#3>, <music21.chord.Chord F4 F3 F2 F5>, <music21.chord.Chord F4 F3 F2 F5>, <music21.chord.Chord F4 F2 F5>, <music21.chord.Chord F4 F2 F5>, <music21.chord.Chord B-4 D4 F4 F3 B-1 B-5 B-2 A3>, <music21.chord.Chord B-4 D4 F4 F3 B-1 B-2>, <music21.chord.Chord B-4 D4 F4 F3 B-1 B-5>, <music21.chord.Chord D4 F3 B-1>, <music21.chord.Chord B-4 F4 B-3 D2 B-5>, <music21.chord.Chord F4 B-3 D2 B-5 B-4>, <music21.chord.Chord A4 F4 B-3 D2 A5>, <music21.chord.Chord A4 F4 D2 A5>, <music21.chord.Chord F4 D2 A4 A5>, <music21.chord.Chord G4 E-4 B-3 E-2 G5>, <music21.chord.Chord G4 E-4 B-3 E-2>, <music21.chord.Chord G4 E-4 B-3 E-2 G5>, <music21.chord.Chord G4 E-4 B-3 E-2 G5>, <music21.chord.Chord B-3 G4 G5 E-4>, <music21.chord.Chord G4 F4 G3 D2 G5>, <music21.chord.Chord G4 C6 C5 D2>, <music21.chord.Chord C5 G4 E-4 G3 C2 C6>, <music21.chord.Chord C5 E-4>, <music21.chord.Chord E-5 G4 C3 C2 E-6>, <music21.chord.Chord E-5 G4 D3 C3 E-6 D2 C2>, <music21.chord.Chord D5 F4 D3 D2 D6>, <music21.chord.Chord F4>, <music21.chord.Chord C5 E-4 E-3 E-2 C6>, <music21.chord.Chord C5 E-4 C6>, <music21.chord.Chord B-4 D4 E3 E2 B-5>, <music21.chord.Chord E2>, <music21.chord.Chord B-4 D4 F3 F2 B-5 C#3>, <music21.chord.Chord B-4 D4 F3 F2 B-5>, <music21.chord.Chord A4 C4 F3 F2 A5 A3>, <music21.chord.Chord A4 C4 F3 F2 A5>, <music21.chord.Chord A4 C4 F3 F2 A5>, <music21.chord.Chord A4 C4 F3 F2 A5>, <music21.chord.Chord A4 C4 F3 F2 A5>, <music21.chord.Chord A4 C4 F3 F2 A5>, <music21.chord.Chord A4 C4 F3 F2 A5>, <music21.chord.Chord A4 C4 F3 F2 A5>, <music21.chord.Chord A4 C4 F3 A5 F2>, <music21.chord.Chord F2>, <music21.chord.Chord F4 F3 F2 F5>, <music21.chord.Chord F3 F2>, <music21.chord.Chord F4 F3 F2 F5>, <music21.chord.Chord F4 F3 F2 F5>, <music21.chord.Chord F3 F2 F4 F5>, <music21.chord.Chord B-4 F4 D4 B-3 B-1 B-5 B-2 C#3 A3>, <music21.chord.Chord B-4 F4 B-3 B-1 B-5 D4 B-2>, <music21.chord.Chord B-4 B-3 B-1 B-5 D4>, <music21.chord.Chord B-1 B-5 B-4 D4>, <music21.chord.Chord C5 F4 F3 B-1 C6 B-2>, <music21.chord.Chord C5 F4 F3 B-1 C6>, <music21.chord.Chord D5 B-4 B-3 B-1 D6 B-2>, <music21.chord.Chord D5 B-4 B-3 B-1 D6>, <music21.chord.Chord D5 B-4 B-3 B-1 E-6 E-5 D6>, <music21.chord.Chord E-5 C5 B-3 B-1 E-6 B-2>, <music21.chord.Chord E-5 C5 B-3 B-1 B-2>, <music21.chord.Chord E-5 C5>, <music21.chord.Chord C5>, <music21.chord.Chord F5 B-4 F4 D5 B-3 B-1 F6 B-2 C#3 A3>, <music21.chord.Chord F5 B-4 F4 D5 B-3 B-1 F6 B-2>, <music21.chord.Chord F5 B-4 F4 D5 B-3 B-1 F6 B-2>, <music21.chord.Chord F5 B-4 F4 D5 B-3 B-1 F6 B-2>, <music21.chord.Chord F5 B-4 F4 D5 B-3 B-1 F6 B-2>, <music21.chord.Chord F5 B-4 F4 D5 B-3 B-1 F6 B-2>, <music21.chord.Chord F5 B-4 F4 D5 B-3 B-1 F6 B-2>, <music21.chord.Chord F5 B-4 F4 D5 B-3 B-1 F6 B-2>, <music21.chord.Chord F5 B-4 F4 D5 B-3 B-1 F6 B-2>, <music21.chord.Chord F5 B-4 F4 D5 B-3 B-1 F6 B-2>, <music21.chord.Chord F5 D5 B-3 B-1 F6 B-4>, <music21.chord.Chord B-4 G4 G3 G2 B-5>, <music21.chord.Chord B-4 G4 G3 G2 B-5>, <music21.chord.Chord G2 B-4 B-5 G4>, <music21.chord.Chord C5 B-4 G4 E-3 E-2 C6>, <music21.chord.Chord C5 E-3 E-2 C6>, <music21.chord.Chord D5 B-4 F4 F3 F2 D6 C#3 A3>, <music21.chord.Chord D5 B-4 F4 F3 F2 D6>, <music21.chord.Chord B-4 F4 F3 F2>, <music21.chord.Chord E-5 C5 F4 F3 F2 E-6>, <music21.chord.Chord E-5 C5 F4 F3 F2 E-6>, <music21.chord.Chord E-5 C5 E-6 F4>, <music21.chord.Chord E-5 E-6 C5 F4>, <music21.chord.Chord C5 A4 F4 F3 F1 C6 F2 C#3>, <music21.chord.Chord C5 A4 F3 F1 C6 F2>, <music21.chord.Chord A4 F3 F1 C5 C6>, <music21.chord.Chord B-4 F4 D4 B-2 B-1 B-5 C#3 A3>, <music21.chord.Chord B-4 F4 D4 B-2 B-1 B-5>, <music21.chord.Chord B-4 F4 D4 B-2 B-1 B-5>, <music21.chord.Chord B-4 F4 D4 B-2 B-1 B-5>, <music21.chord.Chord B-4 F4 D4 B-2 B-1 B-5>, <music21.chord.Chord B-4 F4 D4 B-2 B-1 B-5>, <music21.chord.Chord B-4 F4 D4 B-2 B-1 B-5>, <music21.chord.Chord B-4 F4 D4 B-2 B-1 B-5>, <music21.chord.Chord B-4 F4 D4 B-2 B-1 B-5>, <music21.chord.Chord B-4 F4 D4 B-2 B-1 B-5>, <music21.chord.Chord B-4 F4 D4 B-2 B-1 B-5>, <music21.chord.Chord B-4 F4 D4 B-2 B-1 B-5>, <music21.chord.Chord B-4 F4 D4 B-2 B-1 B-5>, <music21.chord.Chord B-4 F4 D4 B-2 B-1 B-5>, <music21.chord.Chord B-2>]\n"
     ]
    }
   ],
   "source": [
    "print extractor.chords"
   ]
  },
  {
   "cell_type": "code",
   "execution_count": 14,
   "metadata": {
    "collapsed": false
   },
   "outputs": [
    {
     "name": "stdout",
     "output_type": "stream",
     "text": [
      "[]\n"
     ]
    }
   ],
   "source": []
  }
 ],
 "metadata": {
  "kernelspec": {
   "display_name": "Python 2",
   "language": "python",
   "name": "python2"
  },
  "language_info": {
   "codemirror_mode": {
    "name": "ipython",
    "version": 2
   },
   "file_extension": ".py",
   "mimetype": "text/x-python",
   "name": "python",
   "nbconvert_exporter": "python",
   "pygments_lexer": "ipython2",
   "version": "2.7.13"
  }
 },
 "nbformat": 4,
 "nbformat_minor": 2
}
